{
 "cells": [
  {
   "cell_type": "code",
   "execution_count": 26,
   "metadata": {},
   "outputs": [],
   "source": [
    "import pandas as pd\n",
    "import numpy as np\n",
    "import re\n",
    "import os\n",
    "from ast import literal_eval\n",
    "from sklearn.preprocessing import StandardScaler, MinMaxScaler\n",
    "from sklearn.compose import ColumnTransformer\n",
    "from sklearn.pipeline import Pipeline\n",
    "from sklearn.model_selection import train_test_split\n"
   ]
  },
  {
   "cell_type": "code",
   "execution_count": 27,
   "metadata": {},
   "outputs": [],
   "source": [
    "pickle_location = r'/Users/louishagenbucher/Documents/GitHub/mtg_nlp_price_prediction/d:\\temp\\pickle_file'\n",
    "df = pd.read_pickle(pickle_location)\n"
   ]
  },
  {
   "cell_type": "code",
   "execution_count": 28,
   "metadata": {},
   "outputs": [
    {
     "data": {
      "text/html": [
       "<div>\n",
       "<style scoped>\n",
       "    .dataframe tbody tr th:only-of-type {\n",
       "        vertical-align: middle;\n",
       "    }\n",
       "\n",
       "    .dataframe tbody tr th {\n",
       "        vertical-align: top;\n",
       "    }\n",
       "\n",
       "    .dataframe thead th {\n",
       "        text-align: right;\n",
       "    }\n",
       "</style>\n",
       "<table border=\"1\" class=\"dataframe\">\n",
       "  <thead>\n",
       "    <tr style=\"text-align: right;\">\n",
       "      <th></th>\n",
       "      <th>name</th>\n",
       "      <th>cmc</th>\n",
       "      <th>B</th>\n",
       "      <th>C</th>\n",
       "      <th>G</th>\n",
       "      <th>N</th>\n",
       "      <th>R</th>\n",
       "      <th>U</th>\n",
       "      <th>W</th>\n",
       "      <th>legendary</th>\n",
       "      <th>...</th>\n",
       "      <th>rarity_rare</th>\n",
       "      <th>rarity_special</th>\n",
       "      <th>rarity_uncommon</th>\n",
       "      <th>released_at</th>\n",
       "      <th>booster</th>\n",
       "      <th>types_embedding</th>\n",
       "      <th>sub_type_embedding</th>\n",
       "      <th>keywords_embedding</th>\n",
       "      <th>text_embeddings</th>\n",
       "      <th>usd</th>\n",
       "    </tr>\n",
       "  </thead>\n",
       "  <tbody>\n",
       "    <tr>\n",
       "      <th>0</th>\n",
       "      <td>+2 Mace</td>\n",
       "      <td>2.0</td>\n",
       "      <td>0</td>\n",
       "      <td>0</td>\n",
       "      <td>0</td>\n",
       "      <td>0</td>\n",
       "      <td>0</td>\n",
       "      <td>0</td>\n",
       "      <td>1</td>\n",
       "      <td>0</td>\n",
       "      <td>...</td>\n",
       "      <td>0.0</td>\n",
       "      <td>0.0</td>\n",
       "      <td>0.0</td>\n",
       "      <td>2021-07-23</td>\n",
       "      <td>1</td>\n",
       "      <td>[-0.007598841, 0.0013788732, -0.006743228, -0....</td>\n",
       "      <td>[-0.027093768, 0.054746334, -0.01797754, -0.07...</td>\n",
       "      <td>[-0.08516706, 0.13195656, -0.026486708, -0.013...</td>\n",
       "      <td>[[-0.43040189146995544, -0.4970492124557495, 0...</td>\n",
       "      <td>0.02</td>\n",
       "    </tr>\n",
       "    <tr>\n",
       "      <th>1</th>\n",
       "      <td>Aarakocra Sneak</td>\n",
       "      <td>4.0</td>\n",
       "      <td>0</td>\n",
       "      <td>0</td>\n",
       "      <td>0</td>\n",
       "      <td>0</td>\n",
       "      <td>0</td>\n",
       "      <td>1</td>\n",
       "      <td>0</td>\n",
       "      <td>0</td>\n",
       "      <td>...</td>\n",
       "      <td>0.0</td>\n",
       "      <td>0.0</td>\n",
       "      <td>0.0</td>\n",
       "      <td>2022-06-10</td>\n",
       "      <td>1</td>\n",
       "      <td>[-0.0017277271, 0.0008729596, 0.0071197986, 0....</td>\n",
       "      <td>[-0.08840044, 0.24980876, -0.044583265, -0.380...</td>\n",
       "      <td>[-0.20399831, 0.28901207, -0.048621196, -0.025...</td>\n",
       "      <td>[[-0.16684836149215698, -0.23930270969867706, ...</td>\n",
       "      <td>0.06</td>\n",
       "    </tr>\n",
       "    <tr>\n",
       "      <th>2</th>\n",
       "      <td>Abaddon the Despoiler</td>\n",
       "      <td>5.0</td>\n",
       "      <td>1</td>\n",
       "      <td>0</td>\n",
       "      <td>0</td>\n",
       "      <td>0</td>\n",
       "      <td>1</td>\n",
       "      <td>1</td>\n",
       "      <td>0</td>\n",
       "      <td>1</td>\n",
       "      <td>...</td>\n",
       "      <td>0.0</td>\n",
       "      <td>0.0</td>\n",
       "      <td>0.0</td>\n",
       "      <td>2022-10-07</td>\n",
       "      <td>0</td>\n",
       "      <td>[-0.0017277271, 0.0008729596, 0.0071197986, 0....</td>\n",
       "      <td>[-0.090877846, 0.22575285, -0.036203165, -0.32...</td>\n",
       "      <td>[-0.16338894, 0.25493696, -0.046598416, -0.027...</td>\n",
       "      <td>[[-0.23658572137355804, -0.27686968445777893, ...</td>\n",
       "      <td>2.81</td>\n",
       "    </tr>\n",
       "    <tr>\n",
       "      <th>3</th>\n",
       "      <td>Abandoned Outpost</td>\n",
       "      <td>0.0</td>\n",
       "      <td>0</td>\n",
       "      <td>0</td>\n",
       "      <td>0</td>\n",
       "      <td>1</td>\n",
       "      <td>0</td>\n",
       "      <td>0</td>\n",
       "      <td>0</td>\n",
       "      <td>0</td>\n",
       "      <td>...</td>\n",
       "      <td>0.0</td>\n",
       "      <td>0.0</td>\n",
       "      <td>0.0</td>\n",
       "      <td>2001-10-01</td>\n",
       "      <td>1</td>\n",
       "      <td>[-0.010446079, 0.0029960414, 0.0013583362, -0....</td>\n",
       "      <td>[-0.00053622725, 0.00023643136, 0.0051033497, ...</td>\n",
       "      <td>[-0.00053622725, 0.00023643136, 0.0051033497, ...</td>\n",
       "      <td>[[-0.34767621755599976, -0.5046898722648621, -...</td>\n",
       "      <td>0.14</td>\n",
       "    </tr>\n",
       "    <tr>\n",
       "      <th>4</th>\n",
       "      <td>Abandoned Sarcophagus</td>\n",
       "      <td>3.0</td>\n",
       "      <td>0</td>\n",
       "      <td>1</td>\n",
       "      <td>0</td>\n",
       "      <td>0</td>\n",
       "      <td>0</td>\n",
       "      <td>0</td>\n",
       "      <td>0</td>\n",
       "      <td>0</td>\n",
       "      <td>...</td>\n",
       "      <td>1.0</td>\n",
       "      <td>0.0</td>\n",
       "      <td>0.0</td>\n",
       "      <td>2020-04-17</td>\n",
       "      <td>0</td>\n",
       "      <td>[-0.007598841, 0.0013788732, -0.006743228, -0....</td>\n",
       "      <td>[-0.00053622725, 0.00023643136, 0.0051033497, ...</td>\n",
       "      <td>[-0.00053622725, 0.00023643136, 0.0051033497, ...</td>\n",
       "      <td>[[-0.037254445254802704, -0.20066097378730774,...</td>\n",
       "      <td>0.09</td>\n",
       "    </tr>\n",
       "  </tbody>\n",
       "</table>\n",
       "<p>5 rows × 25 columns</p>\n",
       "</div>"
      ],
      "text/plain": [
       "                    name  cmc  B  C  G  N  R  U  W  legendary  ...  \\\n",
       "0                +2 Mace  2.0  0  0  0  0  0  0  1          0  ...   \n",
       "1        Aarakocra Sneak  4.0  0  0  0  0  0  1  0          0  ...   \n",
       "2  Abaddon the Despoiler  5.0  1  0  0  0  1  1  0          1  ...   \n",
       "3      Abandoned Outpost  0.0  0  0  0  1  0  0  0          0  ...   \n",
       "4  Abandoned Sarcophagus  3.0  0  1  0  0  0  0  0          0  ...   \n",
       "\n",
       "  rarity_rare rarity_special  rarity_uncommon  released_at  booster  \\\n",
       "0         0.0            0.0              0.0   2021-07-23        1   \n",
       "1         0.0            0.0              0.0   2022-06-10        1   \n",
       "2         0.0            0.0              0.0   2022-10-07        0   \n",
       "3         0.0            0.0              0.0   2001-10-01        1   \n",
       "4         1.0            0.0              0.0   2020-04-17        0   \n",
       "\n",
       "                                     types_embedding  \\\n",
       "0  [-0.007598841, 0.0013788732, -0.006743228, -0....   \n",
       "1  [-0.0017277271, 0.0008729596, 0.0071197986, 0....   \n",
       "2  [-0.0017277271, 0.0008729596, 0.0071197986, 0....   \n",
       "3  [-0.010446079, 0.0029960414, 0.0013583362, -0....   \n",
       "4  [-0.007598841, 0.0013788732, -0.006743228, -0....   \n",
       "\n",
       "                                  sub_type_embedding  \\\n",
       "0  [-0.027093768, 0.054746334, -0.01797754, -0.07...   \n",
       "1  [-0.08840044, 0.24980876, -0.044583265, -0.380...   \n",
       "2  [-0.090877846, 0.22575285, -0.036203165, -0.32...   \n",
       "3  [-0.00053622725, 0.00023643136, 0.0051033497, ...   \n",
       "4  [-0.00053622725, 0.00023643136, 0.0051033497, ...   \n",
       "\n",
       "                                  keywords_embedding  \\\n",
       "0  [-0.08516706, 0.13195656, -0.026486708, -0.013...   \n",
       "1  [-0.20399831, 0.28901207, -0.048621196, -0.025...   \n",
       "2  [-0.16338894, 0.25493696, -0.046598416, -0.027...   \n",
       "3  [-0.00053622725, 0.00023643136, 0.0051033497, ...   \n",
       "4  [-0.00053622725, 0.00023643136, 0.0051033497, ...   \n",
       "\n",
       "                                     text_embeddings   usd  \n",
       "0  [[-0.43040189146995544, -0.4970492124557495, 0...  0.02  \n",
       "1  [[-0.16684836149215698, -0.23930270969867706, ...  0.06  \n",
       "2  [[-0.23658572137355804, -0.27686968445777893, ...  2.81  \n",
       "3  [[-0.34767621755599976, -0.5046898722648621, -...  0.14  \n",
       "4  [[-0.037254445254802704, -0.20066097378730774,...  0.09  \n",
       "\n",
       "[5 rows x 25 columns]"
      ]
     },
     "execution_count": 28,
     "metadata": {},
     "output_type": "execute_result"
    }
   ],
   "source": [
    "df.head()"
   ]
  },
  {
   "cell_type": "code",
   "execution_count": 29,
   "metadata": {},
   "outputs": [
    {
     "data": {
      "text/plain": [
       "(100,)"
      ]
     },
     "execution_count": 29,
     "metadata": {},
     "output_type": "execute_result"
    }
   ],
   "source": [
    "df['types_embedding'][0].shape"
   ]
  },
  {
   "cell_type": "code",
   "execution_count": 30,
   "metadata": {},
   "outputs": [
    {
     "data": {
      "text/plain": [
       "(100,)"
      ]
     },
     "execution_count": 30,
     "metadata": {},
     "output_type": "execute_result"
    }
   ],
   "source": [
    "df['sub_type_embedding'][0].shape"
   ]
  },
  {
   "cell_type": "code",
   "execution_count": 31,
   "metadata": {},
   "outputs": [
    {
     "data": {
      "text/plain": [
       "(100,)"
      ]
     },
     "execution_count": 31,
     "metadata": {},
     "output_type": "execute_result"
    }
   ],
   "source": [
    "df['keywords_embedding'][0].shape"
   ]
  },
  {
   "cell_type": "code",
   "execution_count": 32,
   "metadata": {},
   "outputs": [],
   "source": [
    "df['text_embeddings']= df['text_embeddings'].apply(np.array)"
   ]
  },
  {
   "cell_type": "code",
   "execution_count": 33,
   "metadata": {},
   "outputs": [
    {
     "data": {
      "text/plain": [
       "(1, 768)"
      ]
     },
     "execution_count": 33,
     "metadata": {},
     "output_type": "execute_result"
    }
   ],
   "source": [
    "df['text_embeddings'][0].shape"
   ]
  },
  {
   "cell_type": "code",
   "execution_count": 34,
   "metadata": {},
   "outputs": [
    {
     "data": {
      "text/plain": [
       "(768,)"
      ]
     },
     "execution_count": 34,
     "metadata": {},
     "output_type": "execute_result"
    }
   ],
   "source": [
    "def reshape_array(arr):\n",
    "    return arr.reshape(768,)\n",
    "\n",
    "df['text_embeddings'] = df['text_embeddings'].apply(reshape_array)\n",
    "df['text_embeddings'][0].shape"
   ]
  },
  {
   "cell_type": "code",
   "execution_count": 35,
   "metadata": {},
   "outputs": [
    {
     "name": "stderr",
     "output_type": "stream",
     "text": [
      "/var/folders/tm/jmhp8xvj4_d4hh_01cf1jt_r0000gn/T/ipykernel_36491/928793170.py:2: FutureWarning: Series.__getitem__ treating keys as positions is deprecated. In a future version, integer keys will always be treated as labels (consistent with DataFrame behavior). To access a value by position, use `ser.iloc[pos]`\n",
      "  df['combined_embedding'] = df[embedding_columns].apply(np.concatenate, axis=1)\n"
     ]
    }
   ],
   "source": [
    "embedding_columns = ['types_embedding', 'sub_type_embedding', 'keywords_embedding', 'text_embeddings']\n",
    "df['combined_embedding'] = df[embedding_columns].apply(np.concatenate, axis=1)"
   ]
  },
  {
   "cell_type": "code",
   "execution_count": 36,
   "metadata": {},
   "outputs": [
    {
     "data": {
      "text/plain": [
       "(1068,)"
      ]
     },
     "execution_count": 36,
     "metadata": {},
     "output_type": "execute_result"
    }
   ],
   "source": [
    "df.combined_embedding[0].shape"
   ]
  },
  {
   "cell_type": "code",
   "execution_count": 37,
   "metadata": {},
   "outputs": [
    {
     "data": {
      "text/plain": [
       "Index(['name', 'cmc', 'B', 'C', 'G', 'N', 'R', 'U', 'W', 'legendary', 'power',\n",
       "       'toughness', 'reserved', 'rarity_common', 'rarity_mythic',\n",
       "       'rarity_rare', 'rarity_special', 'rarity_uncommon', 'released_at',\n",
       "       'booster', 'types_embedding', 'sub_type_embedding',\n",
       "       'keywords_embedding', 'text_embeddings', 'usd', 'combined_embedding'],\n",
       "      dtype='object')"
      ]
     },
     "execution_count": 37,
     "metadata": {},
     "output_type": "execute_result"
    }
   ],
   "source": [
    "df.columns"
   ]
  },
  {
   "cell_type": "code",
   "execution_count": 38,
   "metadata": {},
   "outputs": [],
   "source": [
    "df = df[['name','B', 'C', 'G', 'N', 'R', 'U', 'W', 'legendary',\n",
    "         'reserved', 'rarity_common', 'rarity_mythic',\n",
    "       'rarity_rare', 'rarity_special', 'rarity_uncommon',\n",
    "       'booster', 'cmc' ,'power', 'toughness',\n",
    "       'combined_embedding', 'released_at', 'usd']]"
   ]
  },
  {
   "cell_type": "code",
   "execution_count": 39,
   "metadata": {},
   "outputs": [
    {
     "data": {
      "text/html": [
       "<div>\n",
       "<style scoped>\n",
       "    .dataframe tbody tr th:only-of-type {\n",
       "        vertical-align: middle;\n",
       "    }\n",
       "\n",
       "    .dataframe tbody tr th {\n",
       "        vertical-align: top;\n",
       "    }\n",
       "\n",
       "    .dataframe thead th {\n",
       "        text-align: right;\n",
       "    }\n",
       "</style>\n",
       "<table border=\"1\" class=\"dataframe\">\n",
       "  <thead>\n",
       "    <tr style=\"text-align: right;\">\n",
       "      <th></th>\n",
       "      <th>name</th>\n",
       "      <th>B</th>\n",
       "      <th>C</th>\n",
       "      <th>G</th>\n",
       "      <th>N</th>\n",
       "      <th>R</th>\n",
       "      <th>U</th>\n",
       "      <th>W</th>\n",
       "      <th>legendary</th>\n",
       "      <th>reserved</th>\n",
       "      <th>...</th>\n",
       "      <th>rarity_rare</th>\n",
       "      <th>rarity_special</th>\n",
       "      <th>rarity_uncommon</th>\n",
       "      <th>booster</th>\n",
       "      <th>cmc</th>\n",
       "      <th>power</th>\n",
       "      <th>toughness</th>\n",
       "      <th>combined_embedding</th>\n",
       "      <th>released_at</th>\n",
       "      <th>usd</th>\n",
       "    </tr>\n",
       "  </thead>\n",
       "  <tbody>\n",
       "    <tr>\n",
       "      <th>5345</th>\n",
       "      <td>Desecrator Hag</td>\n",
       "      <td>1</td>\n",
       "      <td>0</td>\n",
       "      <td>1</td>\n",
       "      <td>0</td>\n",
       "      <td>0</td>\n",
       "      <td>0</td>\n",
       "      <td>0</td>\n",
       "      <td>0</td>\n",
       "      <td>0</td>\n",
       "      <td>...</td>\n",
       "      <td>0.0</td>\n",
       "      <td>0.0</td>\n",
       "      <td>0.0</td>\n",
       "      <td>0</td>\n",
       "      <td>4.0</td>\n",
       "      <td>2</td>\n",
       "      <td>2</td>\n",
       "      <td>[-0.0017277271253988147, 0.000872959615662694,...</td>\n",
       "      <td>2018-06-08</td>\n",
       "      <td>0.12</td>\n",
       "    </tr>\n",
       "  </tbody>\n",
       "</table>\n",
       "<p>1 rows × 22 columns</p>\n",
       "</div>"
      ],
      "text/plain": [
       "                name  B  C  G  N  R  U  W  legendary  reserved  ...  \\\n",
       "5345  Desecrator Hag  1  0  1  0  0  0  0          0         0  ...   \n",
       "\n",
       "      rarity_rare  rarity_special  rarity_uncommon  booster  cmc  power  \\\n",
       "5345          0.0             0.0              0.0        0  4.0      2   \n",
       "\n",
       "      toughness                                 combined_embedding  \\\n",
       "5345          2  [-0.0017277271253988147, 0.000872959615662694,...   \n",
       "\n",
       "     released_at   usd  \n",
       "5345  2018-06-08  0.12  \n",
       "\n",
       "[1 rows x 22 columns]"
      ]
     },
     "execution_count": 39,
     "metadata": {},
     "output_type": "execute_result"
    }
   ],
   "source": [
    "df.sample(1)"
   ]
  },
  {
   "cell_type": "code",
   "execution_count": 40,
   "metadata": {},
   "outputs": [],
   "source": [
    "df['released_at'] = pd.to_datetime(df['released_at'])\n",
    "reference_date = df['released_at'].min()\n",
    "df['days_since_release'] = (df['released_at'] - reference_date).dt.days\n",
    "df.drop(columns='released_at', inplace=True)"
   ]
  },
  {
   "cell_type": "code",
   "execution_count": 41,
   "metadata": {},
   "outputs": [
    {
     "data": {
      "text/plain": [
       "Index(['name', 'B', 'C', 'G', 'N', 'R', 'U', 'W', 'legendary', 'reserved',\n",
       "       'rarity_common', 'rarity_mythic', 'rarity_rare', 'rarity_special',\n",
       "       'rarity_uncommon', 'booster', 'cmc', 'power', 'toughness',\n",
       "       'combined_embedding', 'usd', 'days_since_release'],\n",
       "      dtype='object')"
      ]
     },
     "execution_count": 41,
     "metadata": {},
     "output_type": "execute_result"
    }
   ],
   "source": [
    "df.columns"
   ]
  },
  {
   "cell_type": "code",
   "execution_count": 42,
   "metadata": {},
   "outputs": [
    {
     "data": {
      "text/html": [
       "<div>\n",
       "<style scoped>\n",
       "    .dataframe tbody tr th:only-of-type {\n",
       "        vertical-align: middle;\n",
       "    }\n",
       "\n",
       "    .dataframe tbody tr th {\n",
       "        vertical-align: top;\n",
       "    }\n",
       "\n",
       "    .dataframe thead th {\n",
       "        text-align: right;\n",
       "    }\n",
       "</style>\n",
       "<table border=\"1\" class=\"dataframe\">\n",
       "  <thead>\n",
       "    <tr style=\"text-align: right;\">\n",
       "      <th></th>\n",
       "      <th>name</th>\n",
       "      <th>B</th>\n",
       "      <th>C</th>\n",
       "      <th>G</th>\n",
       "      <th>N</th>\n",
       "      <th>R</th>\n",
       "      <th>U</th>\n",
       "      <th>W</th>\n",
       "      <th>legendary</th>\n",
       "      <th>reserved</th>\n",
       "      <th>...</th>\n",
       "      <th>rarity_rare</th>\n",
       "      <th>rarity_special</th>\n",
       "      <th>rarity_uncommon</th>\n",
       "      <th>booster</th>\n",
       "      <th>cmc</th>\n",
       "      <th>power</th>\n",
       "      <th>toughness</th>\n",
       "      <th>days_since_release</th>\n",
       "      <th>combined_embedding</th>\n",
       "      <th>usd</th>\n",
       "    </tr>\n",
       "  </thead>\n",
       "  <tbody>\n",
       "    <tr>\n",
       "      <th>3153</th>\n",
       "      <td>Carom</td>\n",
       "      <td>0</td>\n",
       "      <td>0</td>\n",
       "      <td>0</td>\n",
       "      <td>0</td>\n",
       "      <td>0</td>\n",
       "      <td>0</td>\n",
       "      <td>1</td>\n",
       "      <td>0</td>\n",
       "      <td>0</td>\n",
       "      <td>...</td>\n",
       "      <td>0.0</td>\n",
       "      <td>0.0</td>\n",
       "      <td>0.0</td>\n",
       "      <td>1</td>\n",
       "      <td>2.0</td>\n",
       "      <td>0</td>\n",
       "      <td>0</td>\n",
       "      <td>4538</td>\n",
       "      <td>[-0.009292987175285816, 0.00402201758697629, 0...</td>\n",
       "      <td>0.12</td>\n",
       "    </tr>\n",
       "  </tbody>\n",
       "</table>\n",
       "<p>1 rows × 22 columns</p>\n",
       "</div>"
      ],
      "text/plain": [
       "       name  B  C  G  N  R  U  W  legendary  reserved  ...  rarity_rare  \\\n",
       "3153  Carom  0  0  0  0  0  0  1          0         0  ...          0.0   \n",
       "\n",
       "      rarity_special  rarity_uncommon  booster  cmc  power  toughness  \\\n",
       "3153             0.0              0.0        1  2.0      0          0   \n",
       "\n",
       "     days_since_release                                 combined_embedding  \\\n",
       "3153               4538  [-0.009292987175285816, 0.00402201758697629, 0...   \n",
       "\n",
       "       usd  \n",
       "3153  0.12  \n",
       "\n",
       "[1 rows x 22 columns]"
      ]
     },
     "execution_count": 42,
     "metadata": {},
     "output_type": "execute_result"
    }
   ],
   "source": [
    "df = df[['name', 'B', 'C', 'G', 'N', 'R', 'U', 'W', 'legendary', 'reserved',\n",
    "       'rarity_common', 'rarity_mythic', 'rarity_rare', 'rarity_special',\n",
    "       'rarity_uncommon', 'booster', 'cmc', 'power', 'toughness','days_since_release',\n",
    "       'combined_embedding', 'usd']]\n",
    "df.sample(1)"
   ]
  },
  {
   "cell_type": "markdown",
   "metadata": {},
   "source": [
    "#### Fill X power and toughness with -1"
   ]
  },
  {
   "cell_type": "code",
   "execution_count": 43,
   "metadata": {},
   "outputs": [
    {
     "data": {
      "text/html": [
       "<div>\n",
       "<style scoped>\n",
       "    .dataframe tbody tr th:only-of-type {\n",
       "        vertical-align: middle;\n",
       "    }\n",
       "\n",
       "    .dataframe tbody tr th {\n",
       "        vertical-align: top;\n",
       "    }\n",
       "\n",
       "    .dataframe thead th {\n",
       "        text-align: right;\n",
       "    }\n",
       "</style>\n",
       "<table border=\"1\" class=\"dataframe\">\n",
       "  <thead>\n",
       "    <tr style=\"text-align: right;\">\n",
       "      <th></th>\n",
       "      <th>power</th>\n",
       "      <th>toughness</th>\n",
       "    </tr>\n",
       "  </thead>\n",
       "  <tbody>\n",
       "    <tr>\n",
       "      <th>24</th>\n",
       "      <td>NaN</td>\n",
       "      <td>NaN</td>\n",
       "    </tr>\n",
       "    <tr>\n",
       "      <th>27</th>\n",
       "      <td>NaN</td>\n",
       "      <td>NaN</td>\n",
       "    </tr>\n",
       "    <tr>\n",
       "      <th>129</th>\n",
       "      <td>NaN</td>\n",
       "      <td>NaN</td>\n",
       "    </tr>\n",
       "    <tr>\n",
       "      <th>143</th>\n",
       "      <td>NaN</td>\n",
       "      <td>4.0</td>\n",
       "    </tr>\n",
       "    <tr>\n",
       "      <th>178</th>\n",
       "      <td>NaN</td>\n",
       "      <td>NaN</td>\n",
       "    </tr>\n",
       "    <tr>\n",
       "      <th>...</th>\n",
       "      <td>...</td>\n",
       "      <td>...</td>\n",
       "    </tr>\n",
       "    <tr>\n",
       "      <th>24860</th>\n",
       "      <td>NaN</td>\n",
       "      <td>3.0</td>\n",
       "    </tr>\n",
       "    <tr>\n",
       "      <th>25008</th>\n",
       "      <td>2.0</td>\n",
       "      <td>NaN</td>\n",
       "    </tr>\n",
       "    <tr>\n",
       "      <th>25130</th>\n",
       "      <td>NaN</td>\n",
       "      <td>NaN</td>\n",
       "    </tr>\n",
       "    <tr>\n",
       "      <th>25321</th>\n",
       "      <td>NaN</td>\n",
       "      <td>NaN</td>\n",
       "    </tr>\n",
       "    <tr>\n",
       "      <th>25438</th>\n",
       "      <td>NaN</td>\n",
       "      <td>4.0</td>\n",
       "    </tr>\n",
       "  </tbody>\n",
       "</table>\n",
       "<p>183 rows × 2 columns</p>\n",
       "</div>"
      ],
      "text/plain": [
       "       power  toughness\n",
       "24       NaN        NaN\n",
       "27       NaN        NaN\n",
       "129      NaN        NaN\n",
       "143      NaN        4.0\n",
       "178      NaN        NaN\n",
       "...      ...        ...\n",
       "24860    NaN        3.0\n",
       "25008    2.0        NaN\n",
       "25130    NaN        NaN\n",
       "25321    NaN        NaN\n",
       "25438    NaN        4.0\n",
       "\n",
       "[183 rows x 2 columns]"
      ]
     },
     "execution_count": 43,
     "metadata": {},
     "output_type": "execute_result"
    }
   ],
   "source": [
    "df['power'] = pd.to_numeric(df['power'], errors='coerce')\n",
    "df['toughness'] = pd.to_numeric(df['toughness'], errors='coerce')\n",
    "index = df[df['power'].isna() | df['toughness'].isna()][['power', 'toughness']].index\n",
    "df[df['power'].isna() | df['toughness'].isna()][['power', 'toughness']]"
   ]
  },
  {
   "cell_type": "code",
   "execution_count": 44,
   "metadata": {},
   "outputs": [],
   "source": [
    "df['power'] = df['power'].fillna(-1).astype(int)\n",
    "df['toughness'] = df['toughness'].fillna(-1).astype(int)"
   ]
  },
  {
   "cell_type": "code",
   "execution_count": 45,
   "metadata": {},
   "outputs": [
    {
     "data": {
      "text/html": [
       "<div>\n",
       "<style scoped>\n",
       "    .dataframe tbody tr th:only-of-type {\n",
       "        vertical-align: middle;\n",
       "    }\n",
       "\n",
       "    .dataframe tbody tr th {\n",
       "        vertical-align: top;\n",
       "    }\n",
       "\n",
       "    .dataframe thead th {\n",
       "        text-align: right;\n",
       "    }\n",
       "</style>\n",
       "<table border=\"1\" class=\"dataframe\">\n",
       "  <thead>\n",
       "    <tr style=\"text-align: right;\">\n",
       "      <th></th>\n",
       "      <th>power</th>\n",
       "      <th>toughness</th>\n",
       "    </tr>\n",
       "  </thead>\n",
       "  <tbody>\n",
       "    <tr>\n",
       "      <th>24</th>\n",
       "      <td>-1</td>\n",
       "      <td>-1</td>\n",
       "    </tr>\n",
       "    <tr>\n",
       "      <th>27</th>\n",
       "      <td>-1</td>\n",
       "      <td>-1</td>\n",
       "    </tr>\n",
       "    <tr>\n",
       "      <th>129</th>\n",
       "      <td>-1</td>\n",
       "      <td>-1</td>\n",
       "    </tr>\n",
       "    <tr>\n",
       "      <th>143</th>\n",
       "      <td>-1</td>\n",
       "      <td>4</td>\n",
       "    </tr>\n",
       "    <tr>\n",
       "      <th>178</th>\n",
       "      <td>-1</td>\n",
       "      <td>-1</td>\n",
       "    </tr>\n",
       "  </tbody>\n",
       "</table>\n",
       "</div>"
      ],
      "text/plain": [
       "     power  toughness\n",
       "24      -1         -1\n",
       "27      -1         -1\n",
       "129     -1         -1\n",
       "143     -1          4\n",
       "178     -1         -1"
      ]
     },
     "execution_count": 45,
     "metadata": {},
     "output_type": "execute_result"
    }
   ],
   "source": [
    "df.loc[index,['power', 'toughness']].head()"
   ]
  },
  {
   "cell_type": "code",
   "execution_count": 46,
   "metadata": {},
   "outputs": [],
   "source": [
    "X = df.drop(columns=['name', 'usd'])\n",
    "y = df.usd\n",
    "numerical_features = ['cmc', 'power', 'toughness', 'days_since_release']\n",
    "numerical_transformer = Pipeline(steps=[\n",
    "    ('scaler', StandardScaler())\n",
    "])\n",
    "embedded_features = ['combined_embedding']\n",
    "# to remember to preprocess when taking an input we would use ohe here\n",
    "categorical_features = ['rarity_common', 'rarity_mythic', 'rarity_rare', 'rarity_special', 'rarity_uncommon', 'booster']\n",
    "preprocessor = ColumnTransformer(\n",
    "    transformers=[\n",
    "        ('num', numerical_transformer, numerical_features),\n",
    "        ('cat', 'passthrough', categorical_features),\n",
    "        ('embed', 'passthrough', embedded_features),\n",
    "\n",
    "    ])\n",
    "X_transformed = preprocessor.fit_transform(X)"
   ]
  },
  {
   "cell_type": "code",
   "execution_count": 47,
   "metadata": {},
   "outputs": [
    {
     "data": {
      "text/html": [
       "<div>\n",
       "<style scoped>\n",
       "    .dataframe tbody tr th:only-of-type {\n",
       "        vertical-align: middle;\n",
       "    }\n",
       "\n",
       "    .dataframe tbody tr th {\n",
       "        vertical-align: top;\n",
       "    }\n",
       "\n",
       "    .dataframe thead th {\n",
       "        text-align: right;\n",
       "    }\n",
       "</style>\n",
       "<table border=\"1\" class=\"dataframe\">\n",
       "  <thead>\n",
       "    <tr style=\"text-align: right;\">\n",
       "      <th></th>\n",
       "      <th>cmc</th>\n",
       "      <th>power</th>\n",
       "      <th>toughness</th>\n",
       "      <th>days_since_release</th>\n",
       "      <th>rarity_common</th>\n",
       "      <th>rarity_mythic</th>\n",
       "      <th>rarity_rare</th>\n",
       "      <th>rarity_special</th>\n",
       "      <th>rarity_uncommon</th>\n",
       "      <th>booster</th>\n",
       "      <th>combined_embedding</th>\n",
       "    </tr>\n",
       "  </thead>\n",
       "  <tbody>\n",
       "    <tr>\n",
       "      <th>0</th>\n",
       "      <td>-0.742891</td>\n",
       "      <td>-0.784331</td>\n",
       "      <td>-0.814794</td>\n",
       "      <td>0.835309</td>\n",
       "      <td>1.0</td>\n",
       "      <td>0.0</td>\n",
       "      <td>0.0</td>\n",
       "      <td>0.0</td>\n",
       "      <td>0.0</td>\n",
       "      <td>1.0</td>\n",
       "      <td>[-0.007598841097205877, 0.0013788732467219234,...</td>\n",
       "    </tr>\n",
       "    <tr>\n",
       "      <th>1</th>\n",
       "      <td>0.398713</td>\n",
       "      <td>-0.233859</td>\n",
       "      <td>1.30632</td>\n",
       "      <td>0.934263</td>\n",
       "      <td>1.0</td>\n",
       "      <td>0.0</td>\n",
       "      <td>0.0</td>\n",
       "      <td>0.0</td>\n",
       "      <td>0.0</td>\n",
       "      <td>1.0</td>\n",
       "      <td>[-0.0017277271253988147, 0.000872959615662694,...</td>\n",
       "    </tr>\n",
       "    <tr>\n",
       "      <th>2</th>\n",
       "      <td>0.969514</td>\n",
       "      <td>1.968027</td>\n",
       "      <td>1.836598</td>\n",
       "      <td>0.970833</td>\n",
       "      <td>0.0</td>\n",
       "      <td>1.0</td>\n",
       "      <td>0.0</td>\n",
       "      <td>0.0</td>\n",
       "      <td>0.0</td>\n",
       "      <td>0.0</td>\n",
       "      <td>[-0.0017277271253988147, 0.000872959615662694,...</td>\n",
       "    </tr>\n",
       "    <tr>\n",
       "      <th>3</th>\n",
       "      <td>-1.884494</td>\n",
       "      <td>-0.784331</td>\n",
       "      <td>-0.814794</td>\n",
       "      <td>-1.388084</td>\n",
       "      <td>1.0</td>\n",
       "      <td>0.0</td>\n",
       "      <td>0.0</td>\n",
       "      <td>0.0</td>\n",
       "      <td>0.0</td>\n",
       "      <td>1.0</td>\n",
       "      <td>[-0.010446079075336456, 0.002996041439473629, ...</td>\n",
       "    </tr>\n",
       "    <tr>\n",
       "      <th>4</th>\n",
       "      <td>-0.172089</td>\n",
       "      <td>-0.784331</td>\n",
       "      <td>-0.814794</td>\n",
       "      <td>0.693332</td>\n",
       "      <td>0.0</td>\n",
       "      <td>0.0</td>\n",
       "      <td>1.0</td>\n",
       "      <td>0.0</td>\n",
       "      <td>0.0</td>\n",
       "      <td>0.0</td>\n",
       "      <td>[-0.007598841097205877, 0.0013788732467219234,...</td>\n",
       "    </tr>\n",
       "  </tbody>\n",
       "</table>\n",
       "</div>"
      ],
      "text/plain": [
       "        cmc     power toughness days_since_release rarity_common  \\\n",
       "0 -0.742891 -0.784331 -0.814794           0.835309           1.0   \n",
       "1  0.398713 -0.233859   1.30632           0.934263           1.0   \n",
       "2  0.969514  1.968027  1.836598           0.970833           0.0   \n",
       "3 -1.884494 -0.784331 -0.814794          -1.388084           1.0   \n",
       "4 -0.172089 -0.784331 -0.814794           0.693332           0.0   \n",
       "\n",
       "  rarity_mythic rarity_rare rarity_special rarity_uncommon booster  \\\n",
       "0           0.0         0.0            0.0             0.0     1.0   \n",
       "1           0.0         0.0            0.0             0.0     1.0   \n",
       "2           1.0         0.0            0.0             0.0     0.0   \n",
       "3           0.0         0.0            0.0             0.0     1.0   \n",
       "4           0.0         1.0            0.0             0.0     0.0   \n",
       "\n",
       "                                  combined_embedding  \n",
       "0  [-0.007598841097205877, 0.0013788732467219234,...  \n",
       "1  [-0.0017277271253988147, 0.000872959615662694,...  \n",
       "2  [-0.0017277271253988147, 0.000872959615662694,...  \n",
       "3  [-0.010446079075336456, 0.002996041439473629, ...  \n",
       "4  [-0.007598841097205877, 0.0013788732467219234,...  "
      ]
     },
     "execution_count": 47,
     "metadata": {},
     "output_type": "execute_result"
    }
   ],
   "source": [
    "data_transformed = pd.DataFrame(X_transformed, columns=numerical_features + categorical_features + embedded_features)\n",
    "data_transformed.head()"
   ]
  },
  {
   "cell_type": "code",
   "execution_count": 49,
   "metadata": {},
   "outputs": [],
   "source": [
    "X_train, X_test, y_train, y_test = train_test_split(X_transformed, y, test_size=0.3, random_state=42)"
   ]
  },
  {
   "cell_type": "code",
   "execution_count": null,
   "metadata": {},
   "outputs": [],
   "source": []
  }
 ],
 "metadata": {
  "kernelspec": {
   "display_name": ".venv",
   "language": "python",
   "name": "python3"
  },
  "language_info": {
   "codemirror_mode": {
    "name": "ipython",
    "version": 3
   },
   "file_extension": ".py",
   "mimetype": "text/x-python",
   "name": "python",
   "nbconvert_exporter": "python",
   "pygments_lexer": "ipython3",
   "version": "3.10.6"
  }
 },
 "nbformat": 4,
 "nbformat_minor": 2
}
