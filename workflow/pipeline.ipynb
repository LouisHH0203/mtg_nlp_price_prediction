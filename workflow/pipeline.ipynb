{
 "cells": [
  {
   "cell_type": "code",
   "execution_count": 203,
   "metadata": {},
   "outputs": [],
   "source": [
    "import pandas as pd\n",
    "import numpy as np\n",
    "import re\n",
    "import os\n",
    "import torch\n",
    "from ast import literal_eval\n",
    "from sklearn.preprocessing import LabelBinarizer, OneHotEncoder, MultiLabelBinarizer, StandardScaler\n",
    "from sklearn.model_selection import train_test_split\n",
    "from sklearn.pipeline import make_pipeline, FeatureUnion\n",
    "from sklearn.compose import ColumnTransformer\n",
    "import tensorflow as tf\n",
    "from tensorflow.keras.callbacks import EarlyStopping\n",
    "from tensorflow.keras.metrics import MeanSquaredError, Accuracy\n",
    "from tensorflow.keras import models, layers\n",
    "from tensorflow.keras.layers import Concatenate\n",
    "from keras.models import Sequential\n",
    "from gensim.models import Word2Vec\n",
    "from transformers import DistilBertTokenizer, DistilBertModel\n"
   ]
  },
  {
   "cell_type": "code",
   "execution_count": 34,
   "metadata": {},
   "outputs": [
    {
     "data": {
      "text/html": [
       "<div>\n",
       "<style scoped>\n",
       "    .dataframe tbody tr th:only-of-type {\n",
       "        vertical-align: middle;\n",
       "    }\n",
       "\n",
       "    .dataframe tbody tr th {\n",
       "        vertical-align: top;\n",
       "    }\n",
       "\n",
       "    .dataframe thead th {\n",
       "        text-align: right;\n",
       "    }\n",
       "</style>\n",
       "<table border=\"1\" class=\"dataframe\">\n",
       "  <thead>\n",
       "    <tr style=\"text-align: right;\">\n",
       "      <th></th>\n",
       "      <th>cmc</th>\n",
       "      <th>colors</th>\n",
       "      <th>legendary</th>\n",
       "      <th>types</th>\n",
       "      <th>sub_types</th>\n",
       "      <th>oracle_text</th>\n",
       "      <th>keywords</th>\n",
       "      <th>power</th>\n",
       "      <th>toughness</th>\n",
       "      <th>rarity</th>\n",
       "      <th>reserved</th>\n",
       "      <th>released_at</th>\n",
       "      <th>booster</th>\n",
       "      <th>usd</th>\n",
       "    </tr>\n",
       "  </thead>\n",
       "  <tbody>\n",
       "    <tr>\n",
       "      <th>16437</th>\n",
       "      <td>2</td>\n",
       "      <td>['W']</td>\n",
       "      <td>False</td>\n",
       "      <td>['Enchantment']</td>\n",
       "      <td>['Aura']</td>\n",
       "      <td>Enchant creature\\nAs Prismatic Ward enters the...</td>\n",
       "      <td>['Enchant']</td>\n",
       "      <td>0</td>\n",
       "      <td>0</td>\n",
       "      <td>common</td>\n",
       "      <td>False</td>\n",
       "      <td>1209</td>\n",
       "      <td>True</td>\n",
       "      <td>0.25</td>\n",
       "    </tr>\n",
       "    <tr>\n",
       "      <th>4577</th>\n",
       "      <td>4</td>\n",
       "      <td>['C']</td>\n",
       "      <td>False</td>\n",
       "      <td>['Artifact', 'Creature']</td>\n",
       "      <td>['Construct']</td>\n",
       "      <td>Converge — Crystalline Crawler enters the batt...</td>\n",
       "      <td>['Converge']</td>\n",
       "      <td>1</td>\n",
       "      <td>1</td>\n",
       "      <td>rare</td>\n",
       "      <td>False</td>\n",
       "      <td>8955</td>\n",
       "      <td>False</td>\n",
       "      <td>6.96</td>\n",
       "    </tr>\n",
       "    <tr>\n",
       "      <th>11236</th>\n",
       "      <td>3</td>\n",
       "      <td>['C']</td>\n",
       "      <td>False</td>\n",
       "      <td>['Artifact']</td>\n",
       "      <td>['none']</td>\n",
       "      <td>Whenever a creature you control dies, put two ...</td>\n",
       "      <td>['no keywords']</td>\n",
       "      <td>0</td>\n",
       "      <td>0</td>\n",
       "      <td>rare</td>\n",
       "      <td>False</td>\n",
       "      <td>7275</td>\n",
       "      <td>False</td>\n",
       "      <td>0.15</td>\n",
       "    </tr>\n",
       "    <tr>\n",
       "      <th>24350</th>\n",
       "      <td>4</td>\n",
       "      <td>['W']</td>\n",
       "      <td>False</td>\n",
       "      <td>['Creature']</td>\n",
       "      <td>['Phyrexian', 'Fox']</td>\n",
       "      <td>Whenever one or more Phyrexians you control at...</td>\n",
       "      <td>['no keywords']</td>\n",
       "      <td>3</td>\n",
       "      <td>3</td>\n",
       "      <td>rare</td>\n",
       "      <td>False</td>\n",
       "      <td>10733</td>\n",
       "      <td>False</td>\n",
       "      <td>0.11</td>\n",
       "    </tr>\n",
       "    <tr>\n",
       "      <th>193</th>\n",
       "      <td>3</td>\n",
       "      <td>['W']</td>\n",
       "      <td>False</td>\n",
       "      <td>['Artifact']</td>\n",
       "      <td>['Vehicle']</td>\n",
       "      <td>Flying\\nWhenever Aerial Surveyor attacks, if d...</td>\n",
       "      <td>['Flying', 'Crew']</td>\n",
       "      <td>3</td>\n",
       "      <td>4</td>\n",
       "      <td>rare</td>\n",
       "      <td>False</td>\n",
       "      <td>10306</td>\n",
       "      <td>False</td>\n",
       "      <td>0.31</td>\n",
       "    </tr>\n",
       "  </tbody>\n",
       "</table>\n",
       "</div>"
      ],
      "text/plain": [
       "       cmc colors  legendary                     types             sub_types  \\\n",
       "16437    2  ['W']      False           ['Enchantment']              ['Aura']   \n",
       "4577     4  ['C']      False  ['Artifact', 'Creature']         ['Construct']   \n",
       "11236    3  ['C']      False              ['Artifact']              ['none']   \n",
       "24350    4  ['W']      False              ['Creature']  ['Phyrexian', 'Fox']   \n",
       "193      3  ['W']      False              ['Artifact']           ['Vehicle']   \n",
       "\n",
       "                                             oracle_text            keywords  \\\n",
       "16437  Enchant creature\\nAs Prismatic Ward enters the...         ['Enchant']   \n",
       "4577   Converge — Crystalline Crawler enters the batt...        ['Converge']   \n",
       "11236  Whenever a creature you control dies, put two ...     ['no keywords']   \n",
       "24350  Whenever one or more Phyrexians you control at...     ['no keywords']   \n",
       "193    Flying\\nWhenever Aerial Surveyor attacks, if d...  ['Flying', 'Crew']   \n",
       "\n",
       "       power  toughness  rarity  reserved  released_at  booster   usd  \n",
       "16437      0          0  common     False         1209     True  0.25  \n",
       "4577       1          1    rare     False         8955    False  6.96  \n",
       "11236      0          0    rare     False         7275    False  0.15  \n",
       "24350      3          3    rare     False        10733    False  0.11  \n",
       "193        3          4    rare     False        10306    False  0.31  "
      ]
     },
     "execution_count": 34,
     "metadata": {},
     "output_type": "execute_result"
    }
   ],
   "source": [
    "df = pd.read_csv('/Users/louishagenbucher/Documents/GitHub/mtg_nlp_price_prediction/data/clean_cards.csv')\n",
    "df.sample(5)"
   ]
  },
  {
   "cell_type": "code",
   "execution_count": 35,
   "metadata": {},
   "outputs": [],
   "source": [
    "no_prices_df = df[df['usd'].isna()]"
   ]
  },
  {
   "cell_type": "code",
   "execution_count": 36,
   "metadata": {},
   "outputs": [],
   "source": [
    "df.drop(df[df['usd'].isna()].index, inplace=True)\n",
    "df.reset_index(drop=True, inplace=True)"
   ]
  },
  {
   "cell_type": "markdown",
   "metadata": {},
   "source": [
    "#### Functions and models used for data processing"
   ]
  },
  {
   "cell_type": "code",
   "execution_count": 37,
   "metadata": {},
   "outputs": [],
   "source": [
    "df['colors'] = df['colors'].apply(literal_eval)"
   ]
  },
  {
   "cell_type": "code",
   "execution_count": 38,
   "metadata": {},
   "outputs": [
    {
     "data": {
      "text/html": [
       "<div>\n",
       "<style scoped>\n",
       "    .dataframe tbody tr th:only-of-type {\n",
       "        vertical-align: middle;\n",
       "    }\n",
       "\n",
       "    .dataframe tbody tr th {\n",
       "        vertical-align: top;\n",
       "    }\n",
       "\n",
       "    .dataframe thead th {\n",
       "        text-align: right;\n",
       "    }\n",
       "</style>\n",
       "<table border=\"1\" class=\"dataframe\">\n",
       "  <thead>\n",
       "    <tr style=\"text-align: right;\">\n",
       "      <th></th>\n",
       "      <th>cmc</th>\n",
       "      <th>types</th>\n",
       "      <th>sub_types</th>\n",
       "      <th>oracle_text</th>\n",
       "      <th>keywords</th>\n",
       "      <th>power</th>\n",
       "      <th>toughness</th>\n",
       "      <th>rarity</th>\n",
       "      <th>released_at</th>\n",
       "      <th>usd</th>\n",
       "      <th>B</th>\n",
       "      <th>C</th>\n",
       "      <th>G</th>\n",
       "      <th>N</th>\n",
       "      <th>R</th>\n",
       "      <th>U</th>\n",
       "      <th>W</th>\n",
       "      <th>_legendary</th>\n",
       "      <th>_booster</th>\n",
       "      <th>_resrved</th>\n",
       "    </tr>\n",
       "  </thead>\n",
       "  <tbody>\n",
       "    <tr>\n",
       "      <th>0</th>\n",
       "      <td>2</td>\n",
       "      <td>['Artifact']</td>\n",
       "      <td>['Equipment']</td>\n",
       "      <td>Equipped creature gets +2/+2.\\nEquip {3} ({3}:...</td>\n",
       "      <td>['Equip']</td>\n",
       "      <td>0</td>\n",
       "      <td>0</td>\n",
       "      <td>common</td>\n",
       "      <td>10096</td>\n",
       "      <td>0.02</td>\n",
       "      <td>0</td>\n",
       "      <td>0</td>\n",
       "      <td>0</td>\n",
       "      <td>0</td>\n",
       "      <td>0</td>\n",
       "      <td>0</td>\n",
       "      <td>1</td>\n",
       "      <td>0</td>\n",
       "      <td>1</td>\n",
       "      <td>0</td>\n",
       "    </tr>\n",
       "    <tr>\n",
       "      <th>1</th>\n",
       "      <td>4</td>\n",
       "      <td>['Creature']</td>\n",
       "      <td>['Bird', 'Rogue']</td>\n",
       "      <td>Flying\\nWhen Aarakocra Sneak enters the battle...</td>\n",
       "      <td>['Flying']</td>\n",
       "      <td>1</td>\n",
       "      <td>4</td>\n",
       "      <td>common</td>\n",
       "      <td>10418</td>\n",
       "      <td>0.06</td>\n",
       "      <td>0</td>\n",
       "      <td>0</td>\n",
       "      <td>0</td>\n",
       "      <td>0</td>\n",
       "      <td>0</td>\n",
       "      <td>1</td>\n",
       "      <td>0</td>\n",
       "      <td>0</td>\n",
       "      <td>1</td>\n",
       "      <td>0</td>\n",
       "    </tr>\n",
       "    <tr>\n",
       "      <th>2</th>\n",
       "      <td>5</td>\n",
       "      <td>['Creature']</td>\n",
       "      <td>['Astartes', 'Warrior']</td>\n",
       "      <td>Trample\\nMark of Chaos Ascendant — During your...</td>\n",
       "      <td>['Mark of Chaos Ascendant', 'Trample']</td>\n",
       "      <td>5</td>\n",
       "      <td>5</td>\n",
       "      <td>mythic</td>\n",
       "      <td>10537</td>\n",
       "      <td>2.81</td>\n",
       "      <td>1</td>\n",
       "      <td>0</td>\n",
       "      <td>0</td>\n",
       "      <td>0</td>\n",
       "      <td>1</td>\n",
       "      <td>1</td>\n",
       "      <td>0</td>\n",
       "      <td>1</td>\n",
       "      <td>0</td>\n",
       "      <td>0</td>\n",
       "    </tr>\n",
       "  </tbody>\n",
       "</table>\n",
       "</div>"
      ],
      "text/plain": [
       "   cmc         types                sub_types  \\\n",
       "0    2  ['Artifact']            ['Equipment']   \n",
       "1    4  ['Creature']        ['Bird', 'Rogue']   \n",
       "2    5  ['Creature']  ['Astartes', 'Warrior']   \n",
       "\n",
       "                                         oracle_text  \\\n",
       "0  Equipped creature gets +2/+2.\\nEquip {3} ({3}:...   \n",
       "1  Flying\\nWhen Aarakocra Sneak enters the battle...   \n",
       "2  Trample\\nMark of Chaos Ascendant — During your...   \n",
       "\n",
       "                                 keywords  power  toughness  rarity  \\\n",
       "0                               ['Equip']      0          0  common   \n",
       "1                              ['Flying']      1          4  common   \n",
       "2  ['Mark of Chaos Ascendant', 'Trample']      5          5  mythic   \n",
       "\n",
       "   released_at   usd  B  C  G  N  R  U  W  _legendary  _booster  _resrved  \n",
       "0        10096  0.02  0  0  0  0  0  0  1           0         1         0  \n",
       "1        10418  0.06  0  0  0  0  0  1  0           0         1         0  \n",
       "2        10537  2.81  1  0  0  0  1  1  0           1         0         0  "
      ]
     },
     "execution_count": 38,
     "metadata": {},
     "output_type": "execute_result"
    }
   ],
   "source": [
    "mlb = MultiLabelBinarizer()\n",
    "df= df.join(pd.DataFrame(mlb.fit_transform(df['colors']),\n",
    "                                      columns=mlb.classes_,\n",
    "                                      index=df.index))\n",
    "legend_lb= LabelBinarizer()\n",
    "df = df.join(pd.DataFrame(legend_lb.fit_transform(df['legendary']), columns=['legendary'])\n",
    "             .add_prefix('_'))\n",
    "booster_lb= LabelBinarizer()\n",
    "df = df.join(pd.DataFrame(legend_lb.fit_transform(df['booster']), columns=['booster'])\n",
    "             .add_prefix('_'))\n",
    "reserved_lb= LabelBinarizer()\n",
    "df = df.join(pd.DataFrame(legend_lb.fit_transform(df['reserved']), columns=['resrved'])\n",
    "             .add_prefix('_'))\n",
    "\n",
    "df = df.drop(['legendary', 'booster', 'reserved', 'colors'], axis=1)\n",
    "df.head(3)"
   ]
  },
  {
   "cell_type": "code",
   "execution_count": 39,
   "metadata": {},
   "outputs": [
    {
     "data": {
      "text/html": [
       "<div>\n",
       "<style scoped>\n",
       "    .dataframe tbody tr th:only-of-type {\n",
       "        vertical-align: middle;\n",
       "    }\n",
       "\n",
       "    .dataframe tbody tr th {\n",
       "        vertical-align: top;\n",
       "    }\n",
       "\n",
       "    .dataframe thead th {\n",
       "        text-align: right;\n",
       "    }\n",
       "</style>\n",
       "<table border=\"1\" class=\"dataframe\">\n",
       "  <thead>\n",
       "    <tr style=\"text-align: right;\">\n",
       "      <th></th>\n",
       "      <th>cmc</th>\n",
       "      <th>types</th>\n",
       "      <th>sub_types</th>\n",
       "      <th>oracle_text</th>\n",
       "      <th>keywords</th>\n",
       "      <th>power</th>\n",
       "      <th>toughness</th>\n",
       "      <th>rarity</th>\n",
       "      <th>released_at</th>\n",
       "      <th>usd</th>\n",
       "      <th>_legendary</th>\n",
       "      <th>_booster</th>\n",
       "      <th>_resrved</th>\n",
       "      <th>color_array</th>\n",
       "    </tr>\n",
       "  </thead>\n",
       "  <tbody>\n",
       "    <tr>\n",
       "      <th>0</th>\n",
       "      <td>2</td>\n",
       "      <td>['Artifact']</td>\n",
       "      <td>['Equipment']</td>\n",
       "      <td>Equipped creature gets +2/+2.\\nEquip {3} ({3}:...</td>\n",
       "      <td>['Equip']</td>\n",
       "      <td>0</td>\n",
       "      <td>0</td>\n",
       "      <td>common</td>\n",
       "      <td>10096</td>\n",
       "      <td>0.02</td>\n",
       "      <td>0</td>\n",
       "      <td>1</td>\n",
       "      <td>0</td>\n",
       "      <td>[0, 0, 0, 0, 0, 0, 1]</td>\n",
       "    </tr>\n",
       "    <tr>\n",
       "      <th>1</th>\n",
       "      <td>4</td>\n",
       "      <td>['Creature']</td>\n",
       "      <td>['Bird', 'Rogue']</td>\n",
       "      <td>Flying\\nWhen Aarakocra Sneak enters the battle...</td>\n",
       "      <td>['Flying']</td>\n",
       "      <td>1</td>\n",
       "      <td>4</td>\n",
       "      <td>common</td>\n",
       "      <td>10418</td>\n",
       "      <td>0.06</td>\n",
       "      <td>0</td>\n",
       "      <td>1</td>\n",
       "      <td>0</td>\n",
       "      <td>[0, 0, 0, 0, 0, 1, 0]</td>\n",
       "    </tr>\n",
       "    <tr>\n",
       "      <th>2</th>\n",
       "      <td>5</td>\n",
       "      <td>['Creature']</td>\n",
       "      <td>['Astartes', 'Warrior']</td>\n",
       "      <td>Trample\\nMark of Chaos Ascendant — During your...</td>\n",
       "      <td>['Mark of Chaos Ascendant', 'Trample']</td>\n",
       "      <td>5</td>\n",
       "      <td>5</td>\n",
       "      <td>mythic</td>\n",
       "      <td>10537</td>\n",
       "      <td>2.81</td>\n",
       "      <td>1</td>\n",
       "      <td>0</td>\n",
       "      <td>0</td>\n",
       "      <td>[1, 0, 0, 0, 1, 1, 0]</td>\n",
       "    </tr>\n",
       "  </tbody>\n",
       "</table>\n",
       "</div>"
      ],
      "text/plain": [
       "   cmc         types                sub_types  \\\n",
       "0    2  ['Artifact']            ['Equipment']   \n",
       "1    4  ['Creature']        ['Bird', 'Rogue']   \n",
       "2    5  ['Creature']  ['Astartes', 'Warrior']   \n",
       "\n",
       "                                         oracle_text  \\\n",
       "0  Equipped creature gets +2/+2.\\nEquip {3} ({3}:...   \n",
       "1  Flying\\nWhen Aarakocra Sneak enters the battle...   \n",
       "2  Trample\\nMark of Chaos Ascendant — During your...   \n",
       "\n",
       "                                 keywords  power  toughness  rarity  \\\n",
       "0                               ['Equip']      0          0  common   \n",
       "1                              ['Flying']      1          4  common   \n",
       "2  ['Mark of Chaos Ascendant', 'Trample']      5          5  mythic   \n",
       "\n",
       "   released_at   usd  _legendary  _booster  _resrved            color_array  \n",
       "0        10096  0.02           0         1         0  [0, 0, 0, 0, 0, 0, 1]  \n",
       "1        10418  0.06           0         1         0  [0, 0, 0, 0, 0, 1, 0]  \n",
       "2        10537  2.81           1         0         0  [1, 0, 0, 0, 1, 1, 0]  "
      ]
     },
     "execution_count": 39,
     "metadata": {},
     "output_type": "execute_result"
    }
   ],
   "source": [
    "columns_to_array = ['B', 'C', 'G', 'N', 'R', 'U', 'W']\n",
    "result_array = df[columns_to_array].values\n",
    "df['color_array'] = result_array.tolist()\n",
    "df = df.drop(columns=columns_to_array)\n",
    "df.head(3)"
   ]
  },
  {
   "cell_type": "markdown",
   "metadata": {},
   "source": [
    "##### Word 2 Vec Models"
   ]
  },
  {
   "cell_type": "code",
   "execution_count": 40,
   "metadata": {},
   "outputs": [],
   "source": [
    "subtype_model = Word2Vec(sentences=df['sub_types'], vector_size=100, window=5, min_count=1, workers=4)\n",
    "type_model = Word2Vec(sentences=df['types'], vector_size=100, window=5, min_count=1, workers=4)\n",
    "keyword_model = Word2Vec(sentences=df['keywords'], vector_size=100, window=5, min_count=1, workers=4)"
   ]
  },
  {
   "cell_type": "code",
   "execution_count": 41,
   "metadata": {},
   "outputs": [],
   "source": [
    "df['sub_types']=df['sub_types'].apply(lambda subtypes: np.sum([subtype_model.wv[word] for word in subtypes], axis=0))\n",
    "df['types']=df['types'].apply(lambda types: np.sum([type_model.wv[word] for word in types], axis=0))\n",
    "df['keywords']=df['keywords'].apply(lambda keywords: np.sum([keyword_model.wv[word] for word in keywords], axis=0))"
   ]
  },
  {
   "cell_type": "code",
   "execution_count": 177,
   "metadata": {},
   "outputs": [
    {
     "data": {
      "text/plain": [
       "(61, 34, 60)"
      ]
     },
     "execution_count": 177,
     "metadata": {},
     "output_type": "execute_result"
    }
   ],
   "source": [
    "len(subtype_model.wv.index_to_key), len(type_model.wv.index_to_key), len(keyword_model.wv.index_to_key)"
   ]
  },
  {
   "cell_type": "markdown",
   "metadata": {},
   "source": [
    "#### Oracle text processing"
   ]
  },
  {
   "cell_type": "code",
   "execution_count": 42,
   "metadata": {},
   "outputs": [],
   "source": [
    "tokenizer = DistilBertTokenizer.from_pretrained('distilbert-base-uncased')\n",
    "model = DistilBertModel.from_pretrained('distilbert-base-uncased')\n",
    "\n",
    "def get_embeddings(sentence):\n",
    "    inputs = tokenizer(sentence, return_tensors='pt', truncation=True, padding=True)\n",
    "    with torch.no_grad():\n",
    "        outputs = model(**inputs)\n",
    "    return outputs.last_hidden_state[:, 0, :].tolist()"
   ]
  },
  {
   "cell_type": "code",
   "execution_count": 43,
   "metadata": {},
   "outputs": [],
   "source": [
    "df['text_embedding'] = df['oracle_text'].apply(get_embeddings)\n",
    "df.drop(columns='oracle_text', inplace=True)"
   ]
  },
  {
   "cell_type": "code",
   "execution_count": 175,
   "metadata": {},
   "outputs": [
    {
     "data": {
      "text/plain": [
       "30522"
      ]
     },
     "execution_count": 175,
     "metadata": {},
     "output_type": "execute_result"
    }
   ],
   "source": [
    "vocab_size = tokenizer.vocab_size\n",
    "vocab_size"
   ]
  },
  {
   "cell_type": "code",
   "execution_count": 44,
   "metadata": {},
   "outputs": [],
   "source": [
    "def reshape_array(arr):\n",
    "    return arr.reshape(768,)"
   ]
  },
  {
   "cell_type": "code",
   "execution_count": 45,
   "metadata": {},
   "outputs": [
    {
     "name": "stderr",
     "output_type": "stream",
     "text": [
      "/var/folders/tm/jmhp8xvj4_d4hh_01cf1jt_r0000gn/T/ipykernel_74610/478936331.py:3: FutureWarning: Series.__getitem__ treating keys as positions is deprecated. In a future version, integer keys will always be treated as labels (consistent with DataFrame behavior). To access a value by position, use `ser.iloc[pos]`\n",
      "  df['combined_embedding'] = df[embedding_columns].apply(np.concatenate, axis=1)\n"
     ]
    },
    {
     "data": {
      "text/html": [
       "<div>\n",
       "<style scoped>\n",
       "    .dataframe tbody tr th:only-of-type {\n",
       "        vertical-align: middle;\n",
       "    }\n",
       "\n",
       "    .dataframe tbody tr th {\n",
       "        vertical-align: top;\n",
       "    }\n",
       "\n",
       "    .dataframe thead th {\n",
       "        text-align: right;\n",
       "    }\n",
       "</style>\n",
       "<table border=\"1\" class=\"dataframe\">\n",
       "  <thead>\n",
       "    <tr style=\"text-align: right;\">\n",
       "      <th></th>\n",
       "      <th>cmc</th>\n",
       "      <th>power</th>\n",
       "      <th>toughness</th>\n",
       "      <th>rarity</th>\n",
       "      <th>released_at</th>\n",
       "      <th>usd</th>\n",
       "      <th>_legendary</th>\n",
       "      <th>_booster</th>\n",
       "      <th>_resrved</th>\n",
       "      <th>color_array</th>\n",
       "      <th>combined_embedding</th>\n",
       "    </tr>\n",
       "  </thead>\n",
       "  <tbody>\n",
       "    <tr>\n",
       "      <th>0</th>\n",
       "      <td>2</td>\n",
       "      <td>0</td>\n",
       "      <td>0</td>\n",
       "      <td>common</td>\n",
       "      <td>10096</td>\n",
       "      <td>0.02</td>\n",
       "      <td>0</td>\n",
       "      <td>1</td>\n",
       "      <td>0</td>\n",
       "      <td>[0, 0, 0, 0, 0, 0, 1]</td>\n",
       "      <td>[2.2472825050354004, -2.729654312133789, -0.41...</td>\n",
       "    </tr>\n",
       "    <tr>\n",
       "      <th>1</th>\n",
       "      <td>4</td>\n",
       "      <td>1</td>\n",
       "      <td>4</td>\n",
       "      <td>common</td>\n",
       "      <td>10418</td>\n",
       "      <td>0.06</td>\n",
       "      <td>0</td>\n",
       "      <td>1</td>\n",
       "      <td>0</td>\n",
       "      <td>[0, 0, 0, 0, 0, 1, 0]</td>\n",
       "      <td>[-1.462926983833313, 0.47497642040252686, -3.7...</td>\n",
       "    </tr>\n",
       "    <tr>\n",
       "      <th>2</th>\n",
       "      <td>5</td>\n",
       "      <td>5</td>\n",
       "      <td>5</td>\n",
       "      <td>mythic</td>\n",
       "      <td>10537</td>\n",
       "      <td>2.81</td>\n",
       "      <td>1</td>\n",
       "      <td>0</td>\n",
       "      <td>0</td>\n",
       "      <td>[1, 0, 0, 0, 1, 1, 0]</td>\n",
       "      <td>[-1.462926983833313, 0.47497642040252686, -3.7...</td>\n",
       "    </tr>\n",
       "  </tbody>\n",
       "</table>\n",
       "</div>"
      ],
      "text/plain": [
       "   cmc  power  toughness  rarity  released_at   usd  _legendary  _booster  \\\n",
       "0    2      0          0  common        10096  0.02           0         1   \n",
       "1    4      1          4  common        10418  0.06           0         1   \n",
       "2    5      5          5  mythic        10537  2.81           1         0   \n",
       "\n",
       "   _resrved            color_array  \\\n",
       "0         0  [0, 0, 0, 0, 0, 0, 1]   \n",
       "1         0  [0, 0, 0, 0, 0, 1, 0]   \n",
       "2         0  [1, 0, 0, 0, 1, 1, 0]   \n",
       "\n",
       "                                  combined_embedding  \n",
       "0  [2.2472825050354004, -2.729654312133789, -0.41...  \n",
       "1  [-1.462926983833313, 0.47497642040252686, -3.7...  \n",
       "2  [-1.462926983833313, 0.47497642040252686, -3.7...  "
      ]
     },
     "execution_count": 45,
     "metadata": {},
     "output_type": "execute_result"
    }
   ],
   "source": [
    "df['text_embedding']=df['text_embedding'].apply(np.array).apply(reshape_array)\n",
    "embedding_columns = ['types', 'sub_types', 'keywords', 'text_embedding']\n",
    "df['combined_embedding'] = df[embedding_columns].apply(np.concatenate, axis=1)\n",
    "df.drop(columns=embedding_columns, inplace=True)\n",
    "df.head(3)"
   ]
  },
  {
   "cell_type": "code",
   "execution_count": 46,
   "metadata": {},
   "outputs": [
    {
     "data": {
      "text/plain": [
       "(1068,)"
      ]
     },
     "execution_count": 46,
     "metadata": {},
     "output_type": "execute_result"
    }
   ],
   "source": [
    "df['combined_embedding'][0].shape"
   ]
  },
  {
   "cell_type": "code",
   "execution_count": 47,
   "metadata": {},
   "outputs": [],
   "source": [
    "def reshape_embedding(arr):\n",
    "    return arr.reshape(-1, 1)"
   ]
  },
  {
   "cell_type": "code",
   "execution_count": 48,
   "metadata": {},
   "outputs": [
    {
     "data": {
      "text/plain": [
       "(1068, 1)"
      ]
     },
     "execution_count": 48,
     "metadata": {},
     "output_type": "execute_result"
    }
   ],
   "source": [
    "df['combined_embedding'] = df['combined_embedding'].apply(reshape_embedding)\n",
    "df['combined_embedding'][0].shape"
   ]
  },
  {
   "cell_type": "code",
   "execution_count": 49,
   "metadata": {},
   "outputs": [
    {
     "data": {
      "text/plain": [
       "array([[ 2.24728251],\n",
       "       [-2.72965431],\n",
       "       [-0.41337436],\n",
       "       ...,\n",
       "       [-0.12849715],\n",
       "       [ 0.0057382 ],\n",
       "       [ 0.44860914]])"
      ]
     },
     "execution_count": 49,
     "metadata": {},
     "output_type": "execute_result"
    }
   ],
   "source": [
    "df['combined_embedding'][0]"
   ]
  },
  {
   "cell_type": "markdown",
   "metadata": {},
   "source": [
    "#### The Pipeline and neural network"
   ]
  },
  {
   "cell_type": "code",
   "execution_count": 50,
   "metadata": {},
   "outputs": [
    {
     "data": {
      "text/html": [
       "<div>\n",
       "<style scoped>\n",
       "    .dataframe tbody tr th:only-of-type {\n",
       "        vertical-align: middle;\n",
       "    }\n",
       "\n",
       "    .dataframe tbody tr th {\n",
       "        vertical-align: top;\n",
       "    }\n",
       "\n",
       "    .dataframe thead th {\n",
       "        text-align: right;\n",
       "    }\n",
       "</style>\n",
       "<table border=\"1\" class=\"dataframe\">\n",
       "  <thead>\n",
       "    <tr style=\"text-align: right;\">\n",
       "      <th></th>\n",
       "      <th>cmc</th>\n",
       "      <th>power</th>\n",
       "      <th>toughness</th>\n",
       "      <th>released_at</th>\n",
       "      <th>_legendary</th>\n",
       "      <th>_booster</th>\n",
       "      <th>_resrved</th>\n",
       "      <th>rarity</th>\n",
       "      <th>color_array</th>\n",
       "      <th>combined_embedding</th>\n",
       "      <th>usd</th>\n",
       "    </tr>\n",
       "  </thead>\n",
       "  <tbody>\n",
       "    <tr>\n",
       "      <th>0</th>\n",
       "      <td>2</td>\n",
       "      <td>0</td>\n",
       "      <td>0</td>\n",
       "      <td>10096</td>\n",
       "      <td>0</td>\n",
       "      <td>1</td>\n",
       "      <td>0</td>\n",
       "      <td>common</td>\n",
       "      <td>[0, 0, 0, 0, 0, 0, 1]</td>\n",
       "      <td>[[2.2472825050354004], [-2.729654312133789], [...</td>\n",
       "      <td>0.02</td>\n",
       "    </tr>\n",
       "    <tr>\n",
       "      <th>1</th>\n",
       "      <td>4</td>\n",
       "      <td>1</td>\n",
       "      <td>4</td>\n",
       "      <td>10418</td>\n",
       "      <td>0</td>\n",
       "      <td>1</td>\n",
       "      <td>0</td>\n",
       "      <td>common</td>\n",
       "      <td>[0, 0, 0, 0, 0, 1, 0]</td>\n",
       "      <td>[[-1.462926983833313], [0.47497642040252686], ...</td>\n",
       "      <td>0.06</td>\n",
       "    </tr>\n",
       "    <tr>\n",
       "      <th>2</th>\n",
       "      <td>5</td>\n",
       "      <td>5</td>\n",
       "      <td>5</td>\n",
       "      <td>10537</td>\n",
       "      <td>1</td>\n",
       "      <td>0</td>\n",
       "      <td>0</td>\n",
       "      <td>mythic</td>\n",
       "      <td>[1, 0, 0, 0, 1, 1, 0]</td>\n",
       "      <td>[[-1.462926983833313], [0.47497642040252686], ...</td>\n",
       "      <td>2.81</td>\n",
       "    </tr>\n",
       "  </tbody>\n",
       "</table>\n",
       "</div>"
      ],
      "text/plain": [
       "   cmc  power  toughness  released_at  _legendary  _booster  _resrved  rarity  \\\n",
       "0    2      0          0        10096           0         1         0  common   \n",
       "1    4      1          4        10418           0         1         0  common   \n",
       "2    5      5          5        10537           1         0         0  mythic   \n",
       "\n",
       "             color_array                                 combined_embedding  \\\n",
       "0  [0, 0, 0, 0, 0, 0, 1]  [[2.2472825050354004], [-2.729654312133789], [...   \n",
       "1  [0, 0, 0, 0, 0, 1, 0]  [[-1.462926983833313], [0.47497642040252686], ...   \n",
       "2  [1, 0, 0, 0, 1, 1, 0]  [[-1.462926983833313], [0.47497642040252686], ...   \n",
       "\n",
       "    usd  \n",
       "0  0.02  \n",
       "1  0.06  \n",
       "2  2.81  "
      ]
     },
     "execution_count": 50,
     "metadata": {},
     "output_type": "execute_result"
    }
   ],
   "source": [
    "df = df[['cmc', 'power', 'toughness', 'released_at',\n",
    "       '_legendary', '_booster', '_resrved', 'rarity', 'color_array',\n",
    "       'combined_embedding', 'usd']]\n",
    "df.head(3)"
   ]
  },
  {
   "cell_type": "code",
   "execution_count": 178,
   "metadata": {},
   "outputs": [
    {
     "data": {
      "text/html": [
       "<div>\n",
       "<style scoped>\n",
       "    .dataframe tbody tr th:only-of-type {\n",
       "        vertical-align: middle;\n",
       "    }\n",
       "\n",
       "    .dataframe tbody tr th {\n",
       "        vertical-align: top;\n",
       "    }\n",
       "\n",
       "    .dataframe thead th {\n",
       "        text-align: right;\n",
       "    }\n",
       "</style>\n",
       "<table border=\"1\" class=\"dataframe\">\n",
       "  <thead>\n",
       "    <tr style=\"text-align: right;\">\n",
       "      <th></th>\n",
       "      <th>cmc</th>\n",
       "      <th>power</th>\n",
       "      <th>toughness</th>\n",
       "      <th>released_at</th>\n",
       "      <th>_legendary</th>\n",
       "      <th>_booster</th>\n",
       "      <th>_resrved</th>\n",
       "      <th>rarity</th>\n",
       "      <th>color_array</th>\n",
       "      <th>combined_embedding</th>\n",
       "      <th>usd</th>\n",
       "    </tr>\n",
       "  </thead>\n",
       "  <tbody>\n",
       "    <tr>\n",
       "      <th>0</th>\n",
       "      <td>2</td>\n",
       "      <td>0</td>\n",
       "      <td>0</td>\n",
       "      <td>10096</td>\n",
       "      <td>0</td>\n",
       "      <td>1</td>\n",
       "      <td>0</td>\n",
       "      <td>common</td>\n",
       "      <td>[0, 0, 0, 0, 0, 0, 1]</td>\n",
       "      <td>[[2.2472825050354004], [-2.729654312133789], [...</td>\n",
       "      <td>0.02</td>\n",
       "    </tr>\n",
       "    <tr>\n",
       "      <th>1</th>\n",
       "      <td>4</td>\n",
       "      <td>1</td>\n",
       "      <td>4</td>\n",
       "      <td>10418</td>\n",
       "      <td>0</td>\n",
       "      <td>1</td>\n",
       "      <td>0</td>\n",
       "      <td>common</td>\n",
       "      <td>[0, 0, 0, 0, 0, 1, 0]</td>\n",
       "      <td>[[-1.462926983833313], [0.47497642040252686], ...</td>\n",
       "      <td>0.06</td>\n",
       "    </tr>\n",
       "    <tr>\n",
       "      <th>2</th>\n",
       "      <td>5</td>\n",
       "      <td>5</td>\n",
       "      <td>5</td>\n",
       "      <td>10537</td>\n",
       "      <td>1</td>\n",
       "      <td>0</td>\n",
       "      <td>0</td>\n",
       "      <td>mythic</td>\n",
       "      <td>[1, 0, 0, 0, 1, 1, 0]</td>\n",
       "      <td>[[-1.462926983833313], [0.47497642040252686], ...</td>\n",
       "      <td>2.81</td>\n",
       "    </tr>\n",
       "    <tr>\n",
       "      <th>3</th>\n",
       "      <td>0</td>\n",
       "      <td>0</td>\n",
       "      <td>0</td>\n",
       "      <td>2861</td>\n",
       "      <td>0</td>\n",
       "      <td>1</td>\n",
       "      <td>0</td>\n",
       "      <td>common</td>\n",
       "      <td>[0, 0, 0, 1, 0, 0, 0]</td>\n",
       "      <td>[[3.1191296577453613], [-1.3161295652389526], ...</td>\n",
       "      <td>0.14</td>\n",
       "    </tr>\n",
       "    <tr>\n",
       "      <th>4</th>\n",
       "      <td>3</td>\n",
       "      <td>0</td>\n",
       "      <td>0</td>\n",
       "      <td>9634</td>\n",
       "      <td>0</td>\n",
       "      <td>0</td>\n",
       "      <td>0</td>\n",
       "      <td>rare</td>\n",
       "      <td>[0, 1, 0, 0, 0, 0, 0]</td>\n",
       "      <td>[[2.2472825050354004], [-2.729654312133789], [...</td>\n",
       "      <td>0.09</td>\n",
       "    </tr>\n",
       "    <tr>\n",
       "      <th>...</th>\n",
       "      <td>...</td>\n",
       "      <td>...</td>\n",
       "      <td>...</td>\n",
       "      <td>...</td>\n",
       "      <td>...</td>\n",
       "      <td>...</td>\n",
       "      <td>...</td>\n",
       "      <td>...</td>\n",
       "      <td>...</td>\n",
       "      <td>...</td>\n",
       "      <td>...</td>\n",
       "    </tr>\n",
       "    <tr>\n",
       "      <th>25484</th>\n",
       "      <td>5</td>\n",
       "      <td>7</td>\n",
       "      <td>2</td>\n",
       "      <td>7604</td>\n",
       "      <td>1</td>\n",
       "      <td>1</td>\n",
       "      <td>0</td>\n",
       "      <td>mythic</td>\n",
       "      <td>[1, 0, 0, 0, 1, 0, 1]</td>\n",
       "      <td>[[-1.462926983833313], [0.47497642040252686], ...</td>\n",
       "      <td>0.42</td>\n",
       "    </tr>\n",
       "    <tr>\n",
       "      <th>25485</th>\n",
       "      <td>4</td>\n",
       "      <td>0</td>\n",
       "      <td>0</td>\n",
       "      <td>4258</td>\n",
       "      <td>0</td>\n",
       "      <td>1</td>\n",
       "      <td>0</td>\n",
       "      <td>rare</td>\n",
       "      <td>[0, 0, 0, 0, 0, 1, 0]</td>\n",
       "      <td>[[5.839674472808838], [-4.085742950439453], [-...</td>\n",
       "      <td>0.82</td>\n",
       "    </tr>\n",
       "    <tr>\n",
       "      <th>25486</th>\n",
       "      <td>4</td>\n",
       "      <td>1</td>\n",
       "      <td>4</td>\n",
       "      <td>10446</td>\n",
       "      <td>1</td>\n",
       "      <td>1</td>\n",
       "      <td>0</td>\n",
       "      <td>rare</td>\n",
       "      <td>[1, 0, 0, 0, 0, 1, 1]</td>\n",
       "      <td>[[-1.462926983833313], [0.47497642040252686], ...</td>\n",
       "      <td>0.53</td>\n",
       "    </tr>\n",
       "    <tr>\n",
       "      <th>25487</th>\n",
       "      <td>3</td>\n",
       "      <td>2</td>\n",
       "      <td>3</td>\n",
       "      <td>10376</td>\n",
       "      <td>1</td>\n",
       "      <td>0</td>\n",
       "      <td>0</td>\n",
       "      <td>rare</td>\n",
       "      <td>[0, 0, 0, 0, 1, 0, 0]</td>\n",
       "      <td>[[-1.462926983833313], [0.47497642040252686], ...</td>\n",
       "      <td>0.25</td>\n",
       "    </tr>\n",
       "    <tr>\n",
       "      <th>25488</th>\n",
       "      <td>3</td>\n",
       "      <td>3</td>\n",
       "      <td>2</td>\n",
       "      <td>10908</td>\n",
       "      <td>0</td>\n",
       "      <td>0</td>\n",
       "      <td>0</td>\n",
       "      <td>uncommon</td>\n",
       "      <td>[0, 0, 0, 0, 0, 1, 0]</td>\n",
       "      <td>[[-1.462926983833313], [0.47497642040252686], ...</td>\n",
       "      <td>0.11</td>\n",
       "    </tr>\n",
       "  </tbody>\n",
       "</table>\n",
       "<p>25489 rows × 11 columns</p>\n",
       "</div>"
      ],
      "text/plain": [
       "       cmc  power  toughness  released_at  _legendary  _booster  _resrved  \\\n",
       "0        2      0          0        10096           0         1         0   \n",
       "1        4      1          4        10418           0         1         0   \n",
       "2        5      5          5        10537           1         0         0   \n",
       "3        0      0          0         2861           0         1         0   \n",
       "4        3      0          0         9634           0         0         0   \n",
       "...    ...    ...        ...          ...         ...       ...       ...   \n",
       "25484    5      7          2         7604           1         1         0   \n",
       "25485    4      0          0         4258           0         1         0   \n",
       "25486    4      1          4        10446           1         1         0   \n",
       "25487    3      2          3        10376           1         0         0   \n",
       "25488    3      3          2        10908           0         0         0   \n",
       "\n",
       "         rarity            color_array  \\\n",
       "0        common  [0, 0, 0, 0, 0, 0, 1]   \n",
       "1        common  [0, 0, 0, 0, 0, 1, 0]   \n",
       "2        mythic  [1, 0, 0, 0, 1, 1, 0]   \n",
       "3        common  [0, 0, 0, 1, 0, 0, 0]   \n",
       "4          rare  [0, 1, 0, 0, 0, 0, 0]   \n",
       "...         ...                    ...   \n",
       "25484    mythic  [1, 0, 0, 0, 1, 0, 1]   \n",
       "25485      rare  [0, 0, 0, 0, 0, 1, 0]   \n",
       "25486      rare  [1, 0, 0, 0, 0, 1, 1]   \n",
       "25487      rare  [0, 0, 0, 0, 1, 0, 0]   \n",
       "25488  uncommon  [0, 0, 0, 0, 0, 1, 0]   \n",
       "\n",
       "                                      combined_embedding   usd  \n",
       "0      [[2.2472825050354004], [-2.729654312133789], [...  0.02  \n",
       "1      [[-1.462926983833313], [0.47497642040252686], ...  0.06  \n",
       "2      [[-1.462926983833313], [0.47497642040252686], ...  2.81  \n",
       "3      [[3.1191296577453613], [-1.3161295652389526], ...  0.14  \n",
       "4      [[2.2472825050354004], [-2.729654312133789], [...  0.09  \n",
       "...                                                  ...   ...  \n",
       "25484  [[-1.462926983833313], [0.47497642040252686], ...  0.42  \n",
       "25485  [[5.839674472808838], [-4.085742950439453], [-...  0.82  \n",
       "25486  [[-1.462926983833313], [0.47497642040252686], ...  0.53  \n",
       "25487  [[-1.462926983833313], [0.47497642040252686], ...  0.25  \n",
       "25488  [[-1.462926983833313], [0.47497642040252686], ...  0.11  \n",
       "\n",
       "[25489 rows x 11 columns]"
      ]
     },
     "execution_count": 178,
     "metadata": {},
     "output_type": "execute_result"
    }
   ],
   "source": [
    "df"
   ]
  },
  {
   "cell_type": "code",
   "execution_count": 179,
   "metadata": {},
   "outputs": [],
   "source": [
    "def reshape_embedding(arr):\n",
    "    return arr.reshape(-1, 1)"
   ]
  },
  {
   "cell_type": "code",
   "execution_count": 180,
   "metadata": {},
   "outputs": [],
   "source": [
    "X = df.drop(columns='usd')\n",
    "y = df['usd']"
   ]
  },
  {
   "cell_type": "code",
   "execution_count": 181,
   "metadata": {},
   "outputs": [],
   "source": [
    "numerical_features = ['power', 'toughness', 'released_at', 'cmc']\n",
    "categorical_features = ['rarity']\n",
    "remaining_features = X.drop(columns=['rarity', 'power', 'toughness', 'released_at', 'cmc'])\n",
    "\n",
    "preprocessor = ColumnTransformer(\n",
    "    transformers=[\n",
    "        ('num', StandardScaler(), numerical_features),\n",
    "        ('cat', OneHotEncoder(), categorical_features)\n",
    "    ],\n",
    "    remainder='passthrough'\n",
    ")\n",
    "\n",
    "pipeline = make_pipeline(preprocessor)"
   ]
  },
  {
   "cell_type": "code",
   "execution_count": 182,
   "metadata": {},
   "outputs": [],
   "source": [
    "X_preprocessed= pipeline.fit_transform(X)"
   ]
  },
  {
   "cell_type": "code",
   "execution_count": 183,
   "metadata": {},
   "outputs": [
    {
     "data": {
      "text/plain": [
       "array(['num__power', 'num__toughness', 'num__released_at', 'num__cmc',\n",
       "       'cat__rarity_common', 'cat__rarity_mythic', 'cat__rarity_rare',\n",
       "       'cat__rarity_special', 'cat__rarity_uncommon',\n",
       "       'remainder___legendary', 'remainder___booster',\n",
       "       'remainder___resrved', 'remainder__color_array',\n",
       "       'remainder__combined_embedding'], dtype=object)"
      ]
     },
     "execution_count": 183,
     "metadata": {},
     "output_type": "execute_result"
    }
   ],
   "source": [
    "column_names = pipeline.get_feature_names_out()\n",
    "column_names"
   ]
  },
  {
   "cell_type": "code",
   "execution_count": 184,
   "metadata": {},
   "outputs": [
    {
     "data": {
      "text/html": [
       "<div>\n",
       "<style scoped>\n",
       "    .dataframe tbody tr th:only-of-type {\n",
       "        vertical-align: middle;\n",
       "    }\n",
       "\n",
       "    .dataframe tbody tr th {\n",
       "        vertical-align: top;\n",
       "    }\n",
       "\n",
       "    .dataframe thead th {\n",
       "        text-align: right;\n",
       "    }\n",
       "</style>\n",
       "<table border=\"1\" class=\"dataframe\">\n",
       "  <thead>\n",
       "    <tr style=\"text-align: right;\">\n",
       "      <th></th>\n",
       "      <th>num__power</th>\n",
       "      <th>num__toughness</th>\n",
       "      <th>num__released_at</th>\n",
       "      <th>num__cmc</th>\n",
       "      <th>cat__rarity_common</th>\n",
       "      <th>cat__rarity_mythic</th>\n",
       "      <th>cat__rarity_rare</th>\n",
       "      <th>cat__rarity_special</th>\n",
       "      <th>cat__rarity_uncommon</th>\n",
       "      <th>remainder___legendary</th>\n",
       "      <th>remainder___booster</th>\n",
       "      <th>remainder___resrved</th>\n",
       "      <th>remainder__color_array</th>\n",
       "      <th>remainder__combined_embedding</th>\n",
       "    </tr>\n",
       "  </thead>\n",
       "  <tbody>\n",
       "    <tr>\n",
       "      <th>0</th>\n",
       "      <td>-0.787786</td>\n",
       "      <td>-0.818064</td>\n",
       "      <td>0.83164</td>\n",
       "      <td>-0.74473</td>\n",
       "      <td>1.0</td>\n",
       "      <td>0.0</td>\n",
       "      <td>0.0</td>\n",
       "      <td>0.0</td>\n",
       "      <td>0.0</td>\n",
       "      <td>0</td>\n",
       "      <td>1</td>\n",
       "      <td>0</td>\n",
       "      <td>[0, 0, 0, 0, 0, 0, 1]</td>\n",
       "      <td>[[2.2472825050354004], [-2.729654312133789], [...</td>\n",
       "    </tr>\n",
       "    <tr>\n",
       "      <th>1</th>\n",
       "      <td>-0.237532</td>\n",
       "      <td>1.302998</td>\n",
       "      <td>0.930864</td>\n",
       "      <td>0.397826</td>\n",
       "      <td>1.0</td>\n",
       "      <td>0.0</td>\n",
       "      <td>0.0</td>\n",
       "      <td>0.0</td>\n",
       "      <td>0.0</td>\n",
       "      <td>0</td>\n",
       "      <td>1</td>\n",
       "      <td>0</td>\n",
       "      <td>[0, 0, 0, 0, 0, 1, 0]</td>\n",
       "      <td>[[-1.462926983833313], [0.47497642040252686], ...</td>\n",
       "    </tr>\n",
       "    <tr>\n",
       "      <th>2</th>\n",
       "      <td>1.963486</td>\n",
       "      <td>1.833263</td>\n",
       "      <td>0.967534</td>\n",
       "      <td>0.969104</td>\n",
       "      <td>0.0</td>\n",
       "      <td>1.0</td>\n",
       "      <td>0.0</td>\n",
       "      <td>0.0</td>\n",
       "      <td>0.0</td>\n",
       "      <td>1</td>\n",
       "      <td>0</td>\n",
       "      <td>0</td>\n",
       "      <td>[1, 0, 0, 0, 1, 1, 0]</td>\n",
       "      <td>[[-1.462926983833313], [0.47497642040252686], ...</td>\n",
       "    </tr>\n",
       "    <tr>\n",
       "      <th>3</th>\n",
       "      <td>-0.787786</td>\n",
       "      <td>-0.818064</td>\n",
       "      <td>-1.397816</td>\n",
       "      <td>-1.887285</td>\n",
       "      <td>1.0</td>\n",
       "      <td>0.0</td>\n",
       "      <td>0.0</td>\n",
       "      <td>0.0</td>\n",
       "      <td>0.0</td>\n",
       "      <td>0</td>\n",
       "      <td>1</td>\n",
       "      <td>0</td>\n",
       "      <td>[0, 0, 0, 1, 0, 0, 0]</td>\n",
       "      <td>[[3.1191296577453613], [-1.3161295652389526], ...</td>\n",
       "    </tr>\n",
       "    <tr>\n",
       "      <th>4</th>\n",
       "      <td>-0.787786</td>\n",
       "      <td>-0.818064</td>\n",
       "      <td>0.689275</td>\n",
       "      <td>-0.173452</td>\n",
       "      <td>0.0</td>\n",
       "      <td>0.0</td>\n",
       "      <td>1.0</td>\n",
       "      <td>0.0</td>\n",
       "      <td>0.0</td>\n",
       "      <td>0</td>\n",
       "      <td>0</td>\n",
       "      <td>0</td>\n",
       "      <td>[0, 1, 0, 0, 0, 0, 0]</td>\n",
       "      <td>[[2.2472825050354004], [-2.729654312133789], [...</td>\n",
       "    </tr>\n",
       "  </tbody>\n",
       "</table>\n",
       "</div>"
      ],
      "text/plain": [
       "  num__power num__toughness num__released_at  num__cmc cat__rarity_common  \\\n",
       "0  -0.787786      -0.818064          0.83164  -0.74473                1.0   \n",
       "1  -0.237532       1.302998         0.930864  0.397826                1.0   \n",
       "2   1.963486       1.833263         0.967534  0.969104                0.0   \n",
       "3  -0.787786      -0.818064        -1.397816 -1.887285                1.0   \n",
       "4  -0.787786      -0.818064         0.689275 -0.173452                0.0   \n",
       "\n",
       "  cat__rarity_mythic cat__rarity_rare cat__rarity_special  \\\n",
       "0                0.0              0.0                 0.0   \n",
       "1                0.0              0.0                 0.0   \n",
       "2                1.0              0.0                 0.0   \n",
       "3                0.0              0.0                 0.0   \n",
       "4                0.0              1.0                 0.0   \n",
       "\n",
       "  cat__rarity_uncommon remainder___legendary remainder___booster  \\\n",
       "0                  0.0                     0                   1   \n",
       "1                  0.0                     0                   1   \n",
       "2                  0.0                     1                   0   \n",
       "3                  0.0                     0                   1   \n",
       "4                  0.0                     0                   0   \n",
       "\n",
       "  remainder___resrved remainder__color_array  \\\n",
       "0                   0  [0, 0, 0, 0, 0, 0, 1]   \n",
       "1                   0  [0, 0, 0, 0, 0, 1, 0]   \n",
       "2                   0  [1, 0, 0, 0, 1, 1, 0]   \n",
       "3                   0  [0, 0, 0, 1, 0, 0, 0]   \n",
       "4                   0  [0, 1, 0, 0, 0, 0, 0]   \n",
       "\n",
       "                       remainder__combined_embedding  \n",
       "0  [[2.2472825050354004], [-2.729654312133789], [...  \n",
       "1  [[-1.462926983833313], [0.47497642040252686], ...  \n",
       "2  [[-1.462926983833313], [0.47497642040252686], ...  \n",
       "3  [[3.1191296577453613], [-1.3161295652389526], ...  \n",
       "4  [[2.2472825050354004], [-2.729654312133789], [...  "
      ]
     },
     "execution_count": 184,
     "metadata": {},
     "output_type": "execute_result"
    }
   ],
   "source": [
    "processed_df = pd.DataFrame(X_preprocessed, columns=column_names)\n",
    "processed_df.head()"
   ]
  },
  {
   "cell_type": "code",
   "execution_count": 185,
   "metadata": {},
   "outputs": [],
   "source": [
    "columns_to_array = ['cat__rarity_common', 'cat__rarity_mythic', 'cat__rarity_rare',\n",
    "'cat__rarity_special', 'cat__rarity_uncommon']\n",
    "result_array = processed_df[columns_to_array].values\n",
    "processed_df['rarity_array'] = result_array.tolist()\n",
    "processed_df = processed_df.drop(columns=columns_to_array)\n",
    "processed_df = processed_df[['num__power', 'num__toughness', 'num__released_at', 'num__cmc',\n",
    "       'remainder___legendary', 'remainder___booster', 'remainder___resrved',\n",
    "       'remainder__color_array', 'rarity_array', 'remainder__combined_embedding'\n",
    "       ]]"
   ]
  },
  {
   "cell_type": "code",
   "execution_count": 186,
   "metadata": {},
   "outputs": [
    {
     "data": {
      "text/html": [
       "<div>\n",
       "<style scoped>\n",
       "    .dataframe tbody tr th:only-of-type {\n",
       "        vertical-align: middle;\n",
       "    }\n",
       "\n",
       "    .dataframe tbody tr th {\n",
       "        vertical-align: top;\n",
       "    }\n",
       "\n",
       "    .dataframe thead th {\n",
       "        text-align: right;\n",
       "    }\n",
       "</style>\n",
       "<table border=\"1\" class=\"dataframe\">\n",
       "  <thead>\n",
       "    <tr style=\"text-align: right;\">\n",
       "      <th></th>\n",
       "      <th>num__power</th>\n",
       "      <th>num__toughness</th>\n",
       "      <th>num__released_at</th>\n",
       "      <th>num__cmc</th>\n",
       "      <th>remainder___legendary</th>\n",
       "      <th>remainder___booster</th>\n",
       "      <th>remainder___resrved</th>\n",
       "      <th>remainder__color_array</th>\n",
       "      <th>rarity_array</th>\n",
       "      <th>remainder__combined_embedding</th>\n",
       "    </tr>\n",
       "  </thead>\n",
       "  <tbody>\n",
       "    <tr>\n",
       "      <th>0</th>\n",
       "      <td>-0.787786</td>\n",
       "      <td>-0.818064</td>\n",
       "      <td>0.83164</td>\n",
       "      <td>-0.74473</td>\n",
       "      <td>0</td>\n",
       "      <td>1</td>\n",
       "      <td>0</td>\n",
       "      <td>[0, 0, 0, 0, 0, 0, 1]</td>\n",
       "      <td>[1.0, 0.0, 0.0, 0.0, 0.0]</td>\n",
       "      <td>[[2.2472825050354004], [-2.729654312133789], [...</td>\n",
       "    </tr>\n",
       "    <tr>\n",
       "      <th>1</th>\n",
       "      <td>-0.237532</td>\n",
       "      <td>1.302998</td>\n",
       "      <td>0.930864</td>\n",
       "      <td>0.397826</td>\n",
       "      <td>0</td>\n",
       "      <td>1</td>\n",
       "      <td>0</td>\n",
       "      <td>[0, 0, 0, 0, 0, 1, 0]</td>\n",
       "      <td>[1.0, 0.0, 0.0, 0.0, 0.0]</td>\n",
       "      <td>[[-1.462926983833313], [0.47497642040252686], ...</td>\n",
       "    </tr>\n",
       "    <tr>\n",
       "      <th>2</th>\n",
       "      <td>1.963486</td>\n",
       "      <td>1.833263</td>\n",
       "      <td>0.967534</td>\n",
       "      <td>0.969104</td>\n",
       "      <td>1</td>\n",
       "      <td>0</td>\n",
       "      <td>0</td>\n",
       "      <td>[1, 0, 0, 0, 1, 1, 0]</td>\n",
       "      <td>[0.0, 1.0, 0.0, 0.0, 0.0]</td>\n",
       "      <td>[[-1.462926983833313], [0.47497642040252686], ...</td>\n",
       "    </tr>\n",
       "  </tbody>\n",
       "</table>\n",
       "</div>"
      ],
      "text/plain": [
       "  num__power num__toughness num__released_at  num__cmc remainder___legendary  \\\n",
       "0  -0.787786      -0.818064          0.83164  -0.74473                     0   \n",
       "1  -0.237532       1.302998         0.930864  0.397826                     0   \n",
       "2   1.963486       1.833263         0.967534  0.969104                     1   \n",
       "\n",
       "  remainder___booster remainder___resrved remainder__color_array  \\\n",
       "0                   1                   0  [0, 0, 0, 0, 0, 0, 1]   \n",
       "1                   1                   0  [0, 0, 0, 0, 0, 1, 0]   \n",
       "2                   0                   0  [1, 0, 0, 0, 1, 1, 0]   \n",
       "\n",
       "                rarity_array  \\\n",
       "0  [1.0, 0.0, 0.0, 0.0, 0.0]   \n",
       "1  [1.0, 0.0, 0.0, 0.0, 0.0]   \n",
       "2  [0.0, 1.0, 0.0, 0.0, 0.0]   \n",
       "\n",
       "                       remainder__combined_embedding  \n",
       "0  [[2.2472825050354004], [-2.729654312133789], [...  \n",
       "1  [[-1.462926983833313], [0.47497642040252686], ...  \n",
       "2  [[-1.462926983833313], [0.47497642040252686], ...  "
      ]
     },
     "execution_count": 186,
     "metadata": {},
     "output_type": "execute_result"
    }
   ],
   "source": [
    "processed_df.head(3)"
   ]
  },
  {
   "cell_type": "code",
   "execution_count": 187,
   "metadata": {},
   "outputs": [],
   "source": [
    "processed_df[['num__power', 'num__toughness', 'num__released_at', 'num__cmc']] = processed_df[['num__power', 'num__toughness', 'num__released_at', 'num__cmc']].astype(float)"
   ]
  },
  {
   "cell_type": "code",
   "execution_count": 188,
   "metadata": {},
   "outputs": [],
   "source": [
    "processed_df[['remainder___legendary', 'remainder___booster', 'remainder___resrved',]] = processed_df[['remainder___legendary', 'remainder___booster', 'remainder___resrved',]].astype(int)"
   ]
  },
  {
   "cell_type": "code",
   "execution_count": 189,
   "metadata": {},
   "outputs": [
    {
     "name": "stdout",
     "output_type": "stream",
     "text": [
      "<class 'pandas.core.frame.DataFrame'>\n",
      "RangeIndex: 25489 entries, 0 to 25488\n",
      "Data columns (total 10 columns):\n",
      " #   Column                         Non-Null Count  Dtype  \n",
      "---  ------                         --------------  -----  \n",
      " 0   num__power                     25489 non-null  float64\n",
      " 1   num__toughness                 25489 non-null  float64\n",
      " 2   num__released_at               25489 non-null  float64\n",
      " 3   num__cmc                       25489 non-null  float64\n",
      " 4   remainder___legendary          25489 non-null  int64  \n",
      " 5   remainder___booster            25489 non-null  int64  \n",
      " 6   remainder___resrved            25489 non-null  int64  \n",
      " 7   remainder__color_array         25489 non-null  object \n",
      " 8   rarity_array                   25489 non-null  object \n",
      " 9   remainder__combined_embedding  25489 non-null  object \n",
      "dtypes: float64(4), int64(3), object(3)\n",
      "memory usage: 1.9+ MB\n"
     ]
    }
   ],
   "source": [
    "processed_df.info()"
   ]
  },
  {
   "cell_type": "code",
   "execution_count": 190,
   "metadata": {},
   "outputs": [],
   "source": [
    "X_numerical = processed_df[['num__power','num__toughness', 'num__released_at', 'num__cmc']]\n",
    "X_color = processed_df[['remainder__color_array']]\n",
    "X_rarity = processed_df[['rarity_array']]\n",
    "X_boolean= processed_df[['remainder___legendary', 'remainder___booster', 'remainder___resrved']]\n",
    "X_text = processed_df['remainder__combined_embedding']"
   ]
  },
  {
   "cell_type": "code",
   "execution_count": 191,
   "metadata": {},
   "outputs": [
    {
     "data": {
      "text/plain": [
       "((25489, 4), (25489, 1), (25489, 1), (25489, 3), (25489,))"
      ]
     },
     "execution_count": 191,
     "metadata": {},
     "output_type": "execute_result"
    }
   ],
   "source": [
    "X_numerical.shape, X_color.shape, X_rarity.shape, X_boolean.shape, X_text.shape"
   ]
  },
  {
   "cell_type": "code",
   "execution_count": null,
   "metadata": {},
   "outputs": [],
   "source": [
    "reshape(X_text)"
   ]
  },
  {
   "cell_type": "code",
   "execution_count": 192,
   "metadata": {},
   "outputs": [],
   "source": [
    "X_numerical_train, X_numerical_test, X_color_train, X_color_test, X_rarity_train, X_rarity_test, X_boolean_train, X_boolean_test, X_text_train, X_text_test, y_train, y_test = train_test_split(\n",
    "    X_numerical, X_color, X_rarity, X_boolean, X_text, y, test_size=0.30, random_state=42\n",
    ")"
   ]
  },
  {
   "cell_type": "code",
   "execution_count": 193,
   "metadata": {},
   "outputs": [],
   "source": [
    "X_text_train = np.array(X_text_train.tolist())\n",
    "X_text_test = np.array(X_text_test.tolist())\n",
    "X_color_train= np.array(X_text_test.tolist())\n",
    "X_color_test= np.array(X_text_test.tolist())\n",
    "X_rarity_train= np.array(X_text_test.tolist())\n",
    "X_rarity_test= np.array(X_text_test.tolist())\n",
    "\n",
    "y_train = y_train.astype('float32')\n",
    "y_test = y_test.astype('float32')"
   ]
  },
  {
   "cell_type": "markdown",
   "metadata": {},
   "source": [
    "#### Test Text Model"
   ]
  },
  {
   "cell_type": "code",
   "execution_count": 194,
   "metadata": {},
   "outputs": [
    {
     "name": "stdout",
     "output_type": "stream",
     "text": [
      "Model: \"sequential_3\"\n",
      "_________________________________________________________________\n",
      " Layer (type)                Output Shape              Param #   \n",
      "=================================================================\n",
      " dense_18 (Dense)            (None, 64)                68416     \n",
      "                                                                 \n",
      " dense_19 (Dense)            (None, 32)                2080      \n",
      "                                                                 \n",
      " dense_20 (Dense)            (None, 1)                 33        \n",
      "                                                                 \n",
      "=================================================================\n",
      "Total params: 70529 (275.50 KB)\n",
      "Trainable params: 70529 (275.50 KB)\n",
      "Non-trainable params: 0 (0.00 Byte)\n",
      "_________________________________________________________________\n"
     ]
    }
   ],
   "source": [
    "model = Sequential()\n",
    "\n",
    "model.add(layers.Dense(64, activation='relu', input_shape=(1068,)))\n",
    "model.add(layers.Dense(32, activation='relu'))\n",
    "model.add(layers.Dense(1, activation='linear'))\n",
    "\n",
    "model.compile(optimizer='adam', loss='mean_squared_error', metrics=['mae'])\n",
    "\n",
    "model.summary()"
   ]
  },
  {
   "cell_type": "code",
   "execution_count": 195,
   "metadata": {},
   "outputs": [
    {
     "name": "stdout",
     "output_type": "stream",
     "text": [
      "Epoch 1/10\n",
      "447/447 [==============================] - 1s 1ms/step - loss: 1650.6027 - mae: 3.4625 - val_loss: 2748.7229 - val_mae: 5.4463\n",
      "Epoch 2/10\n",
      "447/447 [==============================] - 1s 2ms/step - loss: 1650.0790 - mae: 3.4740 - val_loss: 2754.6116 - val_mae: 4.8133\n",
      "Epoch 3/10\n",
      "447/447 [==============================] - 1s 1ms/step - loss: 1647.9792 - mae: 3.4711 - val_loss: 2745.2773 - val_mae: 5.4110\n",
      "Epoch 4/10\n",
      "447/447 [==============================] - 0s 1ms/step - loss: 1646.6744 - mae: 3.4163 - val_loss: 2744.1868 - val_mae: 5.5554\n",
      "Epoch 5/10\n",
      "447/447 [==============================] - 0s 978us/step - loss: 1646.4824 - mae: 3.5033 - val_loss: 2754.7251 - val_mae: 5.2131\n",
      "Epoch 6/10\n",
      "447/447 [==============================] - 0s 980us/step - loss: 1646.5681 - mae: 3.5491 - val_loss: 2742.1379 - val_mae: 7.0231\n",
      "Epoch 7/10\n",
      "447/447 [==============================] - 0s 969us/step - loss: 1648.2863 - mae: 3.6479 - val_loss: 2751.6099 - val_mae: 5.0136\n",
      "Epoch 8/10\n",
      "447/447 [==============================] - 0s 1ms/step - loss: 1645.9843 - mae: 3.5800 - val_loss: 2746.0876 - val_mae: 5.0589\n",
      "Epoch 9/10\n",
      "447/447 [==============================] - 0s 1ms/step - loss: 1643.3206 - mae: 3.4746 - val_loss: 2738.1311 - val_mae: 5.4410\n",
      "Epoch 10/10\n",
      "447/447 [==============================] - 1s 1ms/step - loss: 1641.4664 - mae: 3.6652 - val_loss: 2745.3259 - val_mae: 5.1691\n"
     ]
    },
    {
     "data": {
      "text/plain": [
       "<keras.src.callbacks.History at 0x2d974c5e0>"
      ]
     },
     "execution_count": 195,
     "metadata": {},
     "output_type": "execute_result"
    }
   ],
   "source": [
    "model.fit(X_text_train, y_train, epochs=10, batch_size=32, validation_split=0.2)"
   ]
  },
  {
   "cell_type": "code",
   "execution_count": 196,
   "metadata": {},
   "outputs": [
    {
     "name": "stdout",
     "output_type": "stream",
     "text": [
      "239/239 [==============================] - 0s 614us/step - loss: 2033.0881 - mae: 3.7839\n"
     ]
    }
   ],
   "source": [
    "loss, accuracy = model.evaluate(X_text_test, y_test)"
   ]
  },
  {
   "cell_type": "code",
   "execution_count": 206,
   "metadata": {},
   "outputs": [],
   "source": [
    "def initialize_model():\n",
    "    metrics_list = [MeanSquaredError(name='mse'), Accuracy(name='accuracy')]\n",
    "\n",
    "    model = models.Sequential()\n",
    "\n",
    "    model.add(layers.InputLayer(input_shape=(4,), name='input_numerical'))\n",
    "    model.add(layers.Dense(64, activation='relu'))\n",
    "\n",
    "    model.add(layers.InputLayer(input_shape=(1068,), name='Input_text'))\n",
    "    model.add(layers.Dense(64, activation='relu'))\n",
    "\n",
    "    model.add(layers.InputLayer(input_shape=(3,), name='input_boolean'))\n",
    "    model.add(layers.Dense(16, activation='relu'))\n",
    "\n",
    "    model.add(layers.InputLayer(input_shape=(1,), name='input_color'))\n",
    "    model.add(layers.Dense(32, activation='relu'))\n",
    "\n",
    "    model.add(layers.InputLayer(input_shape=(1,), name='input_rarity'))\n",
    "    model.add(layers.Dense(32, activation='relu'))\n",
    "\n",
    "    model.add(layers.Concatenate())\n",
    "\n",
    "    model.add(layers.Dense(1, activation='linear'))\n",
    "\n",
    "    model.compile(loss='mean_squared_error',\n",
    "                  optimizer='adam',\n",
    "                  metrics=metrics_list)\n"
   ]
  },
  {
   "cell_type": "code",
   "execution_count": 207,
   "metadata": {},
   "outputs": [
    {
     "ename": "ValueError",
     "evalue": "A `Concatenate` layer should be called on a list of at least 1 input. Received: input_shape=(None, 32)",
     "output_type": "error",
     "traceback": [
      "\u001b[0;31m---------------------------------------------------------------------------\u001b[0m",
      "\u001b[0;31mValueError\u001b[0m                                Traceback (most recent call last)",
      "Cell \u001b[0;32mIn[207], line 1\u001b[0m\n\u001b[0;32m----> 1\u001b[0m model \u001b[38;5;241m=\u001b[39m \u001b[43minitialize_model\u001b[49m\u001b[43m(\u001b[49m\u001b[43m)\u001b[49m\n",
      "Cell \u001b[0;32mIn[206], line 22\u001b[0m, in \u001b[0;36minitialize_model\u001b[0;34m()\u001b[0m\n\u001b[1;32m     19\u001b[0m model\u001b[38;5;241m.\u001b[39madd(layers\u001b[38;5;241m.\u001b[39mInputLayer(input_shape\u001b[38;5;241m=\u001b[39m(\u001b[38;5;241m1\u001b[39m,), name\u001b[38;5;241m=\u001b[39m\u001b[38;5;124m'\u001b[39m\u001b[38;5;124minput_rarity\u001b[39m\u001b[38;5;124m'\u001b[39m))\n\u001b[1;32m     20\u001b[0m model\u001b[38;5;241m.\u001b[39madd(layers\u001b[38;5;241m.\u001b[39mDense(\u001b[38;5;241m32\u001b[39m, activation\u001b[38;5;241m=\u001b[39m\u001b[38;5;124m'\u001b[39m\u001b[38;5;124mrelu\u001b[39m\u001b[38;5;124m'\u001b[39m))\n\u001b[0;32m---> 22\u001b[0m \u001b[43mmodel\u001b[49m\u001b[38;5;241;43m.\u001b[39;49m\u001b[43madd\u001b[49m\u001b[43m(\u001b[49m\u001b[43mlayers\u001b[49m\u001b[38;5;241;43m.\u001b[39;49m\u001b[43mConcatenate\u001b[49m\u001b[43m(\u001b[49m\u001b[43m)\u001b[49m\u001b[43m)\u001b[49m\n\u001b[1;32m     24\u001b[0m model\u001b[38;5;241m.\u001b[39madd(layers\u001b[38;5;241m.\u001b[39mDense(\u001b[38;5;241m1\u001b[39m, activation\u001b[38;5;241m=\u001b[39m\u001b[38;5;124m'\u001b[39m\u001b[38;5;124mlinear\u001b[39m\u001b[38;5;124m'\u001b[39m))\n\u001b[1;32m     26\u001b[0m model\u001b[38;5;241m.\u001b[39mcompile(loss\u001b[38;5;241m=\u001b[39m\u001b[38;5;124m'\u001b[39m\u001b[38;5;124mmean_squared_error\u001b[39m\u001b[38;5;124m'\u001b[39m,\n\u001b[1;32m     27\u001b[0m               optimizer\u001b[38;5;241m=\u001b[39m\u001b[38;5;124m'\u001b[39m\u001b[38;5;124madam\u001b[39m\u001b[38;5;124m'\u001b[39m,\n\u001b[1;32m     28\u001b[0m               metrics\u001b[38;5;241m=\u001b[39mmetrics_list)\n",
      "File \u001b[0;32m~/Documents/GitHub/mtg_nlp_price_prediction/.venv/lib/python3.10/site-packages/tensorflow/python/trackable/base.py:204\u001b[0m, in \u001b[0;36mno_automatic_dependency_tracking.<locals>._method_wrapper\u001b[0;34m(self, *args, **kwargs)\u001b[0m\n\u001b[1;32m    202\u001b[0m \u001b[38;5;28mself\u001b[39m\u001b[38;5;241m.\u001b[39m_self_setattr_tracking \u001b[38;5;241m=\u001b[39m \u001b[38;5;28;01mFalse\u001b[39;00m  \u001b[38;5;66;03m# pylint: disable=protected-access\u001b[39;00m\n\u001b[1;32m    203\u001b[0m \u001b[38;5;28;01mtry\u001b[39;00m:\n\u001b[0;32m--> 204\u001b[0m   result \u001b[38;5;241m=\u001b[39m \u001b[43mmethod\u001b[49m\u001b[43m(\u001b[49m\u001b[38;5;28;43mself\u001b[39;49m\u001b[43m,\u001b[49m\u001b[43m \u001b[49m\u001b[38;5;241;43m*\u001b[39;49m\u001b[43margs\u001b[49m\u001b[43m,\u001b[49m\u001b[43m \u001b[49m\u001b[38;5;241;43m*\u001b[39;49m\u001b[38;5;241;43m*\u001b[39;49m\u001b[43mkwargs\u001b[49m\u001b[43m)\u001b[49m\n\u001b[1;32m    205\u001b[0m \u001b[38;5;28;01mfinally\u001b[39;00m:\n\u001b[1;32m    206\u001b[0m   \u001b[38;5;28mself\u001b[39m\u001b[38;5;241m.\u001b[39m_self_setattr_tracking \u001b[38;5;241m=\u001b[39m previous_value  \u001b[38;5;66;03m# pylint: disable=protected-access\u001b[39;00m\n",
      "File \u001b[0;32m~/Documents/GitHub/mtg_nlp_price_prediction/.venv/lib/python3.10/site-packages/keras/src/utils/traceback_utils.py:70\u001b[0m, in \u001b[0;36mfilter_traceback.<locals>.error_handler\u001b[0;34m(*args, **kwargs)\u001b[0m\n\u001b[1;32m     67\u001b[0m     filtered_tb \u001b[38;5;241m=\u001b[39m _process_traceback_frames(e\u001b[38;5;241m.\u001b[39m__traceback__)\n\u001b[1;32m     68\u001b[0m     \u001b[38;5;66;03m# To get the full stack trace, call:\u001b[39;00m\n\u001b[1;32m     69\u001b[0m     \u001b[38;5;66;03m# `tf.debugging.disable_traceback_filtering()`\u001b[39;00m\n\u001b[0;32m---> 70\u001b[0m     \u001b[38;5;28;01mraise\u001b[39;00m e\u001b[38;5;241m.\u001b[39mwith_traceback(filtered_tb) \u001b[38;5;28;01mfrom\u001b[39;00m \u001b[38;5;28;01mNone\u001b[39;00m\n\u001b[1;32m     71\u001b[0m \u001b[38;5;28;01mfinally\u001b[39;00m:\n\u001b[1;32m     72\u001b[0m     \u001b[38;5;28;01mdel\u001b[39;00m filtered_tb\n",
      "File \u001b[0;32m~/Documents/GitHub/mtg_nlp_price_prediction/.venv/lib/python3.10/site-packages/keras/src/layers/merging/concatenate.py:98\u001b[0m, in \u001b[0;36mConcatenate.build\u001b[0;34m(self, input_shape)\u001b[0m\n\u001b[1;32m     94\u001b[0m \u001b[38;5;129m@tf_utils\u001b[39m\u001b[38;5;241m.\u001b[39mshape_type_conversion\n\u001b[1;32m     95\u001b[0m \u001b[38;5;28;01mdef\u001b[39;00m \u001b[38;5;21mbuild\u001b[39m(\u001b[38;5;28mself\u001b[39m, input_shape):\n\u001b[1;32m     96\u001b[0m     \u001b[38;5;66;03m# Used purely for shape validation.\u001b[39;00m\n\u001b[1;32m     97\u001b[0m     \u001b[38;5;28;01mif\u001b[39;00m \u001b[38;5;28mlen\u001b[39m(input_shape) \u001b[38;5;241m<\u001b[39m \u001b[38;5;241m1\u001b[39m \u001b[38;5;129;01mor\u001b[39;00m \u001b[38;5;129;01mnot\u001b[39;00m \u001b[38;5;28misinstance\u001b[39m(input_shape[\u001b[38;5;241m0\u001b[39m], \u001b[38;5;28mtuple\u001b[39m):\n\u001b[0;32m---> 98\u001b[0m         \u001b[38;5;28;01mraise\u001b[39;00m \u001b[38;5;167;01mValueError\u001b[39;00m(\n\u001b[1;32m     99\u001b[0m             \u001b[38;5;124m\"\u001b[39m\u001b[38;5;124mA `Concatenate` layer should be called on a list of \u001b[39m\u001b[38;5;124m\"\u001b[39m\n\u001b[1;32m    100\u001b[0m             \u001b[38;5;124mf\u001b[39m\u001b[38;5;124m\"\u001b[39m\u001b[38;5;124mat least 1 input. Received: input_shape=\u001b[39m\u001b[38;5;132;01m{\u001b[39;00minput_shape\u001b[38;5;132;01m}\u001b[39;00m\u001b[38;5;124m\"\u001b[39m\n\u001b[1;32m    101\u001b[0m         )\n\u001b[1;32m    102\u001b[0m     \u001b[38;5;28;01mif\u001b[39;00m \u001b[38;5;28mall\u001b[39m(shape \u001b[38;5;129;01mis\u001b[39;00m \u001b[38;5;28;01mNone\u001b[39;00m \u001b[38;5;28;01mfor\u001b[39;00m shape \u001b[38;5;129;01min\u001b[39;00m input_shape):\n\u001b[1;32m    103\u001b[0m         \u001b[38;5;28;01mreturn\u001b[39;00m\n",
      "\u001b[0;31mValueError\u001b[0m: A `Concatenate` layer should be called on a list of at least 1 input. Received: input_shape=(None, 32)"
     ]
    }
   ],
   "source": [
    "model = initialize_model()"
   ]
  },
  {
   "cell_type": "code",
   "execution_count": 198,
   "metadata": {},
   "outputs": [],
   "source": [
    "def get_history():\n",
    "    es = EarlyStopping(patience=10, restore_best_weights=False)\n",
    "\n",
    "    history = model.fit(\n",
    "        [X_numerical_train,  X_color_train, X_rarity_train, X_boolean_train, X_text_train],\n",
    "        y_train,\n",
    "        epochs=100,\n",
    "        batch_size=4,\n",
    "        validation_split=0.2,\n",
    "        callbacks=[es],\n",
    "        verbose=1\n",
    "    )\n",
    "\n",
    "    return history\n"
   ]
  },
  {
   "cell_type": "code",
   "execution_count": 199,
   "metadata": {},
   "outputs": [
    {
     "ename": "UnboundLocalError",
     "evalue": "local variable 'dense_text' referenced before assignment",
     "output_type": "error",
     "traceback": [
      "\u001b[0;31m---------------------------------------------------------------------------\u001b[0m",
      "\u001b[0;31mUnboundLocalError\u001b[0m                         Traceback (most recent call last)",
      "Cell \u001b[0;32mIn[199], line 1\u001b[0m\n\u001b[0;32m----> 1\u001b[0m model \u001b[38;5;241m=\u001b[39m \u001b[43minitialize_model\u001b[49m\u001b[43m(\u001b[49m\u001b[43m)\u001b[49m\n\u001b[1;32m      2\u001b[0m history \u001b[38;5;241m=\u001b[39m get_history(model, X_numerical_train, X_text_train, y_train)\n",
      "Cell \u001b[0;32mIn[197], line 9\u001b[0m, in \u001b[0;36minitialize_model\u001b[0;34m()\u001b[0m\n\u001b[1;32m      5\u001b[0m dense_numerical \u001b[38;5;241m=\u001b[39m layers\u001b[38;5;241m.\u001b[39mDense(\u001b[38;5;241m32\u001b[39m, activation\u001b[38;5;241m=\u001b[39m\u001b[38;5;124m'\u001b[39m\u001b[38;5;124mrelu\u001b[39m\u001b[38;5;124m'\u001b[39m)(input_numerical)\n\u001b[1;32m      8\u001b[0m input_text \u001b[38;5;241m=\u001b[39m layers\u001b[38;5;241m.\u001b[39mInput(shape\u001b[38;5;241m=\u001b[39m(\u001b[38;5;241m1068\u001b[39m, \u001b[38;5;241m1\u001b[39m), name\u001b[38;5;241m=\u001b[39m\u001b[38;5;124m'\u001b[39m\u001b[38;5;124minput_text\u001b[39m\u001b[38;5;124m'\u001b[39m)\n\u001b[0;32m----> 9\u001b[0m dense_text \u001b[38;5;241m=\u001b[39m layers\u001b[38;5;241m.\u001b[39mFlatten()(\u001b[43mdense_text\u001b[49m)\n\u001b[1;32m     11\u001b[0m input_boolean \u001b[38;5;241m=\u001b[39m layers\u001b[38;5;241m.\u001b[39mInput(shape\u001b[38;5;241m=\u001b[39m(\u001b[38;5;241m3\u001b[39m,))\n\u001b[1;32m     12\u001b[0m dense_boolean \u001b[38;5;241m=\u001b[39m layers\u001b[38;5;241m.\u001b[39mDense(\u001b[38;5;241m16\u001b[39m, activation\u001b[38;5;241m=\u001b[39m\u001b[38;5;124m'\u001b[39m\u001b[38;5;124mrelu\u001b[39m\u001b[38;5;124m'\u001b[39m)(input_boolean)\n",
      "\u001b[0;31mUnboundLocalError\u001b[0m: local variable 'dense_text' referenced before assignment"
     ]
    }
   ],
   "source": [
    "model = initialize_model()\n",
    "history = get_history()"
   ]
  }
 ],
 "metadata": {
  "kernelspec": {
   "display_name": ".venv",
   "language": "python",
   "name": "python3"
  },
  "language_info": {
   "codemirror_mode": {
    "name": "ipython",
    "version": 3
   },
   "file_extension": ".py",
   "mimetype": "text/x-python",
   "name": "python",
   "nbconvert_exporter": "python",
   "pygments_lexer": "ipython3",
   "version": "3.10.6"
  }
 },
 "nbformat": 4,
 "nbformat_minor": 2
}
