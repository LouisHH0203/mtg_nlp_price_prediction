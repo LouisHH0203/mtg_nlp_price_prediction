{
 "cells": [
  {
   "cell_type": "code",
   "execution_count": 77,
   "metadata": {},
   "outputs": [],
   "source": [
    "import pandas as pd\n",
    "import numpy as np\n",
    "import matplotlib.pyplot as plt\n",
    "from ast import literal_eval\n",
    "from sklearn.preprocessing import LabelBinarizer, OneHotEncoder, MultiLabelBinarizer, StandardScaler\n",
    "from sklearn.model_selection import train_test_split\n",
    "from sklearn.pipeline import make_pipeline\n",
    "from sklearn.compose import ColumnTransformer\n",
    "import tensorflow as tf\n",
    "from tensorflow.keras.callbacks import EarlyStopping\n",
    "from tensorflow.keras.metrics import MeanSquaredError, Accuracy\n",
    "from tensorflow.keras import models\n",
    "from tensorflow.keras.layers import Dense, Concatenate, Input, Dropout,  LSTM, Flatten\n",
    "from tensorflow.keras.models import Sequential, Model\n",
    "from tensorflow.keras.regularizers import l1_l2\n",
    "from keras.models import Sequential\n",
    "import nltk\n",
    "from gensim.models import Word2Vec\n",
    "from nltk.tokenize import word_tokenize\n"
   ]
  },
  {
   "cell_type": "code",
   "execution_count": 78,
   "metadata": {},
   "outputs": [
    {
     "data": {
      "text/html": [
       "<div>\n",
       "<style scoped>\n",
       "    .dataframe tbody tr th:only-of-type {\n",
       "        vertical-align: middle;\n",
       "    }\n",
       "\n",
       "    .dataframe tbody tr th {\n",
       "        vertical-align: top;\n",
       "    }\n",
       "\n",
       "    .dataframe thead th {\n",
       "        text-align: right;\n",
       "    }\n",
       "</style>\n",
       "<table border=\"1\" class=\"dataframe\">\n",
       "  <thead>\n",
       "    <tr style=\"text-align: right;\">\n",
       "      <th></th>\n",
       "      <th>cmc</th>\n",
       "      <th>colors</th>\n",
       "      <th>legendary</th>\n",
       "      <th>types</th>\n",
       "      <th>sub_types</th>\n",
       "      <th>oracle_text</th>\n",
       "      <th>keywords</th>\n",
       "      <th>power</th>\n",
       "      <th>toughness</th>\n",
       "      <th>rarity</th>\n",
       "      <th>reserved</th>\n",
       "      <th>released_at</th>\n",
       "      <th>booster</th>\n",
       "      <th>usd</th>\n",
       "    </tr>\n",
       "  </thead>\n",
       "  <tbody>\n",
       "    <tr>\n",
       "      <th>13087</th>\n",
       "      <td>5</td>\n",
       "      <td>['G', 'U']</td>\n",
       "      <td>False</td>\n",
       "      <td>['Enchantment']</td>\n",
       "      <td>['none']</td>\n",
       "      <td>Cumulative upkeep {1} (At the beginning of you...</td>\n",
       "      <td>['Cumulative upkeep']</td>\n",
       "      <td>0</td>\n",
       "      <td>0</td>\n",
       "      <td>rare</td>\n",
       "      <td>True</td>\n",
       "      <td>1042</td>\n",
       "      <td>True</td>\n",
       "      <td>0.66</td>\n",
       "    </tr>\n",
       "    <tr>\n",
       "      <th>2947</th>\n",
       "      <td>3</td>\n",
       "      <td>['G']</td>\n",
       "      <td>False</td>\n",
       "      <td>['Sorcery']</td>\n",
       "      <td>['none']</td>\n",
       "      <td>Bolster 3. (Choose a creature with the least t...</td>\n",
       "      <td>['Bolster']</td>\n",
       "      <td>0</td>\n",
       "      <td>0</td>\n",
       "      <td>uncommon</td>\n",
       "      <td>False</td>\n",
       "      <td>7723</td>\n",
       "      <td>True</td>\n",
       "      <td>0.04</td>\n",
       "    </tr>\n",
       "    <tr>\n",
       "      <th>18513</th>\n",
       "      <td>3</td>\n",
       "      <td>['G']</td>\n",
       "      <td>False</td>\n",
       "      <td>['Creature']</td>\n",
       "      <td>['Satyr', 'Rogue']</td>\n",
       "      <td>{3}{G}: Target creature must be blocked this t...</td>\n",
       "      <td>['no keywords']</td>\n",
       "      <td>2</td>\n",
       "      <td>1</td>\n",
       "      <td>uncommon</td>\n",
       "      <td>False</td>\n",
       "      <td>7240</td>\n",
       "      <td>True</td>\n",
       "      <td>0.02</td>\n",
       "    </tr>\n",
       "    <tr>\n",
       "      <th>22407</th>\n",
       "      <td>2</td>\n",
       "      <td>['B']</td>\n",
       "      <td>False</td>\n",
       "      <td>['Artifact']</td>\n",
       "      <td>['Equipment']</td>\n",
       "      <td>When Thieves' Tools enters the battlefield, cr...</td>\n",
       "      <td>['Treasure', 'Equip']</td>\n",
       "      <td>0</td>\n",
       "      <td>0</td>\n",
       "      <td>common</td>\n",
       "      <td>False</td>\n",
       "      <td>10418</td>\n",
       "      <td>True</td>\n",
       "      <td>0.07</td>\n",
       "    </tr>\n",
       "    <tr>\n",
       "      <th>3595</th>\n",
       "      <td>3</td>\n",
       "      <td>['C']</td>\n",
       "      <td>False</td>\n",
       "      <td>['Artifact']</td>\n",
       "      <td>['none']</td>\n",
       "      <td>{2}: Until end of turn, Chimeric Sphere become...</td>\n",
       "      <td>['no keywords']</td>\n",
       "      <td>0</td>\n",
       "      <td>0</td>\n",
       "      <td>uncommon</td>\n",
       "      <td>False</td>\n",
       "      <td>1286</td>\n",
       "      <td>True</td>\n",
       "      <td>0.19</td>\n",
       "    </tr>\n",
       "  </tbody>\n",
       "</table>\n",
       "</div>"
      ],
      "text/plain": [
       "       cmc      colors  legendary            types           sub_types  \\\n",
       "13087    5  ['G', 'U']      False  ['Enchantment']            ['none']   \n",
       "2947     3       ['G']      False      ['Sorcery']            ['none']   \n",
       "18513    3       ['G']      False     ['Creature']  ['Satyr', 'Rogue']   \n",
       "22407    2       ['B']      False     ['Artifact']       ['Equipment']   \n",
       "3595     3       ['C']      False     ['Artifact']            ['none']   \n",
       "\n",
       "                                             oracle_text  \\\n",
       "13087  Cumulative upkeep {1} (At the beginning of you...   \n",
       "2947   Bolster 3. (Choose a creature with the least t...   \n",
       "18513  {3}{G}: Target creature must be blocked this t...   \n",
       "22407  When Thieves' Tools enters the battlefield, cr...   \n",
       "3595   {2}: Until end of turn, Chimeric Sphere become...   \n",
       "\n",
       "                    keywords  power  toughness    rarity  reserved  \\\n",
       "13087  ['Cumulative upkeep']      0          0      rare      True   \n",
       "2947             ['Bolster']      0          0  uncommon     False   \n",
       "18513        ['no keywords']      2          1  uncommon     False   \n",
       "22407  ['Treasure', 'Equip']      0          0    common     False   \n",
       "3595         ['no keywords']      0          0  uncommon     False   \n",
       "\n",
       "       released_at  booster   usd  \n",
       "13087         1042     True  0.66  \n",
       "2947          7723     True  0.04  \n",
       "18513         7240     True  0.02  \n",
       "22407        10418     True  0.07  \n",
       "3595          1286     True  0.19  "
      ]
     },
     "execution_count": 78,
     "metadata": {},
     "output_type": "execute_result"
    }
   ],
   "source": [
    "df = pd.read_csv('/Users/louishagenbucher/Documents/GitHub/mtg_nlp_price_prediction/data/clean_cards.csv')\n",
    "df.sample(5)"
   ]
  },
  {
   "cell_type": "code",
   "execution_count": 79,
   "metadata": {},
   "outputs": [],
   "source": [
    "no_prices_df = df[df['usd'].isna()]"
   ]
  },
  {
   "cell_type": "code",
   "execution_count": 80,
   "metadata": {},
   "outputs": [],
   "source": [
    "df.drop(df[df['usd'].isna()].index, inplace=True)\n",
    "df.reset_index(drop=True, inplace=True)"
   ]
  },
  {
   "cell_type": "code",
   "execution_count": 81,
   "metadata": {},
   "outputs": [],
   "source": [
    "df['colors'] = df['colors'].apply(literal_eval)"
   ]
  },
  {
   "cell_type": "code",
   "execution_count": 82,
   "metadata": {},
   "outputs": [
    {
     "data": {
      "text/html": [
       "<div>\n",
       "<style scoped>\n",
       "    .dataframe tbody tr th:only-of-type {\n",
       "        vertical-align: middle;\n",
       "    }\n",
       "\n",
       "    .dataframe tbody tr th {\n",
       "        vertical-align: top;\n",
       "    }\n",
       "\n",
       "    .dataframe thead th {\n",
       "        text-align: right;\n",
       "    }\n",
       "</style>\n",
       "<table border=\"1\" class=\"dataframe\">\n",
       "  <thead>\n",
       "    <tr style=\"text-align: right;\">\n",
       "      <th></th>\n",
       "      <th>cmc</th>\n",
       "      <th>types</th>\n",
       "      <th>sub_types</th>\n",
       "      <th>oracle_text</th>\n",
       "      <th>keywords</th>\n",
       "      <th>power</th>\n",
       "      <th>toughness</th>\n",
       "      <th>rarity</th>\n",
       "      <th>released_at</th>\n",
       "      <th>usd</th>\n",
       "      <th>B</th>\n",
       "      <th>C</th>\n",
       "      <th>G</th>\n",
       "      <th>N</th>\n",
       "      <th>R</th>\n",
       "      <th>U</th>\n",
       "      <th>W</th>\n",
       "      <th>_legendary</th>\n",
       "      <th>_booster</th>\n",
       "      <th>_resrved</th>\n",
       "    </tr>\n",
       "  </thead>\n",
       "  <tbody>\n",
       "    <tr>\n",
       "      <th>0</th>\n",
       "      <td>2</td>\n",
       "      <td>['Artifact']</td>\n",
       "      <td>['Equipment']</td>\n",
       "      <td>Equipped creature gets +2/+2.\\nEquip {3} ({3}:...</td>\n",
       "      <td>['Equip']</td>\n",
       "      <td>0</td>\n",
       "      <td>0</td>\n",
       "      <td>common</td>\n",
       "      <td>10096</td>\n",
       "      <td>0.02</td>\n",
       "      <td>0</td>\n",
       "      <td>0</td>\n",
       "      <td>0</td>\n",
       "      <td>0</td>\n",
       "      <td>0</td>\n",
       "      <td>0</td>\n",
       "      <td>1</td>\n",
       "      <td>0</td>\n",
       "      <td>1</td>\n",
       "      <td>0</td>\n",
       "    </tr>\n",
       "    <tr>\n",
       "      <th>1</th>\n",
       "      <td>4</td>\n",
       "      <td>['Creature']</td>\n",
       "      <td>['Bird', 'Rogue']</td>\n",
       "      <td>Flying\\nWhen Aarakocra Sneak enters the battle...</td>\n",
       "      <td>['Flying']</td>\n",
       "      <td>1</td>\n",
       "      <td>4</td>\n",
       "      <td>common</td>\n",
       "      <td>10418</td>\n",
       "      <td>0.06</td>\n",
       "      <td>0</td>\n",
       "      <td>0</td>\n",
       "      <td>0</td>\n",
       "      <td>0</td>\n",
       "      <td>0</td>\n",
       "      <td>1</td>\n",
       "      <td>0</td>\n",
       "      <td>0</td>\n",
       "      <td>1</td>\n",
       "      <td>0</td>\n",
       "    </tr>\n",
       "    <tr>\n",
       "      <th>2</th>\n",
       "      <td>5</td>\n",
       "      <td>['Creature']</td>\n",
       "      <td>['Astartes', 'Warrior']</td>\n",
       "      <td>Trample\\nMark of Chaos Ascendant — During your...</td>\n",
       "      <td>['Mark of Chaos Ascendant', 'Trample']</td>\n",
       "      <td>5</td>\n",
       "      <td>5</td>\n",
       "      <td>mythic</td>\n",
       "      <td>10537</td>\n",
       "      <td>2.81</td>\n",
       "      <td>1</td>\n",
       "      <td>0</td>\n",
       "      <td>0</td>\n",
       "      <td>0</td>\n",
       "      <td>1</td>\n",
       "      <td>1</td>\n",
       "      <td>0</td>\n",
       "      <td>1</td>\n",
       "      <td>0</td>\n",
       "      <td>0</td>\n",
       "    </tr>\n",
       "  </tbody>\n",
       "</table>\n",
       "</div>"
      ],
      "text/plain": [
       "   cmc         types                sub_types  \\\n",
       "0    2  ['Artifact']            ['Equipment']   \n",
       "1    4  ['Creature']        ['Bird', 'Rogue']   \n",
       "2    5  ['Creature']  ['Astartes', 'Warrior']   \n",
       "\n",
       "                                         oracle_text  \\\n",
       "0  Equipped creature gets +2/+2.\\nEquip {3} ({3}:...   \n",
       "1  Flying\\nWhen Aarakocra Sneak enters the battle...   \n",
       "2  Trample\\nMark of Chaos Ascendant — During your...   \n",
       "\n",
       "                                 keywords  power  toughness  rarity  \\\n",
       "0                               ['Equip']      0          0  common   \n",
       "1                              ['Flying']      1          4  common   \n",
       "2  ['Mark of Chaos Ascendant', 'Trample']      5          5  mythic   \n",
       "\n",
       "   released_at   usd  B  C  G  N  R  U  W  _legendary  _booster  _resrved  \n",
       "0        10096  0.02  0  0  0  0  0  0  1           0         1         0  \n",
       "1        10418  0.06  0  0  0  0  0  1  0           0         1         0  \n",
       "2        10537  2.81  1  0  0  0  1  1  0           1         0         0  "
      ]
     },
     "execution_count": 82,
     "metadata": {},
     "output_type": "execute_result"
    }
   ],
   "source": [
    "mlb = MultiLabelBinarizer()\n",
    "df= df.join(pd.DataFrame(mlb.fit_transform(df['colors']),\n",
    "                                      columns=mlb.classes_,\n",
    "                                      index=df.index))\n",
    "legend_lb= LabelBinarizer()\n",
    "df = df.join(pd.DataFrame(legend_lb.fit_transform(df['legendary']), columns=['legendary'])\n",
    "             .add_prefix('_'))\n",
    "booster_lb= LabelBinarizer()\n",
    "df = df.join(pd.DataFrame(legend_lb.fit_transform(df['booster']), columns=['booster'])\n",
    "             .add_prefix('_'))\n",
    "reserved_lb= LabelBinarizer()\n",
    "df = df.join(pd.DataFrame(legend_lb.fit_transform(df['reserved']), columns=['resrved'])\n",
    "             .add_prefix('_'))\n",
    "\n",
    "df = df.drop(['legendary', 'booster', 'reserved', 'colors'], axis=1)\n",
    "df.head(3)"
   ]
  },
  {
   "cell_type": "markdown",
   "metadata": {},
   "source": [
    "#### Text processing"
   ]
  },
  {
   "cell_type": "code",
   "execution_count": 83,
   "metadata": {},
   "outputs": [],
   "source": [
    "df['tokenized_text']=df['oracle_text'].apply(word_tokenize)"
   ]
  },
  {
   "cell_type": "code",
   "execution_count": 84,
   "metadata": {},
   "outputs": [],
   "source": [
    "text_model = Word2Vec(sentences=df['tokenized_text'], vector_size=100, window=5, min_count=1, workers=4)"
   ]
  },
  {
   "cell_type": "code",
   "execution_count": 85,
   "metadata": {},
   "outputs": [],
   "source": [
    "def get_sentence_embedding(tokens):\n",
    "    tokens = [token for token in tokens if token in text_model.wv.key_to_index]\n",
    "    if tokens:\n",
    "        return sum(text_model.wv[token] for token in tokens) / len(tokens)\n",
    "    else:\n",
    "        return None"
   ]
  },
  {
   "cell_type": "code",
   "execution_count": 86,
   "metadata": {},
   "outputs": [],
   "source": [
    "df['text_embedding'] = df['oracle_text'].apply(get_sentence_embedding)"
   ]
  },
  {
   "cell_type": "code",
   "execution_count": 87,
   "metadata": {},
   "outputs": [
    {
     "data": {
      "text/plain": [
       "0        [-0.51127124, 0.7780097, -0.035495322, 1.00399...\n",
       "1        [-1.2777522, 0.23359896, 0.013131049, 1.333495...\n",
       "2        [-0.9803241, 0.21962857, 0.011534677, 0.834389...\n",
       "3        [-0.91731036, 0.734758, -0.036130466, 1.140536...\n",
       "4        [-1.4610449, 0.13186991, 0.09089973, 1.152816,...\n",
       "                               ...                        \n",
       "25484    [-1.1082821, 0.21531929, -0.018388567, 1.04077...\n",
       "25485    [-1.5607055, 0.3205959, 0.100274175, 1.5218605...\n",
       "25486    [-1.1958561, 0.19678542, 0.036566474, 1.186480...\n",
       "25487    [-1.2305026, 0.20982346, -0.03580578, 1.151475...\n",
       "25488    [-1.0753328, 0.41487616, 0.013102834, 1.054587...\n",
       "Name: text_embedding, Length: 25489, dtype: object"
      ]
     },
     "execution_count": 87,
     "metadata": {},
     "output_type": "execute_result"
    }
   ],
   "source": [
    "df['text_embedding']"
   ]
  },
  {
   "cell_type": "code",
   "execution_count": 88,
   "metadata": {},
   "outputs": [
    {
     "data": {
      "text/plain": [
       "0        [0.14906012, -0.21770309, 0.05100936, 0.053071...\n",
       "1        [-0.20235693, -0.052378323, -0.3317952, -0.071...\n",
       "2        [-0.20235693, -0.052378323, -0.3317952, -0.071...\n",
       "3        [0.43364996, -0.19831982, 0.035760514, -0.4332...\n",
       "4        [0.14906012, -0.21770309, 0.05100936, 0.053071...\n",
       "                               ...                        \n",
       "25484    [-0.20235693, -0.052378323, -0.3317952, -0.071...\n",
       "25485    [0.48035628, -0.19263104, -0.061860748, -0.425...\n",
       "25486    [-0.20235693, -0.052378323, -0.3317952, -0.071...\n",
       "25487    [-0.20235693, -0.052378323, -0.3317952, -0.071...\n",
       "25488    [-0.20235693, -0.052378323, -0.3317952, -0.071...\n",
       "Name: types_embedding, Length: 25489, dtype: object"
      ]
     },
     "execution_count": 88,
     "metadata": {},
     "output_type": "execute_result"
    }
   ],
   "source": [
    "df['tokenized_types']=df['types'].apply(word_tokenize)\n",
    "types_model = Word2Vec(sentences=df['types'], vector_size=100, window=5, min_count=1, workers=4)\n",
    "def get_types_embedding(tokens):\n",
    "    tokens = [token for token in tokens if token in types_model.wv.key_to_index]\n",
    "    if tokens:\n",
    "        return sum(types_model.wv[token] for token in tokens) / len(tokens)\n",
    "    else:\n",
    "        return None\n",
    "df['types_embedding'] = df['types'].apply(get_types_embedding)\n",
    "df['types_embedding']"
   ]
  },
  {
   "cell_type": "code",
   "execution_count": 89,
   "metadata": {},
   "outputs": [
    {
     "data": {
      "text/plain": [
       "0        [-0.37045395, 0.18439247, 0.06258764, -0.54133...\n",
       "1        [-0.27447513, -0.0665222, 0.20202424, -0.36353...\n",
       "2        [-0.10581706, -0.22339688, 0.15656523, -0.4000...\n",
       "3        [-0.21246275, 0.009257782, 0.06773925, -0.2428...\n",
       "4        [-0.21246275, 0.009257782, 0.06773925, -0.2428...\n",
       "                               ...                        \n",
       "25484    [-0.2094457, -0.18556929, 0.25844848, -0.32577...\n",
       "25485    [-0.21246275, 0.009257782, 0.06773925, -0.2428...\n",
       "25486    [-0.4249401, -0.07015147, 0.1792006, -0.378282...\n",
       "25487    [-0.2707535, -0.038897317, 0.19458976, -0.2887...\n",
       "25488    [-0.2767891, -0.08932997, 0.13954143, -0.48634...\n",
       "Name: subtypes_embedding, Length: 25489, dtype: object"
      ]
     },
     "execution_count": 89,
     "metadata": {},
     "output_type": "execute_result"
    }
   ],
   "source": [
    "df['tokenized_subtypes']=df['sub_types'].apply(word_tokenize)\n",
    "subtypes_model = Word2Vec(sentences=df['sub_types'], vector_size=100, window=5, min_count=1, workers=4)\n",
    "def get_types_embedding(tokens):\n",
    "    tokens = [token for token in tokens if token in subtypes_model.wv.key_to_index]\n",
    "    if tokens:\n",
    "        return sum(subtypes_model.wv[token] for token in tokens) / len(tokens)\n",
    "    else:\n",
    "        return None\n",
    "df['subtypes_embedding'] = df['sub_types'].apply(get_types_embedding)\n",
    "df['subtypes_embedding']"
   ]
  },
  {
   "cell_type": "code",
   "execution_count": 90,
   "metadata": {},
   "outputs": [
    {
     "data": {
      "text/plain": [
       "0        [-0.0070120296, -0.12131895, 0.020730816, -0.2...\n",
       "1        [0.09644347, -0.18145148, -0.3692048, 0.109952...\n",
       "2        [0.12041464, -0.14207205, -0.083954014, 0.0695...\n",
       "3        [-0.14961502, 0.1220414, -0.1562332, 0.2643179...\n",
       "4        [-0.14961502, 0.1220414, -0.1562332, 0.2643179...\n",
       "                               ...                        \n",
       "25484    [-0.086470515, -0.13292374, -0.059534166, -0.0...\n",
       "25485    [-0.14961502, 0.1220414, -0.1562332, 0.2643179...\n",
       "25486    [0.09644347, -0.18145148, -0.3692048, 0.109952...\n",
       "25487    [-0.14961502, 0.1220414, -0.1562332, 0.2643179...\n",
       "25488    [-0.09700499, -0.010879397, -0.1195374, 0.1226...\n",
       "Name: keywords_embedding, Length: 25489, dtype: object"
      ]
     },
     "execution_count": 90,
     "metadata": {},
     "output_type": "execute_result"
    }
   ],
   "source": [
    "df['tokenized_keywords']=df['keywords'].apply(word_tokenize)\n",
    "keywords_model = Word2Vec(sentences=df['keywords'], vector_size=100, window=5, min_count=1, workers=4)\n",
    "def get_types_embedding(tokens):\n",
    "    tokens = [token for token in tokens if token in keywords_model.wv.key_to_index]\n",
    "    if tokens:\n",
    "        return sum(keywords_model.wv[token] for token in tokens) / len(tokens)\n",
    "    else:\n",
    "        return None\n",
    "df['keywords_embedding'] = df['keywords'].apply(get_types_embedding)\n",
    "df['keywords_embedding']"
   ]
  },
  {
   "cell_type": "code",
   "execution_count": 91,
   "metadata": {},
   "outputs": [
    {
     "data": {
      "text/plain": [
       "Index(['cmc', 'types', 'sub_types', 'oracle_text', 'keywords', 'power',\n",
       "       'toughness', 'rarity', 'released_at', 'usd', 'B', 'C', 'G', 'N', 'R',\n",
       "       'U', 'W', '_legendary', '_booster', '_resrved', 'tokenized_text',\n",
       "       'text_embedding', 'tokenized_types', 'types_embedding',\n",
       "       'tokenized_subtypes', 'subtypes_embedding', 'tokenized_keywords',\n",
       "       'keywords_embedding'],\n",
       "      dtype='object')"
      ]
     },
     "execution_count": 91,
     "metadata": {},
     "output_type": "execute_result"
    }
   ],
   "source": [
    "df.columns"
   ]
  },
  {
   "cell_type": "code",
   "execution_count": 92,
   "metadata": {},
   "outputs": [],
   "source": [
    "df.drop(columns=['sub_types','types', 'keywords', 'oracle_text',\n",
    "        'tokenized_types','tokenized_subtypes', 'tokenized_keywords',\n",
    "        'tokenized_text'],  inplace=True)"
   ]
  },
  {
   "cell_type": "markdown",
   "metadata": {},
   "source": [
    "#### The Pipeline and neural network"
   ]
  },
  {
   "cell_type": "code",
   "execution_count": 93,
   "metadata": {},
   "outputs": [
    {
     "data": {
      "text/html": [
       "<div>\n",
       "<style scoped>\n",
       "    .dataframe tbody tr th:only-of-type {\n",
       "        vertical-align: middle;\n",
       "    }\n",
       "\n",
       "    .dataframe tbody tr th {\n",
       "        vertical-align: top;\n",
       "    }\n",
       "\n",
       "    .dataframe thead th {\n",
       "        text-align: right;\n",
       "    }\n",
       "</style>\n",
       "<table border=\"1\" class=\"dataframe\">\n",
       "  <thead>\n",
       "    <tr style=\"text-align: right;\">\n",
       "      <th></th>\n",
       "      <th>cmc</th>\n",
       "      <th>power</th>\n",
       "      <th>toughness</th>\n",
       "      <th>rarity</th>\n",
       "      <th>released_at</th>\n",
       "      <th>usd</th>\n",
       "      <th>B</th>\n",
       "      <th>C</th>\n",
       "      <th>G</th>\n",
       "      <th>N</th>\n",
       "      <th>R</th>\n",
       "      <th>U</th>\n",
       "      <th>W</th>\n",
       "      <th>_legendary</th>\n",
       "      <th>_booster</th>\n",
       "      <th>_resrved</th>\n",
       "      <th>text_embedding</th>\n",
       "      <th>types_embedding</th>\n",
       "      <th>subtypes_embedding</th>\n",
       "      <th>keywords_embedding</th>\n",
       "    </tr>\n",
       "  </thead>\n",
       "  <tbody>\n",
       "    <tr>\n",
       "      <th>0</th>\n",
       "      <td>2</td>\n",
       "      <td>0</td>\n",
       "      <td>0</td>\n",
       "      <td>common</td>\n",
       "      <td>10096</td>\n",
       "      <td>0.02</td>\n",
       "      <td>0</td>\n",
       "      <td>0</td>\n",
       "      <td>0</td>\n",
       "      <td>0</td>\n",
       "      <td>0</td>\n",
       "      <td>0</td>\n",
       "      <td>1</td>\n",
       "      <td>0</td>\n",
       "      <td>1</td>\n",
       "      <td>0</td>\n",
       "      <td>[-0.51127124, 0.7780097, -0.035495322, 1.00399...</td>\n",
       "      <td>[0.14906012, -0.21770309, 0.05100936, 0.053071...</td>\n",
       "      <td>[-0.37045395, 0.18439247, 0.06258764, -0.54133...</td>\n",
       "      <td>[-0.0070120296, -0.12131895, 0.020730816, -0.2...</td>\n",
       "    </tr>\n",
       "    <tr>\n",
       "      <th>1</th>\n",
       "      <td>4</td>\n",
       "      <td>1</td>\n",
       "      <td>4</td>\n",
       "      <td>common</td>\n",
       "      <td>10418</td>\n",
       "      <td>0.06</td>\n",
       "      <td>0</td>\n",
       "      <td>0</td>\n",
       "      <td>0</td>\n",
       "      <td>0</td>\n",
       "      <td>0</td>\n",
       "      <td>1</td>\n",
       "      <td>0</td>\n",
       "      <td>0</td>\n",
       "      <td>1</td>\n",
       "      <td>0</td>\n",
       "      <td>[-1.2777522, 0.23359896, 0.013131049, 1.333495...</td>\n",
       "      <td>[-0.20235693, -0.052378323, -0.3317952, -0.071...</td>\n",
       "      <td>[-0.27447513, -0.0665222, 0.20202424, -0.36353...</td>\n",
       "      <td>[0.09644347, -0.18145148, -0.3692048, 0.109952...</td>\n",
       "    </tr>\n",
       "    <tr>\n",
       "      <th>2</th>\n",
       "      <td>5</td>\n",
       "      <td>5</td>\n",
       "      <td>5</td>\n",
       "      <td>mythic</td>\n",
       "      <td>10537</td>\n",
       "      <td>2.81</td>\n",
       "      <td>1</td>\n",
       "      <td>0</td>\n",
       "      <td>0</td>\n",
       "      <td>0</td>\n",
       "      <td>1</td>\n",
       "      <td>1</td>\n",
       "      <td>0</td>\n",
       "      <td>1</td>\n",
       "      <td>0</td>\n",
       "      <td>0</td>\n",
       "      <td>[-0.9803241, 0.21962857, 0.011534677, 0.834389...</td>\n",
       "      <td>[-0.20235693, -0.052378323, -0.3317952, -0.071...</td>\n",
       "      <td>[-0.10581706, -0.22339688, 0.15656523, -0.4000...</td>\n",
       "      <td>[0.12041464, -0.14207205, -0.083954014, 0.0695...</td>\n",
       "    </tr>\n",
       "  </tbody>\n",
       "</table>\n",
       "</div>"
      ],
      "text/plain": [
       "   cmc  power  toughness  rarity  released_at   usd  B  C  G  N  R  U  W  \\\n",
       "0    2      0          0  common        10096  0.02  0  0  0  0  0  0  1   \n",
       "1    4      1          4  common        10418  0.06  0  0  0  0  0  1  0   \n",
       "2    5      5          5  mythic        10537  2.81  1  0  0  0  1  1  0   \n",
       "\n",
       "   _legendary  _booster  _resrved  \\\n",
       "0           0         1         0   \n",
       "1           0         1         0   \n",
       "2           1         0         0   \n",
       "\n",
       "                                      text_embedding  \\\n",
       "0  [-0.51127124, 0.7780097, -0.035495322, 1.00399...   \n",
       "1  [-1.2777522, 0.23359896, 0.013131049, 1.333495...   \n",
       "2  [-0.9803241, 0.21962857, 0.011534677, 0.834389...   \n",
       "\n",
       "                                     types_embedding  \\\n",
       "0  [0.14906012, -0.21770309, 0.05100936, 0.053071...   \n",
       "1  [-0.20235693, -0.052378323, -0.3317952, -0.071...   \n",
       "2  [-0.20235693, -0.052378323, -0.3317952, -0.071...   \n",
       "\n",
       "                                  subtypes_embedding  \\\n",
       "0  [-0.37045395, 0.18439247, 0.06258764, -0.54133...   \n",
       "1  [-0.27447513, -0.0665222, 0.20202424, -0.36353...   \n",
       "2  [-0.10581706, -0.22339688, 0.15656523, -0.4000...   \n",
       "\n",
       "                                  keywords_embedding  \n",
       "0  [-0.0070120296, -0.12131895, 0.020730816, -0.2...  \n",
       "1  [0.09644347, -0.18145148, -0.3692048, 0.109952...  \n",
       "2  [0.12041464, -0.14207205, -0.083954014, 0.0695...  "
      ]
     },
     "execution_count": 93,
     "metadata": {},
     "output_type": "execute_result"
    }
   ],
   "source": [
    "df.head(3)"
   ]
  },
  {
   "cell_type": "code",
   "execution_count": 94,
   "metadata": {},
   "outputs": [],
   "source": [
    "X = df.drop(columns='usd')\n",
    "y = df['usd']"
   ]
  },
  {
   "cell_type": "code",
   "execution_count": 95,
   "metadata": {},
   "outputs": [],
   "source": [
    "numerical_features = ['power', 'toughness', 'released_at', 'cmc']\n",
    "categorical_features = ['rarity']\n",
    "remaining_features = X.drop(columns=['rarity', 'power', 'toughness', 'released_at', 'cmc'])\n",
    "\n",
    "preprocessor = ColumnTransformer(\n",
    "    transformers=[\n",
    "        ('num', StandardScaler(), numerical_features),\n",
    "        ('cat', OneHotEncoder(), categorical_features)\n",
    "    ],\n",
    "    remainder='passthrough'\n",
    ")\n",
    "\n",
    "pipeline = make_pipeline(preprocessor)"
   ]
  },
  {
   "cell_type": "code",
   "execution_count": 96,
   "metadata": {},
   "outputs": [],
   "source": [
    "X_preprocessed= pipeline.fit_transform(X)"
   ]
  },
  {
   "cell_type": "code",
   "execution_count": 97,
   "metadata": {},
   "outputs": [
    {
     "data": {
      "text/plain": [
       "array(['num__power', 'num__toughness', 'num__released_at', 'num__cmc',\n",
       "       'cat__rarity_common', 'cat__rarity_mythic', 'cat__rarity_rare',\n",
       "       'cat__rarity_special', 'cat__rarity_uncommon', 'remainder__B',\n",
       "       'remainder__C', 'remainder__G', 'remainder__N', 'remainder__R',\n",
       "       'remainder__U', 'remainder__W', 'remainder___legendary',\n",
       "       'remainder___booster', 'remainder___resrved',\n",
       "       'remainder__text_embedding', 'remainder__types_embedding',\n",
       "       'remainder__subtypes_embedding', 'remainder__keywords_embedding'],\n",
       "      dtype=object)"
      ]
     },
     "execution_count": 97,
     "metadata": {},
     "output_type": "execute_result"
    }
   ],
   "source": [
    "column_names = pipeline.get_feature_names_out()\n",
    "column_names"
   ]
  },
  {
   "cell_type": "code",
   "execution_count": 98,
   "metadata": {},
   "outputs": [],
   "source": [
    "processed_df = pd.DataFrame(X_preprocessed, columns=column_names)"
   ]
  },
  {
   "cell_type": "code",
   "execution_count": 99,
   "metadata": {},
   "outputs": [
    {
     "data": {
      "text/html": [
       "<div>\n",
       "<style scoped>\n",
       "    .dataframe tbody tr th:only-of-type {\n",
       "        vertical-align: middle;\n",
       "    }\n",
       "\n",
       "    .dataframe tbody tr th {\n",
       "        vertical-align: top;\n",
       "    }\n",
       "\n",
       "    .dataframe thead th {\n",
       "        text-align: right;\n",
       "    }\n",
       "</style>\n",
       "<table border=\"1\" class=\"dataframe\">\n",
       "  <thead>\n",
       "    <tr style=\"text-align: right;\">\n",
       "      <th></th>\n",
       "      <th>num__power</th>\n",
       "      <th>num__toughness</th>\n",
       "      <th>num__released_at</th>\n",
       "      <th>num__cmc</th>\n",
       "      <th>cat__rarity_common</th>\n",
       "      <th>cat__rarity_mythic</th>\n",
       "      <th>cat__rarity_rare</th>\n",
       "      <th>cat__rarity_special</th>\n",
       "      <th>cat__rarity_uncommon</th>\n",
       "      <th>remainder__B</th>\n",
       "      <th>...</th>\n",
       "      <th>remainder__R</th>\n",
       "      <th>remainder__U</th>\n",
       "      <th>remainder__W</th>\n",
       "      <th>remainder___legendary</th>\n",
       "      <th>remainder___booster</th>\n",
       "      <th>remainder___resrved</th>\n",
       "      <th>remainder__text_embedding</th>\n",
       "      <th>remainder__types_embedding</th>\n",
       "      <th>remainder__subtypes_embedding</th>\n",
       "      <th>remainder__keywords_embedding</th>\n",
       "    </tr>\n",
       "  </thead>\n",
       "  <tbody>\n",
       "    <tr>\n",
       "      <th>0</th>\n",
       "      <td>-0.787786</td>\n",
       "      <td>-0.818064</td>\n",
       "      <td>0.83164</td>\n",
       "      <td>-0.74473</td>\n",
       "      <td>1.0</td>\n",
       "      <td>0.0</td>\n",
       "      <td>0.0</td>\n",
       "      <td>0.0</td>\n",
       "      <td>0.0</td>\n",
       "      <td>0</td>\n",
       "      <td>...</td>\n",
       "      <td>0</td>\n",
       "      <td>0</td>\n",
       "      <td>1</td>\n",
       "      <td>0</td>\n",
       "      <td>1</td>\n",
       "      <td>0</td>\n",
       "      <td>[-0.51127124, 0.7780097, -0.035495322, 1.00399...</td>\n",
       "      <td>[0.14906012, -0.21770309, 0.05100936, 0.053071...</td>\n",
       "      <td>[-0.37045395, 0.18439247, 0.06258764, -0.54133...</td>\n",
       "      <td>[-0.0070120296, -0.12131895, 0.020730816, -0.2...</td>\n",
       "    </tr>\n",
       "    <tr>\n",
       "      <th>1</th>\n",
       "      <td>-0.237532</td>\n",
       "      <td>1.302998</td>\n",
       "      <td>0.930864</td>\n",
       "      <td>0.397826</td>\n",
       "      <td>1.0</td>\n",
       "      <td>0.0</td>\n",
       "      <td>0.0</td>\n",
       "      <td>0.0</td>\n",
       "      <td>0.0</td>\n",
       "      <td>0</td>\n",
       "      <td>...</td>\n",
       "      <td>0</td>\n",
       "      <td>1</td>\n",
       "      <td>0</td>\n",
       "      <td>0</td>\n",
       "      <td>1</td>\n",
       "      <td>0</td>\n",
       "      <td>[-1.2777522, 0.23359896, 0.013131049, 1.333495...</td>\n",
       "      <td>[-0.20235693, -0.052378323, -0.3317952, -0.071...</td>\n",
       "      <td>[-0.27447513, -0.0665222, 0.20202424, -0.36353...</td>\n",
       "      <td>[0.09644347, -0.18145148, -0.3692048, 0.109952...</td>\n",
       "    </tr>\n",
       "    <tr>\n",
       "      <th>2</th>\n",
       "      <td>1.963486</td>\n",
       "      <td>1.833263</td>\n",
       "      <td>0.967534</td>\n",
       "      <td>0.969104</td>\n",
       "      <td>0.0</td>\n",
       "      <td>1.0</td>\n",
       "      <td>0.0</td>\n",
       "      <td>0.0</td>\n",
       "      <td>0.0</td>\n",
       "      <td>1</td>\n",
       "      <td>...</td>\n",
       "      <td>1</td>\n",
       "      <td>1</td>\n",
       "      <td>0</td>\n",
       "      <td>1</td>\n",
       "      <td>0</td>\n",
       "      <td>0</td>\n",
       "      <td>[-0.9803241, 0.21962857, 0.011534677, 0.834389...</td>\n",
       "      <td>[-0.20235693, -0.052378323, -0.3317952, -0.071...</td>\n",
       "      <td>[-0.10581706, -0.22339688, 0.15656523, -0.4000...</td>\n",
       "      <td>[0.12041464, -0.14207205, -0.083954014, 0.0695...</td>\n",
       "    </tr>\n",
       "  </tbody>\n",
       "</table>\n",
       "<p>3 rows × 23 columns</p>\n",
       "</div>"
      ],
      "text/plain": [
       "  num__power num__toughness num__released_at  num__cmc cat__rarity_common  \\\n",
       "0  -0.787786      -0.818064          0.83164  -0.74473                1.0   \n",
       "1  -0.237532       1.302998         0.930864  0.397826                1.0   \n",
       "2   1.963486       1.833263         0.967534  0.969104                0.0   \n",
       "\n",
       "  cat__rarity_mythic cat__rarity_rare cat__rarity_special  \\\n",
       "0                0.0              0.0                 0.0   \n",
       "1                0.0              0.0                 0.0   \n",
       "2                1.0              0.0                 0.0   \n",
       "\n",
       "  cat__rarity_uncommon remainder__B  ... remainder__R remainder__U  \\\n",
       "0                  0.0            0  ...            0            0   \n",
       "1                  0.0            0  ...            0            1   \n",
       "2                  0.0            1  ...            1            1   \n",
       "\n",
       "  remainder__W remainder___legendary remainder___booster remainder___resrved  \\\n",
       "0            1                     0                   1                   0   \n",
       "1            0                     0                   1                   0   \n",
       "2            0                     1                   0                   0   \n",
       "\n",
       "                           remainder__text_embedding  \\\n",
       "0  [-0.51127124, 0.7780097, -0.035495322, 1.00399...   \n",
       "1  [-1.2777522, 0.23359896, 0.013131049, 1.333495...   \n",
       "2  [-0.9803241, 0.21962857, 0.011534677, 0.834389...   \n",
       "\n",
       "                          remainder__types_embedding  \\\n",
       "0  [0.14906012, -0.21770309, 0.05100936, 0.053071...   \n",
       "1  [-0.20235693, -0.052378323, -0.3317952, -0.071...   \n",
       "2  [-0.20235693, -0.052378323, -0.3317952, -0.071...   \n",
       "\n",
       "                       remainder__subtypes_embedding  \\\n",
       "0  [-0.37045395, 0.18439247, 0.06258764, -0.54133...   \n",
       "1  [-0.27447513, -0.0665222, 0.20202424, -0.36353...   \n",
       "2  [-0.10581706, -0.22339688, 0.15656523, -0.4000...   \n",
       "\n",
       "                       remainder__keywords_embedding  \n",
       "0  [-0.0070120296, -0.12131895, 0.020730816, -0.2...  \n",
       "1  [0.09644347, -0.18145148, -0.3692048, 0.109952...  \n",
       "2  [0.12041464, -0.14207205, -0.083954014, 0.0695...  \n",
       "\n",
       "[3 rows x 23 columns]"
      ]
     },
     "execution_count": 99,
     "metadata": {},
     "output_type": "execute_result"
    }
   ],
   "source": [
    "processed_df.head(3)"
   ]
  },
  {
   "cell_type": "code",
   "execution_count": 100,
   "metadata": {},
   "outputs": [],
   "source": [
    "processed_df =processed_df.astype({\n",
    "    'num__power': float,\n",
    "    'num__toughness': float,\n",
    "    'num__released_at': float,\n",
    "    'num__cmc': float\n",
    "})"
   ]
  },
  {
   "cell_type": "code",
   "execution_count": 101,
   "metadata": {},
   "outputs": [],
   "source": [
    "processed_df = processed_df.astype({\n",
    "    \"cat__rarity_common\": int,\n",
    "    \"cat__rarity_mythic\": int,\n",
    "    \"cat__rarity_rare\": int,\n",
    "    \"cat__rarity_special\": int,\n",
    "    \"cat__rarity_uncommon\": int,\n",
    "    \"remainder__B\": int,\n",
    "    \"remainder__C\": int,\n",
    "    \"remainder__G\": int,\n",
    "    \"remainder__N\": int,\n",
    "    \"remainder__R\": int,\n",
    "    \"remainder__U\": int,\n",
    "    \"remainder__W\": int,\n",
    "    \"remainder___legendary\": int,\n",
    "    \"remainder___booster\": int,\n",
    "    \"remainder___resrved\": int\n",
    "})"
   ]
  },
  {
   "cell_type": "code",
   "execution_count": 102,
   "metadata": {},
   "outputs": [
    {
     "name": "stdout",
     "output_type": "stream",
     "text": [
      "<class 'pandas.core.frame.DataFrame'>\n",
      "RangeIndex: 25489 entries, 0 to 25488\n",
      "Data columns (total 23 columns):\n",
      " #   Column                         Non-Null Count  Dtype  \n",
      "---  ------                         --------------  -----  \n",
      " 0   num__power                     25489 non-null  float64\n",
      " 1   num__toughness                 25489 non-null  float64\n",
      " 2   num__released_at               25489 non-null  float64\n",
      " 3   num__cmc                       25489 non-null  float64\n",
      " 4   cat__rarity_common             25489 non-null  int64  \n",
      " 5   cat__rarity_mythic             25489 non-null  int64  \n",
      " 6   cat__rarity_rare               25489 non-null  int64  \n",
      " 7   cat__rarity_special            25489 non-null  int64  \n",
      " 8   cat__rarity_uncommon           25489 non-null  int64  \n",
      " 9   remainder__B                   25489 non-null  int64  \n",
      " 10  remainder__C                   25489 non-null  int64  \n",
      " 11  remainder__G                   25489 non-null  int64  \n",
      " 12  remainder__N                   25489 non-null  int64  \n",
      " 13  remainder__R                   25489 non-null  int64  \n",
      " 14  remainder__U                   25489 non-null  int64  \n",
      " 15  remainder__W                   25489 non-null  int64  \n",
      " 16  remainder___legendary          25489 non-null  int64  \n",
      " 17  remainder___booster            25489 non-null  int64  \n",
      " 18  remainder___resrved            25489 non-null  int64  \n",
      " 19  remainder__text_embedding      25380 non-null  object \n",
      " 20  remainder__types_embedding     25489 non-null  object \n",
      " 21  remainder__subtypes_embedding  25489 non-null  object \n",
      " 22  remainder__keywords_embedding  25489 non-null  object \n",
      "dtypes: float64(4), int64(15), object(4)\n",
      "memory usage: 4.5+ MB\n"
     ]
    }
   ],
   "source": [
    "processed_df.info()"
   ]
  },
  {
   "cell_type": "code",
   "execution_count": 103,
   "metadata": {},
   "outputs": [],
   "source": [
    "indexes = processed_df[processed_df['remainder__text_embedding'].isna()].index"
   ]
  },
  {
   "cell_type": "code",
   "execution_count": 104,
   "metadata": {},
   "outputs": [],
   "source": [
    "processed_df.drop(indexes, inplace=True)\n",
    "processed_df.reset_index(drop=True, inplace=True)"
   ]
  },
  {
   "cell_type": "code",
   "execution_count": 117,
   "metadata": {},
   "outputs": [],
   "source": [
    "y.drop(indexes, inplace=True)\n",
    "y.reset_index(drop=True, inplace=True)"
   ]
  },
  {
   "cell_type": "code",
   "execution_count": 118,
   "metadata": {},
   "outputs": [
    {
     "name": "stdout",
     "output_type": "stream",
     "text": [
      "<class 'pandas.core.frame.DataFrame'>\n",
      "RangeIndex: 25380 entries, 0 to 25379\n",
      "Data columns (total 23 columns):\n",
      " #   Column                         Non-Null Count  Dtype  \n",
      "---  ------                         --------------  -----  \n",
      " 0   num__power                     25380 non-null  float64\n",
      " 1   num__toughness                 25380 non-null  float64\n",
      " 2   num__released_at               25380 non-null  float64\n",
      " 3   num__cmc                       25380 non-null  float64\n",
      " 4   cat__rarity_common             25380 non-null  int64  \n",
      " 5   cat__rarity_mythic             25380 non-null  int64  \n",
      " 6   cat__rarity_rare               25380 non-null  int64  \n",
      " 7   cat__rarity_special            25380 non-null  int64  \n",
      " 8   cat__rarity_uncommon           25380 non-null  int64  \n",
      " 9   remainder__B                   25380 non-null  int64  \n",
      " 10  remainder__C                   25380 non-null  int64  \n",
      " 11  remainder__G                   25380 non-null  int64  \n",
      " 12  remainder__N                   25380 non-null  int64  \n",
      " 13  remainder__R                   25380 non-null  int64  \n",
      " 14  remainder__U                   25380 non-null  int64  \n",
      " 15  remainder__W                   25380 non-null  int64  \n",
      " 16  remainder___legendary          25380 non-null  int64  \n",
      " 17  remainder___booster            25380 non-null  int64  \n",
      " 18  remainder___resrved            25380 non-null  int64  \n",
      " 19  remainder__text_embedding      25380 non-null  object \n",
      " 20  remainder__types_embedding     25380 non-null  object \n",
      " 21  remainder__subtypes_embedding  25380 non-null  object \n",
      " 22  remainder__keywords_embedding  25380 non-null  object \n",
      "dtypes: float64(4), int64(15), object(4)\n",
      "memory usage: 4.5+ MB\n"
     ]
    }
   ],
   "source": [
    "processed_df.info()"
   ]
  },
  {
   "cell_type": "code",
   "execution_count": 119,
   "metadata": {},
   "outputs": [],
   "source": [
    "X_numerical = processed_df[['num__power', 'num__toughness', 'num__released_at', 'num__cmc']]\n",
    "X_categorical = processed_df[['remainder___legendary', 'remainder___booster', 'remainder___resrved',\n",
    "                              'cat__rarity_common', 'cat__rarity_mythic', 'cat__rarity_rare', 'cat__rarity_special', 'cat__rarity_uncommon',\n",
    "                              'remainder__B', 'remainder__C', 'remainder__G', 'remainder__N', 'remainder__R', 'remainder__U', 'remainder__W']]\n",
    "X_text = processed_df[['remainder__text_embedding']]\n",
    "X_subtypes= processed_df[['remainder__subtypes_embedding']]\n",
    "X_types = processed_df[['remainder__types_embedding']]\n",
    "X_keys = processed_df[['remainder__keywords_embedding']]"
   ]
  },
  {
   "cell_type": "code",
   "execution_count": 120,
   "metadata": {},
   "outputs": [
    {
     "data": {
      "text/plain": [
       "((25380, 4), (25380, 15), (25380, 1), (25380, 1), (25380, 1), (25380, 1))"
      ]
     },
     "execution_count": 120,
     "metadata": {},
     "output_type": "execute_result"
    }
   ],
   "source": [
    "X_numerical.shape, X_categorical.shape, X_text.shape, X_subtypes.shape, X_types.shape, X_keys.shape"
   ]
  },
  {
   "cell_type": "code",
   "execution_count": 136,
   "metadata": {},
   "outputs": [
    {
     "data": {
      "text/plain": [
       "numpy.ndarray"
      ]
     },
     "execution_count": 136,
     "metadata": {},
     "output_type": "execute_result"
    }
   ],
   "source": [
    "type(X_text['remainder__text_embedding'][0])"
   ]
  },
  {
   "cell_type": "code",
   "execution_count": 144,
   "metadata": {},
   "outputs": [
    {
     "name": "stderr",
     "output_type": "stream",
     "text": [
      "/var/folders/tm/jmhp8xvj4_d4hh_01cf1jt_r0000gn/T/ipykernel_12472/1709872702.py:1: SettingWithCopyWarning: \n",
      "A value is trying to be set on a copy of a slice from a DataFrame.\n",
      "Try using .loc[row_indexer,col_indexer] = value instead\n",
      "\n",
      "See the caveats in the documentation: https://pandas.pydata.org/pandas-docs/stable/user_guide/indexing.html#returning-a-view-versus-a-copy\n",
      "  X_text['remainder__text_embedding'] = X_text['remainder__text_embedding'].apply(lambda x: np.array(x).flatten() if isinstance(x, list) or isinstance(x, np.ndarray) else x)\n"
     ]
    }
   ],
   "source": [
    "X_text['remainder__text_embedding'] = X_text['remainder__text_embedding'].apply(lambda x: np.array(x).flatten() if isinstance(x, list) or isinstance(x, np.ndarray) else x)"
   ]
  },
  {
   "cell_type": "code",
   "execution_count": 146,
   "metadata": {},
   "outputs": [
    {
     "ename": "ValueError",
     "evalue": "setting an array element with a sequence.",
     "output_type": "error",
     "traceback": [
      "\u001b[0;31m---------------------------------------------------------------------------\u001b[0m",
      "\u001b[0;31mValueError\u001b[0m                                Traceback (most recent call last)",
      "Cell \u001b[0;32mIn[146], line 1\u001b[0m\n\u001b[0;32m----> 1\u001b[0m X_text \u001b[38;5;241m=\u001b[39m \u001b[43mtf\u001b[49m\u001b[38;5;241;43m.\u001b[39;49m\u001b[43mconvert_to_tensor\u001b[49m\u001b[43m(\u001b[49m\u001b[43mX_text\u001b[49m\u001b[43m[\u001b[49m\u001b[38;5;124;43m'\u001b[39;49m\u001b[38;5;124;43mremainder__text_embedding\u001b[39;49m\u001b[38;5;124;43m'\u001b[39;49m\u001b[43m]\u001b[49m\u001b[38;5;241;43m.\u001b[39;49m\u001b[43mvalues\u001b[49m\u001b[43m,\u001b[49m\u001b[43m \u001b[49m\u001b[43mdtype\u001b[49m\u001b[38;5;241;43m=\u001b[39;49m\u001b[43mtf\u001b[49m\u001b[38;5;241;43m.\u001b[39;49m\u001b[43mfloat32\u001b[49m\u001b[43m)\u001b[49m\n",
      "File \u001b[0;32m~/Documents/GitHub/mtg_nlp_price_prediction/.venv/lib/python3.10/site-packages/tensorflow/python/util/traceback_utils.py:153\u001b[0m, in \u001b[0;36mfilter_traceback.<locals>.error_handler\u001b[0;34m(*args, **kwargs)\u001b[0m\n\u001b[1;32m    151\u001b[0m \u001b[38;5;28;01mexcept\u001b[39;00m \u001b[38;5;167;01mException\u001b[39;00m \u001b[38;5;28;01mas\u001b[39;00m e:\n\u001b[1;32m    152\u001b[0m   filtered_tb \u001b[38;5;241m=\u001b[39m _process_traceback_frames(e\u001b[38;5;241m.\u001b[39m__traceback__)\n\u001b[0;32m--> 153\u001b[0m   \u001b[38;5;28;01mraise\u001b[39;00m e\u001b[38;5;241m.\u001b[39mwith_traceback(filtered_tb) \u001b[38;5;28;01mfrom\u001b[39;00m \u001b[38;5;28;01mNone\u001b[39;00m\n\u001b[1;32m    154\u001b[0m \u001b[38;5;28;01mfinally\u001b[39;00m:\n\u001b[1;32m    155\u001b[0m   \u001b[38;5;28;01mdel\u001b[39;00m filtered_tb\n",
      "File \u001b[0;32m~/Documents/GitHub/mtg_nlp_price_prediction/.venv/lib/python3.10/site-packages/tensorflow/python/framework/constant_op.py:103\u001b[0m, in \u001b[0;36mconvert_to_eager_tensor\u001b[0;34m(value, ctx, dtype)\u001b[0m\n\u001b[1;32m    101\u001b[0m     dtype \u001b[38;5;241m=\u001b[39m dtypes\u001b[38;5;241m.\u001b[39mas_dtype(dtype)\u001b[38;5;241m.\u001b[39mas_datatype_enum\n\u001b[1;32m    102\u001b[0m ctx\u001b[38;5;241m.\u001b[39mensure_initialized()\n\u001b[0;32m--> 103\u001b[0m \u001b[38;5;28;01mreturn\u001b[39;00m \u001b[43mops\u001b[49m\u001b[38;5;241;43m.\u001b[39;49m\u001b[43mEagerTensor\u001b[49m\u001b[43m(\u001b[49m\u001b[43mvalue\u001b[49m\u001b[43m,\u001b[49m\u001b[43m \u001b[49m\u001b[43mctx\u001b[49m\u001b[38;5;241;43m.\u001b[39;49m\u001b[43mdevice_name\u001b[49m\u001b[43m,\u001b[49m\u001b[43m \u001b[49m\u001b[43mdtype\u001b[49m\u001b[43m)\u001b[49m\n",
      "\u001b[0;31mValueError\u001b[0m: setting an array element with a sequence."
     ]
    }
   ],
   "source": [
    "X_text = tf.convert_to_tensor(X_text['remainder__text_embedding'].values, dtype=tf.float32)"
   ]
  },
  {
   "cell_type": "code",
   "execution_count": 123,
   "metadata": {},
   "outputs": [],
   "source": [
    "X_numerical_train, X_numerical_test, X_categorical_train, X_categorical_test, X_text_train, X_text_test,X_subtypes_train, X_subtypes_test, X_types_train, X_types_test, X_keys_train, X_keys_test, y_train, y_test = train_test_split(\n",
    "    X_numerical, X_categorical, X_text, X_subtypes, X_types, X_keys, y, test_size=0.30, random_state=42\n",
    ")"
   ]
  },
  {
   "cell_type": "code",
   "execution_count": 124,
   "metadata": {},
   "outputs": [],
   "source": [
    "def initialize_model():\n",
    "\n",
    "    model_numerical = Sequential([\n",
    "        Input(shape=(4,), name='input_numerical'),\n",
    "        Dense(32, activation='relu', kernel_regularizer=l1_l2(l1=0.01, l2=0.01)),\n",
    "        Dropout(0.2),\n",
    "        Dense(32, activation='relu'),\n",
    "        Dropout(0.2),\n",
    "        Dense(32, activation='relu'),\n",
    "        Dense(16, activation='relu'),\n",
    "        Dense(8, activation='relu')\n",
    "    ], name='model_numerical')\n",
    "\n",
    "    model_categorical = Sequential([\n",
    "        Input(shape=(15,), name='input_categorical'),\n",
    "        Dense(64, activation='relu', kernel_regularizer=l1_l2(l1=0.01, l2=0.01)),\n",
    "        Dropout(0.2),\n",
    "        Dense(16, activation='relu'),\n",
    "        Dropout(0.2),\n",
    "        Dense(16, activation='relu')\n",
    "    ], name='model_categorical')\n",
    "\n",
    "    model_text = Sequential([\n",
    "        Input(shape=(300,), name='input_text'),\n",
    "        Dropout(0.2),\n",
    "        Dense(256, activation='relu', kernel_regularizer=l1_l2(l1=0.01, l2=0.01)),\n",
    "        Dense(128, activation='relu'),\n",
    "        Dense(128, activation='relu'),\n",
    "        Dropout(0.2),\n",
    "        Dense(256, activation='relu', kernel_regularizer=l1_l2(l1=0.01, l2=0.01)),\n",
    "        Dense(64, activation='relu'),\n",
    "        Dense(32, activation='relu'),\n",
    "        Dense(16, activation='relu'),\n",
    "    ], name='model_text')\n",
    "\n",
    "\n",
    "    model_type = Sequential([\n",
    "        Input(shape=(100,), name='input_type'),\n",
    "        Dense(32, activation='relu'),\n",
    "        Dropout(0.2),\n",
    "        Dense(64, activation='relu'),\n",
    "        Dense(32, activation='relu'),\n",
    "    ], name='model_type')\n",
    "\n",
    "\n",
    "    model_subtype = Sequential([\n",
    "        Input(shape=(100,), name='input_subtype'),\n",
    "        Dense(32, activation='relu'),\n",
    "        Dropout(0.2),\n",
    "        Dense(64, activation='relu'),\n",
    "        Dense(32, activation='relu')\n",
    "    ], name='model_subtype')\n",
    "\n",
    "\n",
    "    model_keys = Sequential([\n",
    "        Input(shape=(100,), name='input_keys'),\n",
    "        Dense(32, activation='relu'),\n",
    "        Dropout(0.2),\n",
    "        Dense(64, activation='relu'),\n",
    "        Dense(32, activation='relu')\n",
    "    ], name='model_keys')\n",
    "\n",
    "\n",
    "    concatenated = Concatenate()([\n",
    "        model_numerical.output,\n",
    "        model_categorical.output,\n",
    "        model_text.output,\n",
    "        model_type.output,\n",
    "        model_keys.output,\n",
    "        model_subtype.output\n",
    "    ])\n",
    "\n",
    "    output = Dense(1, activation='linear', name='output')(concatenated)\n",
    "\n",
    "\n",
    "    model = models.Model(inputs=[model_numerical.input, model_categorical.input, model_text.input, model_type.input, model_keys.input, model_subtype.input], outputs=output)\n",
    "\n",
    "    model.compile(loss='mean_squared_error',\n",
    "                  optimizer='adam',\n",
    "                  metrics=['mse', 'accuracy'])\n",
    "\n",
    "    return model\n"
   ]
  },
  {
   "cell_type": "code",
   "execution_count": 125,
   "metadata": {},
   "outputs": [],
   "source": [
    "model = initialize_model()"
   ]
  },
  {
   "cell_type": "code",
   "execution_count": 126,
   "metadata": {},
   "outputs": [],
   "source": [
    "def get_history():\n",
    "    es = EarlyStopping(patience=10, restore_best_weights=False)\n",
    "\n",
    "    train_data = {\n",
    "        'input_numerical': X_numerical_train,\n",
    "        'input_categorical': X_categorical_train,\n",
    "        'input_text': X_text_train,\n",
    "        'input_type': X_types_train,\n",
    "        'input_subtype': X_subtypes_train,\n",
    "        'input_keys': X_keys_train\n",
    "    }\n",
    "\n",
    "    test_data = {\n",
    "        'input_numerical': X_numerical_test,\n",
    "        'input_categorical': X_categorical_test,\n",
    "        'input_text': X_text_test,\n",
    "        'input_type': X_types_test,\n",
    "        'input_subtype': X_subtypes_test,\n",
    "        'input_keys': X_keys_test\n",
    "    }\n",
    "\n",
    "    history = model.fit(\n",
    "        train_data,\n",
    "        y_train,\n",
    "        epochs=20,\n",
    "        batch_size=16,\n",
    "        validation_data=(test_data, y_test),\n",
    "        callbacks=[es],\n",
    "        verbose=1\n",
    "    )\n",
    "\n",
    "    return history\n"
   ]
  },
  {
   "cell_type": "code",
   "execution_count": 127,
   "metadata": {},
   "outputs": [
    {
     "name": "stdout",
     "output_type": "stream",
     "text": [
      "Model: \"model_1\"\n",
      "__________________________________________________________________________________________________\n",
      " Layer (type)                Output Shape                 Param #   Connected to                  \n",
      "==================================================================================================\n",
      " input_text (InputLayer)     [(None, 300)]                0         []                            \n",
      "                                                                                                  \n",
      " dropout_13 (Dropout)        (None, 300)                  0         ['input_text[0][0]']          \n",
      "                                                                                                  \n",
      " input_numerical (InputLaye  [(None, 4)]                  0         []                            \n",
      " r)                                                                                               \n",
      "                                                                                                  \n",
      " dense_32 (Dense)            (None, 256)                  77056     ['dropout_13[0][0]']          \n",
      "                                                                                                  \n",
      " dense_24 (Dense)            (None, 32)                   160       ['input_numerical[0][0]']     \n",
      "                                                                                                  \n",
      " dense_33 (Dense)            (None, 128)                  32896     ['dense_32[0][0]']            \n",
      "                                                                                                  \n",
      " dropout_9 (Dropout)         (None, 32)                   0         ['dense_24[0][0]']            \n",
      "                                                                                                  \n",
      " input_categorical (InputLa  [(None, 15)]                 0         []                            \n",
      " yer)                                                                                             \n",
      "                                                                                                  \n",
      " dense_34 (Dense)            (None, 128)                  16512     ['dense_33[0][0]']            \n",
      "                                                                                                  \n",
      " dense_25 (Dense)            (None, 32)                   1056      ['dropout_9[0][0]']           \n",
      "                                                                                                  \n",
      " dense_29 (Dense)            (None, 64)                   1024      ['input_categorical[0][0]']   \n",
      "                                                                                                  \n",
      " dropout_14 (Dropout)        (None, 128)                  0         ['dense_34[0][0]']            \n",
      "                                                                                                  \n",
      " input_type (InputLayer)     [(None, 100)]                0         []                            \n",
      "                                                                                                  \n",
      " input_keys (InputLayer)     [(None, 100)]                0         []                            \n",
      "                                                                                                  \n",
      " input_subtype (InputLayer)  [(None, 100)]                0         []                            \n",
      "                                                                                                  \n",
      " dropout_10 (Dropout)        (None, 32)                   0         ['dense_25[0][0]']            \n",
      "                                                                                                  \n",
      " dropout_11 (Dropout)        (None, 64)                   0         ['dense_29[0][0]']            \n",
      "                                                                                                  \n",
      " dense_35 (Dense)            (None, 256)                  33024     ['dropout_14[0][0]']          \n",
      "                                                                                                  \n",
      " dense_39 (Dense)            (None, 32)                   3232      ['input_type[0][0]']          \n",
      "                                                                                                  \n",
      " dense_45 (Dense)            (None, 32)                   3232      ['input_keys[0][0]']          \n",
      "                                                                                                  \n",
      " dense_42 (Dense)            (None, 32)                   3232      ['input_subtype[0][0]']       \n",
      "                                                                                                  \n",
      " dense_26 (Dense)            (None, 32)                   1056      ['dropout_10[0][0]']          \n",
      "                                                                                                  \n",
      " dense_30 (Dense)            (None, 16)                   1040      ['dropout_11[0][0]']          \n",
      "                                                                                                  \n",
      " dense_36 (Dense)            (None, 64)                   16448     ['dense_35[0][0]']            \n",
      "                                                                                                  \n",
      " dropout_15 (Dropout)        (None, 32)                   0         ['dense_39[0][0]']            \n",
      "                                                                                                  \n",
      " dropout_17 (Dropout)        (None, 32)                   0         ['dense_45[0][0]']            \n",
      "                                                                                                  \n",
      " dropout_16 (Dropout)        (None, 32)                   0         ['dense_42[0][0]']            \n",
      "                                                                                                  \n",
      " dense_27 (Dense)            (None, 16)                   528       ['dense_26[0][0]']            \n",
      "                                                                                                  \n",
      " dropout_12 (Dropout)        (None, 16)                   0         ['dense_30[0][0]']            \n",
      "                                                                                                  \n",
      " dense_37 (Dense)            (None, 32)                   2080      ['dense_36[0][0]']            \n",
      "                                                                                                  \n",
      " dense_40 (Dense)            (None, 64)                   2112      ['dropout_15[0][0]']          \n",
      "                                                                                                  \n",
      " dense_46 (Dense)            (None, 64)                   2112      ['dropout_17[0][0]']          \n",
      "                                                                                                  \n",
      " dense_43 (Dense)            (None, 64)                   2112      ['dropout_16[0][0]']          \n",
      "                                                                                                  \n",
      " dense_28 (Dense)            (None, 8)                    136       ['dense_27[0][0]']            \n",
      "                                                                                                  \n",
      " dense_31 (Dense)            (None, 16)                   272       ['dropout_12[0][0]']          \n",
      "                                                                                                  \n",
      " dense_38 (Dense)            (None, 16)                   528       ['dense_37[0][0]']            \n",
      "                                                                                                  \n",
      " dense_41 (Dense)            (None, 32)                   2080      ['dense_40[0][0]']            \n",
      "                                                                                                  \n",
      " dense_47 (Dense)            (None, 32)                   2080      ['dense_46[0][0]']            \n",
      "                                                                                                  \n",
      " dense_44 (Dense)            (None, 32)                   2080      ['dense_43[0][0]']            \n",
      "                                                                                                  \n",
      " concatenate_1 (Concatenate  (None, 136)                  0         ['dense_28[0][0]',            \n",
      " )                                                                   'dense_31[0][0]',            \n",
      "                                                                     'dense_38[0][0]',            \n",
      "                                                                     'dense_41[0][0]',            \n",
      "                                                                     'dense_47[0][0]',            \n",
      "                                                                     'dense_44[0][0]']            \n",
      "                                                                                                  \n",
      " output (Dense)              (None, 1)                    137       ['concatenate_1[0][0]']       \n",
      "                                                                                                  \n",
      "==================================================================================================\n",
      "Total params: 206225 (805.57 KB)\n",
      "Trainable params: 206225 (805.57 KB)\n",
      "Non-trainable params: 0 (0.00 Byte)\n",
      "__________________________________________________________________________________________________\n"
     ]
    }
   ],
   "source": [
    "model.summary()"
   ]
  },
  {
   "cell_type": "code",
   "execution_count": 128,
   "metadata": {},
   "outputs": [
    {
     "ename": "ValueError",
     "evalue": "Failed to convert a NumPy array to a Tensor (Unsupported object type numpy.ndarray).",
     "output_type": "error",
     "traceback": [
      "\u001b[0;31m---------------------------------------------------------------------------\u001b[0m",
      "\u001b[0;31mValueError\u001b[0m                                Traceback (most recent call last)",
      "Cell \u001b[0;32mIn[128], line 1\u001b[0m\n\u001b[0;32m----> 1\u001b[0m \u001b[43mget_history\u001b[49m\u001b[43m(\u001b[49m\u001b[43m)\u001b[49m\n",
      "Cell \u001b[0;32mIn[126], line 22\u001b[0m, in \u001b[0;36mget_history\u001b[0;34m()\u001b[0m\n\u001b[1;32m      4\u001b[0m train_data \u001b[38;5;241m=\u001b[39m {\n\u001b[1;32m      5\u001b[0m     \u001b[38;5;124m'\u001b[39m\u001b[38;5;124minput_numerical\u001b[39m\u001b[38;5;124m'\u001b[39m: X_numerical_train,\n\u001b[1;32m      6\u001b[0m     \u001b[38;5;124m'\u001b[39m\u001b[38;5;124minput_categorical\u001b[39m\u001b[38;5;124m'\u001b[39m: X_categorical_train,\n\u001b[0;32m   (...)\u001b[0m\n\u001b[1;32m     10\u001b[0m     \u001b[38;5;124m'\u001b[39m\u001b[38;5;124minput_keys\u001b[39m\u001b[38;5;124m'\u001b[39m: X_keys_train\n\u001b[1;32m     11\u001b[0m }\n\u001b[1;32m     13\u001b[0m test_data \u001b[38;5;241m=\u001b[39m {\n\u001b[1;32m     14\u001b[0m     \u001b[38;5;124m'\u001b[39m\u001b[38;5;124minput_numerical\u001b[39m\u001b[38;5;124m'\u001b[39m: X_numerical_test,\n\u001b[1;32m     15\u001b[0m     \u001b[38;5;124m'\u001b[39m\u001b[38;5;124minput_categorical\u001b[39m\u001b[38;5;124m'\u001b[39m: X_categorical_test,\n\u001b[0;32m   (...)\u001b[0m\n\u001b[1;32m     19\u001b[0m     \u001b[38;5;124m'\u001b[39m\u001b[38;5;124minput_keys\u001b[39m\u001b[38;5;124m'\u001b[39m: X_keys_test\n\u001b[1;32m     20\u001b[0m }\n\u001b[0;32m---> 22\u001b[0m history \u001b[38;5;241m=\u001b[39m \u001b[43mmodel\u001b[49m\u001b[38;5;241;43m.\u001b[39;49m\u001b[43mfit\u001b[49m\u001b[43m(\u001b[49m\n\u001b[1;32m     23\u001b[0m \u001b[43m    \u001b[49m\u001b[43mtrain_data\u001b[49m\u001b[43m,\u001b[49m\n\u001b[1;32m     24\u001b[0m \u001b[43m    \u001b[49m\u001b[43my_train\u001b[49m\u001b[43m,\u001b[49m\n\u001b[1;32m     25\u001b[0m \u001b[43m    \u001b[49m\u001b[43mepochs\u001b[49m\u001b[38;5;241;43m=\u001b[39;49m\u001b[38;5;241;43m20\u001b[39;49m\u001b[43m,\u001b[49m\n\u001b[1;32m     26\u001b[0m \u001b[43m    \u001b[49m\u001b[43mbatch_size\u001b[49m\u001b[38;5;241;43m=\u001b[39;49m\u001b[38;5;241;43m16\u001b[39;49m\u001b[43m,\u001b[49m\n\u001b[1;32m     27\u001b[0m \u001b[43m    \u001b[49m\u001b[43mvalidation_data\u001b[49m\u001b[38;5;241;43m=\u001b[39;49m\u001b[43m(\u001b[49m\u001b[43mtest_data\u001b[49m\u001b[43m,\u001b[49m\u001b[43m \u001b[49m\u001b[43my_test\u001b[49m\u001b[43m)\u001b[49m\u001b[43m,\u001b[49m\n\u001b[1;32m     28\u001b[0m \u001b[43m    \u001b[49m\u001b[43mcallbacks\u001b[49m\u001b[38;5;241;43m=\u001b[39;49m\u001b[43m[\u001b[49m\u001b[43mes\u001b[49m\u001b[43m]\u001b[49m\u001b[43m,\u001b[49m\n\u001b[1;32m     29\u001b[0m \u001b[43m    \u001b[49m\u001b[43mverbose\u001b[49m\u001b[38;5;241;43m=\u001b[39;49m\u001b[38;5;241;43m1\u001b[39;49m\n\u001b[1;32m     30\u001b[0m \u001b[43m\u001b[49m\u001b[43m)\u001b[49m\n\u001b[1;32m     32\u001b[0m \u001b[38;5;28;01mreturn\u001b[39;00m history\n",
      "File \u001b[0;32m~/Documents/GitHub/mtg_nlp_price_prediction/.venv/lib/python3.10/site-packages/keras/src/utils/traceback_utils.py:70\u001b[0m, in \u001b[0;36mfilter_traceback.<locals>.error_handler\u001b[0;34m(*args, **kwargs)\u001b[0m\n\u001b[1;32m     67\u001b[0m     filtered_tb \u001b[38;5;241m=\u001b[39m _process_traceback_frames(e\u001b[38;5;241m.\u001b[39m__traceback__)\n\u001b[1;32m     68\u001b[0m     \u001b[38;5;66;03m# To get the full stack trace, call:\u001b[39;00m\n\u001b[1;32m     69\u001b[0m     \u001b[38;5;66;03m# `tf.debugging.disable_traceback_filtering()`\u001b[39;00m\n\u001b[0;32m---> 70\u001b[0m     \u001b[38;5;28;01mraise\u001b[39;00m e\u001b[38;5;241m.\u001b[39mwith_traceback(filtered_tb) \u001b[38;5;28;01mfrom\u001b[39;00m \u001b[38;5;28;01mNone\u001b[39;00m\n\u001b[1;32m     71\u001b[0m \u001b[38;5;28;01mfinally\u001b[39;00m:\n\u001b[1;32m     72\u001b[0m     \u001b[38;5;28;01mdel\u001b[39;00m filtered_tb\n",
      "File \u001b[0;32m~/Documents/GitHub/mtg_nlp_price_prediction/.venv/lib/python3.10/site-packages/tensorflow/python/framework/constant_op.py:103\u001b[0m, in \u001b[0;36mconvert_to_eager_tensor\u001b[0;34m(value, ctx, dtype)\u001b[0m\n\u001b[1;32m    101\u001b[0m     dtype \u001b[38;5;241m=\u001b[39m dtypes\u001b[38;5;241m.\u001b[39mas_dtype(dtype)\u001b[38;5;241m.\u001b[39mas_datatype_enum\n\u001b[1;32m    102\u001b[0m ctx\u001b[38;5;241m.\u001b[39mensure_initialized()\n\u001b[0;32m--> 103\u001b[0m \u001b[38;5;28;01mreturn\u001b[39;00m \u001b[43mops\u001b[49m\u001b[38;5;241;43m.\u001b[39;49m\u001b[43mEagerTensor\u001b[49m\u001b[43m(\u001b[49m\u001b[43mvalue\u001b[49m\u001b[43m,\u001b[49m\u001b[43m \u001b[49m\u001b[43mctx\u001b[49m\u001b[38;5;241;43m.\u001b[39;49m\u001b[43mdevice_name\u001b[49m\u001b[43m,\u001b[49m\u001b[43m \u001b[49m\u001b[43mdtype\u001b[49m\u001b[43m)\u001b[49m\n",
      "\u001b[0;31mValueError\u001b[0m: Failed to convert a NumPy array to a Tensor (Unsupported object type numpy.ndarray)."
     ]
    }
   ],
   "source": [
    "get_history()"
   ]
  },
  {
   "cell_type": "code",
   "execution_count": null,
   "metadata": {},
   "outputs": [
    {
     "name": "stdout",
     "output_type": "stream",
     "text": [
      "239/239 [==============================] - 0s 2ms/step - loss: 1885.5562 - mse: 1881.6256 - accuracy: 2.6154e-04\n"
     ]
    },
    {
     "data": {
      "text/plain": [
       "[1885.55615234375, 1881.6256103515625, 0.00026154046645388007]"
      ]
     },
     "execution_count": 446,
     "metadata": {},
     "output_type": "execute_result"
    }
   ],
   "source": [
    "test_data = {\n",
    "        'input_numerical': X_numerical_test,\n",
    "        'input_categorical': X_categorical_test,\n",
    "        'input_text': X_text_test,\n",
    "        'input_type': X_types_test,\n",
    "        'input_subtype': X_subtypes_test,\n",
    "        'input_keys': X_keys_test\n",
    "    }\n",
    "model.evaluate(test_data, y_test)"
   ]
  },
  {
   "cell_type": "code",
   "execution_count": null,
   "metadata": {},
   "outputs": [],
   "source": [
    "no_prices_df = df[df['usd'].isna()]"
   ]
  }
 ],
 "metadata": {
  "kernelspec": {
   "display_name": ".venv",
   "language": "python",
   "name": "python3"
  },
  "language_info": {
   "codemirror_mode": {
    "name": "ipython",
    "version": 3
   },
   "file_extension": ".py",
   "mimetype": "text/x-python",
   "name": "python",
   "nbconvert_exporter": "python",
   "pygments_lexer": "ipython3",
   "version": "3.10.6"
  }
 },
 "nbformat": 4,
 "nbformat_minor": 2
}
