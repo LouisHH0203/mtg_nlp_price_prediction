{
 "cells": [
  {
   "cell_type": "code",
   "execution_count": 1,
   "metadata": {},
   "outputs": [
    {
     "name": "stdout",
     "output_type": "stream",
     "text": [
      "Using TensorFlow backend\n"
     ]
    }
   ],
   "source": [
    "import pandas as pd\n",
    "import numpy as np\n",
    "import matplotlib.pyplot as plt\n",
    "from sklearn.preprocessing import LabelBinarizer, OneHotEncoder, MultiLabelBinarizer, StandardScaler, LabelEncoder\n",
    "from sklearn.model_selection import train_test_split\n",
    "from sklearn.pipeline import make_pipeline\n",
    "from sklearn.compose import ColumnTransformer\n",
    "from sklearn.feature_extraction.text import CountVectorizer\n",
    "import tensorflow as tf\n",
    "from tensorflow.keras.preprocessing.text import Tokenizer\n",
    "from tensorflow.keras.preprocessing.sequence import pad_sequences\n",
    "from tensorflow.keras.callbacks import EarlyStopping\n",
    "from tensorflow.keras.metrics import MeanSquaredError, Accuracy, MeanAbsoluteError\n",
    "from tensorflow.keras import models, layers\n",
    "from tensorflow.keras.layers import Dense, Concatenate, Input, Dropout,  LSTM, Flatten, Embedding\n",
    "from tensorflow.keras.models import Sequential, Model\n",
    "from tensorflow.keras.regularizers import l1_l2\n",
    "from keras.models import Sequential\n",
    "import keras_nlp\n",
    "from gensim.models import Word2Vec\n",
    "from nltk.tokenize import word_tokenize\n"
   ]
  },
  {
   "cell_type": "code",
   "execution_count": 2,
   "metadata": {},
   "outputs": [
    {
     "data": {
      "text/html": [
       "<div>\n",
       "<style scoped>\n",
       "    .dataframe tbody tr th:only-of-type {\n",
       "        vertical-align: middle;\n",
       "    }\n",
       "\n",
       "    .dataframe tbody tr th {\n",
       "        vertical-align: top;\n",
       "    }\n",
       "\n",
       "    .dataframe thead th {\n",
       "        text-align: right;\n",
       "    }\n",
       "</style>\n",
       "<table border=\"1\" class=\"dataframe\">\n",
       "  <thead>\n",
       "    <tr style=\"text-align: right;\">\n",
       "      <th></th>\n",
       "      <th>cmc</th>\n",
       "      <th>colors</th>\n",
       "      <th>legendary</th>\n",
       "      <th>types</th>\n",
       "      <th>sub_types</th>\n",
       "      <th>oracle_text</th>\n",
       "      <th>keywords</th>\n",
       "      <th>power</th>\n",
       "      <th>toughness</th>\n",
       "      <th>rarity</th>\n",
       "      <th>reserved</th>\n",
       "      <th>released_at</th>\n",
       "      <th>booster</th>\n",
       "      <th>usd</th>\n",
       "    </tr>\n",
       "  </thead>\n",
       "  <tbody>\n",
       "    <tr>\n",
       "      <th>7954</th>\n",
       "      <td>2</td>\n",
       "      <td>['W']</td>\n",
       "      <td>False</td>\n",
       "      <td>['Instant']</td>\n",
       "      <td>['none']</td>\n",
       "      <td>Prevent all damage that would be dealt to crea...</td>\n",
       "      <td>['no keywords']</td>\n",
       "      <td>0</td>\n",
       "      <td>0</td>\n",
       "      <td>common</td>\n",
       "      <td>False</td>\n",
       "      <td>5175</td>\n",
       "      <td>True</td>\n",
       "      <td>0.08</td>\n",
       "    </tr>\n",
       "    <tr>\n",
       "      <th>5214</th>\n",
       "      <td>5</td>\n",
       "      <td>['G']</td>\n",
       "      <td>False</td>\n",
       "      <td>['Creature']</td>\n",
       "      <td>['Phyrexian', 'Wurm']</td>\n",
       "      <td>Trample As an additional cost to cast green pe...</td>\n",
       "      <td>['Trample']</td>\n",
       "      <td>6</td>\n",
       "      <td>6</td>\n",
       "      <td>rare</td>\n",
       "      <td>False</td>\n",
       "      <td>10509</td>\n",
       "      <td>True</td>\n",
       "      <td>2.34</td>\n",
       "    </tr>\n",
       "    <tr>\n",
       "      <th>13657</th>\n",
       "      <td>2</td>\n",
       "      <td>['G']</td>\n",
       "      <td>False</td>\n",
       "      <td>['Creature']</td>\n",
       "      <td>['Human', 'Wizard']</td>\n",
       "      <td>2: Target red or white creature gains trample ...</td>\n",
       "      <td>['no keywords']</td>\n",
       "      <td>2</td>\n",
       "      <td>1</td>\n",
       "      <td>uncommon</td>\n",
       "      <td>False</td>\n",
       "      <td>4972</td>\n",
       "      <td>True</td>\n",
       "      <td>0.08</td>\n",
       "    </tr>\n",
       "    <tr>\n",
       "      <th>3335</th>\n",
       "      <td>3</td>\n",
       "      <td>['G', 'W']</td>\n",
       "      <td>False</td>\n",
       "      <td>['Creature']</td>\n",
       "      <td>['Centaur', 'Cleric']</td>\n",
       "      <td>When Centaur Healer enters the battlefield, yo...</td>\n",
       "      <td>['no keywords']</td>\n",
       "      <td>3</td>\n",
       "      <td>3</td>\n",
       "      <td>common</td>\n",
       "      <td>False</td>\n",
       "      <td>8955</td>\n",
       "      <td>True</td>\n",
       "      <td>0.03</td>\n",
       "    </tr>\n",
       "    <tr>\n",
       "      <th>18336</th>\n",
       "      <td>4</td>\n",
       "      <td>['W']</td>\n",
       "      <td>False</td>\n",
       "      <td>['Creature']</td>\n",
       "      <td>['Human', 'Scout']</td>\n",
       "      <td>Outlast 1White</td>\n",
       "      <td>['Outlast']</td>\n",
       "      <td>2</td>\n",
       "      <td>5</td>\n",
       "      <td>common</td>\n",
       "      <td>False</td>\n",
       "      <td>7604</td>\n",
       "      <td>True</td>\n",
       "      <td>0.02</td>\n",
       "    </tr>\n",
       "  </tbody>\n",
       "</table>\n",
       "</div>"
      ],
      "text/plain": [
       "       cmc      colors  legendary         types              sub_types  \\\n",
       "7954     2       ['W']      False   ['Instant']               ['none']   \n",
       "5214     5       ['G']      False  ['Creature']  ['Phyrexian', 'Wurm']   \n",
       "13657    2       ['G']      False  ['Creature']    ['Human', 'Wizard']   \n",
       "3335     3  ['G', 'W']      False  ['Creature']  ['Centaur', 'Cleric']   \n",
       "18336    4       ['W']      False  ['Creature']     ['Human', 'Scout']   \n",
       "\n",
       "                                             oracle_text         keywords  \\\n",
       "7954   Prevent all damage that would be dealt to crea...  ['no keywords']   \n",
       "5214   Trample As an additional cost to cast green pe...      ['Trample']   \n",
       "13657  2: Target red or white creature gains trample ...  ['no keywords']   \n",
       "3335   When Centaur Healer enters the battlefield, yo...  ['no keywords']   \n",
       "18336                                    Outlast 1White       ['Outlast']   \n",
       "\n",
       "       power  toughness    rarity  reserved  released_at  booster   usd  \n",
       "7954       0          0    common     False         5175     True  0.08  \n",
       "5214       6          6      rare     False        10509     True  2.34  \n",
       "13657      2          1  uncommon     False         4972     True  0.08  \n",
       "3335       3          3    common     False         8955     True  0.03  \n",
       "18336      2          5    common     False         7604     True  0.02  "
      ]
     },
     "execution_count": 2,
     "metadata": {},
     "output_type": "execute_result"
    }
   ],
   "source": [
    "df = pd.read_csv('../data/clean_cards.csv')\n",
    "df.sample(5)"
   ]
  },
  {
   "cell_type": "code",
   "execution_count": 3,
   "metadata": {},
   "outputs": [
    {
     "name": "stdout",
     "output_type": "stream",
     "text": [
      "<class 'pandas.core.frame.DataFrame'>\n",
      "RangeIndex: 25545 entries, 0 to 25544\n",
      "Data columns (total 14 columns):\n",
      " #   Column       Non-Null Count  Dtype  \n",
      "---  ------       --------------  -----  \n",
      " 0   cmc          25545 non-null  int64  \n",
      " 1   colors       25545 non-null  object \n",
      " 2   legendary    25545 non-null  bool   \n",
      " 3   types        25545 non-null  object \n",
      " 4   sub_types    25545 non-null  object \n",
      " 5   oracle_text  25523 non-null  object \n",
      " 6   keywords     25545 non-null  object \n",
      " 7   power        25545 non-null  int64  \n",
      " 8   toughness    25545 non-null  int64  \n",
      " 9   rarity       25545 non-null  object \n",
      " 10  reserved     25545 non-null  bool   \n",
      " 11  released_at  25545 non-null  int64  \n",
      " 12  booster      25545 non-null  bool   \n",
      " 13  usd          25489 non-null  float64\n",
      "dtypes: bool(3), float64(1), int64(4), object(6)\n",
      "memory usage: 2.2+ MB\n"
     ]
    }
   ],
   "source": [
    "df.info()"
   ]
  },
  {
   "cell_type": "code",
   "execution_count": 4,
   "metadata": {},
   "outputs": [
    {
     "data": {
      "text/html": [
       "<div>\n",
       "<style scoped>\n",
       "    .dataframe tbody tr th:only-of-type {\n",
       "        vertical-align: middle;\n",
       "    }\n",
       "\n",
       "    .dataframe tbody tr th {\n",
       "        vertical-align: top;\n",
       "    }\n",
       "\n",
       "    .dataframe thead th {\n",
       "        text-align: right;\n",
       "    }\n",
       "</style>\n",
       "<table border=\"1\" class=\"dataframe\">\n",
       "  <thead>\n",
       "    <tr style=\"text-align: right;\">\n",
       "      <th></th>\n",
       "      <th>oracle_text</th>\n",
       "      <th>usd</th>\n",
       "    </tr>\n",
       "  </thead>\n",
       "  <tbody>\n",
       "    <tr>\n",
       "      <th>0</th>\n",
       "      <td>Equipped creature gets +2/+2.  Equip 3</td>\n",
       "      <td>0.02</td>\n",
       "    </tr>\n",
       "    <tr>\n",
       "      <th>1</th>\n",
       "      <td>Flying When Aarakocra Sneak enters the battlef...</td>\n",
       "      <td>0.06</td>\n",
       "    </tr>\n",
       "    <tr>\n",
       "      <th>2</th>\n",
       "      <td>Trample Mark of Chaos Ascendant — During your ...</td>\n",
       "      <td>2.81</td>\n",
       "    </tr>\n",
       "  </tbody>\n",
       "</table>\n",
       "</div>"
      ],
      "text/plain": [
       "                                         oracle_text   usd\n",
       "0            Equipped creature gets +2/+2.  Equip 3   0.02\n",
       "1  Flying When Aarakocra Sneak enters the battlef...  0.06\n",
       "2  Trample Mark of Chaos Ascendant — During your ...  2.81"
      ]
     },
     "execution_count": 4,
     "metadata": {},
     "output_type": "execute_result"
    }
   ],
   "source": [
    "df = df[['oracle_text', 'usd']]\n",
    "df.head(3)"
   ]
  },
  {
   "cell_type": "code",
   "execution_count": 5,
   "metadata": {},
   "outputs": [],
   "source": [
    "df = df.dropna(subset=['oracle_text', 'usd'])\n",
    "df = df.reset_index(drop=True)"
   ]
  },
  {
   "cell_type": "code",
   "execution_count": 6,
   "metadata": {},
   "outputs": [
    {
     "data": {
      "text/plain": [
       "(oracle_text\n",
       " False    25476\n",
       " Name: count, dtype: int64,\n",
       " usd\n",
       " False    25476\n",
       " Name: count, dtype: int64)"
      ]
     },
     "execution_count": 6,
     "metadata": {},
     "output_type": "execute_result"
    }
   ],
   "source": [
    "df['oracle_text'].isna().value_counts(), df['usd'].isna().value_counts()"
   ]
  },
  {
   "cell_type": "code",
   "execution_count": 7,
   "metadata": {},
   "outputs": [],
   "source": [
    "X, y = df['oracle_text'], df['usd']"
   ]
  },
  {
   "cell_type": "code",
   "execution_count": 8,
   "metadata": {},
   "outputs": [],
   "source": [
    "tokenizer = Tokenizer()\n",
    "tokenizer.fit_on_texts(X)\n",
    "total_words = len(tokenizer.word_index) + 1"
   ]
  },
  {
   "cell_type": "code",
   "execution_count": 9,
   "metadata": {},
   "outputs": [],
   "source": [
    "X = tokenizer.texts_to_sequences(X)\n",
    "\n",
    "max_sequence_length = max([len(seq) for seq in X])\n",
    "X = pad_sequences(X, maxlen=max_sequence_length, padding='pre')"
   ]
  },
  {
   "cell_type": "code",
   "execution_count": 10,
   "metadata": {},
   "outputs": [],
   "source": [
    "X_train, X_test, y_train, y_test = train_test_split(X, y, test_size=0.2, random_state=42)"
   ]
  },
  {
   "cell_type": "code",
   "execution_count": 11,
   "metadata": {},
   "outputs": [],
   "source": [
    "def build_model():\n",
    "\n",
    "    metrics = [MeanAbsoluteError()]\n",
    "\n",
    "    model = Sequential()\n",
    "    model.add(Embedding(input_dim=total_words, output_dim=150, input_length=max_sequence_length))\n",
    "    model.add(LSTM(150))\n",
    "    model.add(Dense(64, activation='relu'))\n",
    "    model.add(Dense(64, activation='relu', kernel_regularizer=l1_l2(0.01)))\n",
    "    model.add(Dense(32, activation='relu', kernel_regularizer=l1_l2(0.01)))\n",
    "    model.add(Dense(16, activation='relu'))\n",
    "    model.add(Dense(16, activation='relu'))\n",
    "\n",
    "    model.add(Dense(1, activation='linear'))\n",
    "\n",
    "    model.compile(optimizer='adam', loss='mse', metrics=metrics)\n",
    "\n",
    "    return model\n"
   ]
  },
  {
   "cell_type": "code",
   "execution_count": 12,
   "metadata": {},
   "outputs": [],
   "source": [
    "model = build_model()"
   ]
  },
  {
   "cell_type": "code",
   "execution_count": 13,
   "metadata": {},
   "outputs": [],
   "source": [
    "def get_history():\n",
    "    es = EarlyStopping(patience=10, restore_best_weights=True)\n",
    "\n",
    "\n",
    "    history = model.fit(\n",
    "        X_train,\n",
    "        y_train,\n",
    "        epochs=100,\n",
    "        validation_data=(X_test, y_test),\n",
    "        callbacks=[es],\n",
    "        verbose=1,\n",
    "        workers=4,\n",
    "        use_multiprocessing=True\n",
    "    )\n",
    "\n",
    "    return history"
   ]
  },
  {
   "cell_type": "code",
   "execution_count": 14,
   "metadata": {},
   "outputs": [
    {
     "name": "stdout",
     "output_type": "stream",
     "text": [
      "Epoch 1/100\n",
      "637/637 [==============================] - 96s 148ms/step - loss: 1530.3091 - mean_absolute_error: 3.8639 - val_loss: 3508.2324 - val_mean_absolute_error: 4.0949\n",
      "Epoch 2/100\n",
      "637/637 [==============================] - 81s 128ms/step - loss: 1525.9735 - mean_absolute_error: 3.6459 - val_loss: 3503.4165 - val_mean_absolute_error: 4.6605\n",
      "Epoch 3/100\n",
      "637/637 [==============================] - 89s 139ms/step - loss: 1517.0326 - mean_absolute_error: 3.8480 - val_loss: 3509.5989 - val_mean_absolute_error: 4.4095\n",
      "Epoch 4/100\n",
      "637/637 [==============================] - 1145s 2s/step - loss: 1505.7631 - mean_absolute_error: 3.9263 - val_loss: 3516.6104 - val_mean_absolute_error: 4.2183\n",
      "Epoch 5/100\n",
      "637/637 [==============================] - 1363s 2s/step - loss: 1485.6469 - mean_absolute_error: 3.8054 - val_loss: 3533.9924 - val_mean_absolute_error: 4.6250\n",
      "Epoch 6/100\n",
      "637/637 [==============================] - 96s 150ms/step - loss: 1435.1980 - mean_absolute_error: 3.8715 - val_loss: 3548.1621 - val_mean_absolute_error: 4.1288\n",
      "Epoch 7/100\n",
      "637/637 [==============================] - 147s 232ms/step - loss: 1449.9532 - mean_absolute_error: 3.7984 - val_loss: 3622.6636 - val_mean_absolute_error: 4.6455\n",
      "Epoch 8/100\n",
      "637/637 [==============================] - 137s 215ms/step - loss: 1294.8921 - mean_absolute_error: 3.6489 - val_loss: 3591.9915 - val_mean_absolute_error: 4.4684\n",
      "Epoch 9/100\n",
      "637/637 [==============================] - 135s 212ms/step - loss: 1126.4749 - mean_absolute_error: 3.6611 - val_loss: 3750.8372 - val_mean_absolute_error: 5.0337\n",
      "Epoch 10/100\n",
      "637/637 [==============================] - 144s 225ms/step - loss: 829.5367 - mean_absolute_error: 3.4527 - val_loss: 7729.0532 - val_mean_absolute_error: 6.7237\n",
      "Epoch 11/100\n",
      "637/637 [==============================] - 146s 230ms/step - loss: 622.6893 - mean_absolute_error: 3.3025 - val_loss: 6269.9390 - val_mean_absolute_error: 6.1401\n",
      "Epoch 12/100\n",
      "637/637 [==============================] - 144s 226ms/step - loss: 463.0482 - mean_absolute_error: 3.1554 - val_loss: 5611.4312 - val_mean_absolute_error: 5.5868\n"
     ]
    },
    {
     "data": {
      "text/plain": [
       "<keras.src.callbacks.History at 0x29258b610>"
      ]
     },
     "execution_count": 14,
     "metadata": {},
     "output_type": "execute_result"
    }
   ],
   "source": [
    "get_history()"
   ]
  },
  {
   "cell_type": "code",
   "execution_count": 16,
   "metadata": {},
   "outputs": [
    {
     "name": "stdout",
     "output_type": "stream",
     "text": [
      "160/160 [==============================] - 5s 29ms/step - loss: 3503.4165 - mean_absolute_error: 4.6533\n"
     ]
    },
    {
     "data": {
      "text/plain": [
       "[3503.41650390625, 4.65326452255249]"
      ]
     },
     "execution_count": 16,
     "metadata": {},
     "output_type": "execute_result"
    }
   ],
   "source": [
    "model.evaluate(X_test, np.array(y_test))"
   ]
  },
  {
   "cell_type": "code",
   "execution_count": null,
   "metadata": {},
   "outputs": [],
   "source": []
  }
 ],
 "metadata": {
  "kernelspec": {
   "display_name": ".venv",
   "language": "python",
   "name": "python3"
  },
  "language_info": {
   "codemirror_mode": {
    "name": "ipython",
    "version": 3
   },
   "file_extension": ".py",
   "mimetype": "text/x-python",
   "name": "python",
   "nbconvert_exporter": "python",
   "pygments_lexer": "ipython3",
   "version": "3.10.6"
  }
 },
 "nbformat": 4,
 "nbformat_minor": 2
}
