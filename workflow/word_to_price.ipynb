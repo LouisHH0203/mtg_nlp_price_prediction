{
 "cells": [
  {
   "cell_type": "code",
   "execution_count": 67,
   "metadata": {},
   "outputs": [],
   "source": [
    "import pandas as pd\n",
    "import numpy as np\n",
    "import matplotlib.pyplot as plt\n",
    "from sklearn.preprocessing import LabelBinarizer, OneHotEncoder, MultiLabelBinarizer, StandardScaler, LabelEncoder\n",
    "from sklearn.model_selection import train_test_split\n",
    "from sklearn.pipeline import make_pipeline\n",
    "from sklearn.compose import ColumnTransformer\n",
    "from sklearn.feature_extraction.text import CountVectorizer\n",
    "import tensorflow as tf\n",
    "from tensorflow.keras.preprocessing.text import Tokenizer\n",
    "from tensorflow.keras.preprocessing.sequence import pad_sequences\n",
    "from tensorflow.keras.callbacks import EarlyStopping\n",
    "from tensorflow.keras.metrics import MeanSquaredError, Accuracy, MeanAbsoluteError\n",
    "from tensorflow.keras import models, layers\n",
    "from tensorflow.keras.layers import Dense, Concatenate, Input, Dropout,  LSTM, Flatten, Embedding\n",
    "from tensorflow.keras.models import Sequential, Model\n",
    "from tensorflow.keras.regularizers import l1_l2\n",
    "from keras.models import Sequential\n",
    "import keras_nlp\n",
    "from gensim.models import Word2Vec\n",
    "from nltk.tokenize import word_tokenize\n"
   ]
  },
  {
   "cell_type": "code",
   "execution_count": 68,
   "metadata": {},
   "outputs": [
    {
     "data": {
      "text/html": [
       "<div>\n",
       "<style scoped>\n",
       "    .dataframe tbody tr th:only-of-type {\n",
       "        vertical-align: middle;\n",
       "    }\n",
       "\n",
       "    .dataframe tbody tr th {\n",
       "        vertical-align: top;\n",
       "    }\n",
       "\n",
       "    .dataframe thead th {\n",
       "        text-align: right;\n",
       "    }\n",
       "</style>\n",
       "<table border=\"1\" class=\"dataframe\">\n",
       "  <thead>\n",
       "    <tr style=\"text-align: right;\">\n",
       "      <th></th>\n",
       "      <th>cmc</th>\n",
       "      <th>colors</th>\n",
       "      <th>legendary</th>\n",
       "      <th>types</th>\n",
       "      <th>sub_types</th>\n",
       "      <th>oracle_text</th>\n",
       "      <th>keywords</th>\n",
       "      <th>power</th>\n",
       "      <th>toughness</th>\n",
       "      <th>rarity</th>\n",
       "      <th>reserved</th>\n",
       "      <th>released_at</th>\n",
       "      <th>booster</th>\n",
       "      <th>usd</th>\n",
       "    </tr>\n",
       "  </thead>\n",
       "  <tbody>\n",
       "    <tr>\n",
       "      <th>5078</th>\n",
       "      <td>4</td>\n",
       "      <td>['B']</td>\n",
       "      <td>False</td>\n",
       "      <td>['Creature']</td>\n",
       "      <td>['Tiefling', 'Cleric']</td>\n",
       "      <td>Skeletons, Vampires, and Zombies you control g...</td>\n",
       "      <td>['no keywords']</td>\n",
       "      <td>2</td>\n",
       "      <td>2</td>\n",
       "      <td>uncommon</td>\n",
       "      <td>False</td>\n",
       "      <td>10096</td>\n",
       "      <td>True</td>\n",
       "      <td>0.12</td>\n",
       "    </tr>\n",
       "    <tr>\n",
       "      <th>1246</th>\n",
       "      <td>1</td>\n",
       "      <td>['G']</td>\n",
       "      <td>False</td>\n",
       "      <td>['Sorcery']</td>\n",
       "      <td>['none']</td>\n",
       "      <td>Search your library for a basic land card, rev...</td>\n",
       "      <td>['no keywords']</td>\n",
       "      <td>0</td>\n",
       "      <td>0</td>\n",
       "      <td>common</td>\n",
       "      <td>False</td>\n",
       "      <td>8339</td>\n",
       "      <td>True</td>\n",
       "      <td>0.05</td>\n",
       "    </tr>\n",
       "    <tr>\n",
       "      <th>22579</th>\n",
       "      <td>1</td>\n",
       "      <td>['C']</td>\n",
       "      <td>False</td>\n",
       "      <td>['Artifact']</td>\n",
       "      <td>['none']</td>\n",
       "      <td>Whenever a player casts a black spell, you may...</td>\n",
       "      <td>['no keywords']</td>\n",
       "      <td>0</td>\n",
       "      <td>0</td>\n",
       "      <td>uncommon</td>\n",
       "      <td>False</td>\n",
       "      <td>3526</td>\n",
       "      <td>True</td>\n",
       "      <td>0.10</td>\n",
       "    </tr>\n",
       "    <tr>\n",
       "      <th>18182</th>\n",
       "      <td>6</td>\n",
       "      <td>['G', 'R']</td>\n",
       "      <td>True</td>\n",
       "      <td>['Creature']</td>\n",
       "      <td>['Ogre', 'Warrior']</td>\n",
       "      <td>Vigilance, reach Ruric Thar, the Unbowed attac...</td>\n",
       "      <td>['Reach', 'Vigilance']</td>\n",
       "      <td>6</td>\n",
       "      <td>6</td>\n",
       "      <td>rare</td>\n",
       "      <td>False</td>\n",
       "      <td>10446</td>\n",
       "      <td>True</td>\n",
       "      <td>0.25</td>\n",
       "    </tr>\n",
       "    <tr>\n",
       "      <th>19001</th>\n",
       "      <td>3</td>\n",
       "      <td>['W']</td>\n",
       "      <td>False</td>\n",
       "      <td>['Creature']</td>\n",
       "      <td>['Elephant', 'Soldier']</td>\n",
       "      <td>5Green: Regenerate Selesnya Sentry.</td>\n",
       "      <td>['no keywords']</td>\n",
       "      <td>3</td>\n",
       "      <td>2</td>\n",
       "      <td>common</td>\n",
       "      <td>False</td>\n",
       "      <td>6883</td>\n",
       "      <td>True</td>\n",
       "      <td>0.01</td>\n",
       "    </tr>\n",
       "  </tbody>\n",
       "</table>\n",
       "</div>"
      ],
      "text/plain": [
       "       cmc      colors  legendary         types                sub_types  \\\n",
       "5078     4       ['B']      False  ['Creature']   ['Tiefling', 'Cleric']   \n",
       "1246     1       ['G']      False   ['Sorcery']                 ['none']   \n",
       "22579    1       ['C']      False  ['Artifact']                 ['none']   \n",
       "18182    6  ['G', 'R']       True  ['Creature']      ['Ogre', 'Warrior']   \n",
       "19001    3       ['W']      False  ['Creature']  ['Elephant', 'Soldier']   \n",
       "\n",
       "                                             oracle_text  \\\n",
       "5078   Skeletons, Vampires, and Zombies you control g...   \n",
       "1246   Search your library for a basic land card, rev...   \n",
       "22579  Whenever a player casts a black spell, you may...   \n",
       "18182  Vigilance, reach Ruric Thar, the Unbowed attac...   \n",
       "19001               5Green: Regenerate Selesnya Sentry.    \n",
       "\n",
       "                     keywords  power  toughness    rarity  reserved  \\\n",
       "5078          ['no keywords']      2          2  uncommon     False   \n",
       "1246          ['no keywords']      0          0    common     False   \n",
       "22579         ['no keywords']      0          0  uncommon     False   \n",
       "18182  ['Reach', 'Vigilance']      6          6      rare     False   \n",
       "19001         ['no keywords']      3          2    common     False   \n",
       "\n",
       "       released_at  booster   usd  \n",
       "5078         10096     True  0.12  \n",
       "1246          8339     True  0.05  \n",
       "22579         3526     True  0.10  \n",
       "18182        10446     True  0.25  \n",
       "19001         6883     True  0.01  "
      ]
     },
     "execution_count": 68,
     "metadata": {},
     "output_type": "execute_result"
    }
   ],
   "source": [
    "df = pd.read_csv('../data/clean_cards.csv')\n",
    "df.sample(5)"
   ]
  },
  {
   "cell_type": "code",
   "execution_count": 69,
   "metadata": {},
   "outputs": [
    {
     "name": "stdout",
     "output_type": "stream",
     "text": [
      "<class 'pandas.core.frame.DataFrame'>\n",
      "RangeIndex: 25545 entries, 0 to 25544\n",
      "Data columns (total 14 columns):\n",
      " #   Column       Non-Null Count  Dtype  \n",
      "---  ------       --------------  -----  \n",
      " 0   cmc          25545 non-null  int64  \n",
      " 1   colors       25545 non-null  object \n",
      " 2   legendary    25545 non-null  bool   \n",
      " 3   types        25545 non-null  object \n",
      " 4   sub_types    25545 non-null  object \n",
      " 5   oracle_text  25523 non-null  object \n",
      " 6   keywords     25545 non-null  object \n",
      " 7   power        25545 non-null  int64  \n",
      " 8   toughness    25545 non-null  int64  \n",
      " 9   rarity       25545 non-null  object \n",
      " 10  reserved     25545 non-null  bool   \n",
      " 11  released_at  25545 non-null  int64  \n",
      " 12  booster      25545 non-null  bool   \n",
      " 13  usd          25489 non-null  float64\n",
      "dtypes: bool(3), float64(1), int64(4), object(6)\n",
      "memory usage: 2.2+ MB\n"
     ]
    }
   ],
   "source": [
    "df.info()"
   ]
  },
  {
   "cell_type": "code",
   "execution_count": 70,
   "metadata": {},
   "outputs": [
    {
     "data": {
      "text/html": [
       "<div>\n",
       "<style scoped>\n",
       "    .dataframe tbody tr th:only-of-type {\n",
       "        vertical-align: middle;\n",
       "    }\n",
       "\n",
       "    .dataframe tbody tr th {\n",
       "        vertical-align: top;\n",
       "    }\n",
       "\n",
       "    .dataframe thead th {\n",
       "        text-align: right;\n",
       "    }\n",
       "</style>\n",
       "<table border=\"1\" class=\"dataframe\">\n",
       "  <thead>\n",
       "    <tr style=\"text-align: right;\">\n",
       "      <th></th>\n",
       "      <th>oracle_text</th>\n",
       "      <th>usd</th>\n",
       "    </tr>\n",
       "  </thead>\n",
       "  <tbody>\n",
       "    <tr>\n",
       "      <th>0</th>\n",
       "      <td>Equipped creature gets +2/+2.  Equip 3</td>\n",
       "      <td>0.02</td>\n",
       "    </tr>\n",
       "    <tr>\n",
       "      <th>1</th>\n",
       "      <td>Flying When Aarakocra Sneak enters the battlef...</td>\n",
       "      <td>0.06</td>\n",
       "    </tr>\n",
       "    <tr>\n",
       "      <th>2</th>\n",
       "      <td>Trample Mark of Chaos Ascendant — During your ...</td>\n",
       "      <td>2.81</td>\n",
       "    </tr>\n",
       "  </tbody>\n",
       "</table>\n",
       "</div>"
      ],
      "text/plain": [
       "                                         oracle_text   usd\n",
       "0            Equipped creature gets +2/+2.  Equip 3   0.02\n",
       "1  Flying When Aarakocra Sneak enters the battlef...  0.06\n",
       "2  Trample Mark of Chaos Ascendant — During your ...  2.81"
      ]
     },
     "execution_count": 70,
     "metadata": {},
     "output_type": "execute_result"
    }
   ],
   "source": [
    "df = df[['oracle_text', 'usd']]\n",
    "df.head(3)"
   ]
  },
  {
   "cell_type": "code",
   "execution_count": 71,
   "metadata": {},
   "outputs": [],
   "source": [
    "df = df.dropna(subset=['oracle_text', 'usd'])\n",
    "df = df.reset_index(drop=True)"
   ]
  },
  {
   "cell_type": "code",
   "execution_count": 72,
   "metadata": {},
   "outputs": [
    {
     "data": {
      "text/plain": [
       "(oracle_text\n",
       " False    25476\n",
       " Name: count, dtype: int64,\n",
       " usd\n",
       " False    25476\n",
       " Name: count, dtype: int64)"
      ]
     },
     "execution_count": 72,
     "metadata": {},
     "output_type": "execute_result"
    }
   ],
   "source": [
    "df['oracle_text'].isna().value_counts(), df['usd'].isna().value_counts()"
   ]
  },
  {
   "cell_type": "code",
   "execution_count": 73,
   "metadata": {},
   "outputs": [],
   "source": [
    "X, y = df['oracle_text'], df['usd']"
   ]
  },
  {
   "cell_type": "code",
   "execution_count": 74,
   "metadata": {},
   "outputs": [],
   "source": [
    "tokenizer = Tokenizer()\n",
    "tokenizer.fit_on_texts(X)\n",
    "total_words = len(tokenizer.word_index) + 1"
   ]
  },
  {
   "cell_type": "code",
   "execution_count": 75,
   "metadata": {},
   "outputs": [],
   "source": [
    "X = tokenizer.texts_to_sequences(X)\n",
    "\n",
    "max_sequence_length = max([len(seq) for seq in X])\n",
    "X = pad_sequences(X, maxlen=max_sequence_length, padding='pre')"
   ]
  },
  {
   "cell_type": "code",
   "execution_count": 76,
   "metadata": {},
   "outputs": [],
   "source": [
    "X_train, X_test, y_train, y_test = train_test_split(X, y, test_size=0.2, random_state=42)"
   ]
  },
  {
   "cell_type": "code",
   "execution_count": 77,
   "metadata": {},
   "outputs": [],
   "source": [
    "def build_model():\n",
    "\n",
    "    metrics = [Accuracy(), MeanAbsoluteError()]\n",
    "\n",
    "    model = Sequential()\n",
    "    model.add(Embedding(input_dim=total_words, output_dim=100, input_length=max_sequence_length))\n",
    "    model.add(LSTM(100))\n",
    "    model.add(Dense(64, activation='relu'))\n",
    "    model.add(Dropout(0.1))\n",
    "    model.add(Dense(32, activation='relu'))\n",
    "    model.add(Dropout(0.1))\n",
    "    model.add(Dense(16, activation='relu'))\n",
    "\n",
    "    model.add(Dense(1, activation='linear'))\n",
    "\n",
    "    model.compile(optimizer='adam', loss='mse', metrics=metrics)\n",
    "\n",
    "    return model\n"
   ]
  },
  {
   "cell_type": "code",
   "execution_count": 78,
   "metadata": {},
   "outputs": [],
   "source": [
    "model = build_model()"
   ]
  },
  {
   "cell_type": "code",
   "execution_count": 82,
   "metadata": {},
   "outputs": [],
   "source": [
    "def get_history():\n",
    "    es = EarlyStopping(patience=10, restore_best_weights=False)\n",
    "\n",
    "\n",
    "    history = model.fit(\n",
    "        X_train,\n",
    "        y_train,\n",
    "        epochs=100,\n",
    "        batch_size=512,\n",
    "        validation_data=(X_test, y_test),\n",
    "        callbacks=[es],\n",
    "        verbose=1\n",
    "    )\n",
    "\n",
    "    return history"
   ]
  },
  {
   "cell_type": "code",
   "execution_count": 83,
   "metadata": {},
   "outputs": [
    {
     "name": "stdout",
     "output_type": "stream",
     "text": [
      "Epoch 1/100\n",
      "40/40 [==============================] - ETA: 0s - loss: 1524.3447 - accuracy: 0.0000e+00 - mean_absolute_error: 4.1892"
     ]
    }
   ],
   "source": [
    "get_history()"
   ]
  },
  {
   "cell_type": "code",
   "execution_count": 66,
   "metadata": {},
   "outputs": [
    {
     "name": "stdout",
     "output_type": "stream",
     "text": [
      "160/160 [==============================] - 4s 19ms/step - loss: 4861.3428 - mae: 4.4798\n"
     ]
    },
    {
     "data": {
      "text/plain": [
       "[4861.3427734375, 4.4798479080200195]"
      ]
     },
     "execution_count": 66,
     "metadata": {},
     "output_type": "execute_result"
    }
   ],
   "source": [
    "model.evaluate(X_test, np.array(y_test))"
   ]
  },
  {
   "cell_type": "code",
   "execution_count": null,
   "metadata": {},
   "outputs": [],
   "source": []
  }
 ],
 "metadata": {
  "kernelspec": {
   "display_name": ".venv",
   "language": "python",
   "name": "python3"
  },
  "language_info": {
   "codemirror_mode": {
    "name": "ipython",
    "version": 3
   },
   "file_extension": ".py",
   "mimetype": "text/x-python",
   "name": "python",
   "nbconvert_exporter": "python",
   "pygments_lexer": "ipython3",
   "version": "3.10.6"
  }
 },
 "nbformat": 4,
 "nbformat_minor": 2
}
